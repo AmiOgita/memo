{
  "nbformat": 4,
  "nbformat_minor": 0,
  "metadata": {
    "colab": {
      "name": "semseg_trial1.ipynb",
      "provenance": [],
      "mount_file_id": "1OaraQ5waBunWYaWEsYdOrQLX0C3teKB-",
      "authorship_tag": "ABX9TyMiYzBouyp24kYUU6s58U3n",
      "include_colab_link": true
    },
    "kernelspec": {
      "name": "python3",
      "display_name": "Python 3"
    },
    "language_info": {
      "name": "python"
    },
    "widgets": {
      "application/vnd.jupyter.widget-state+json": {
        "662c08d1eeea487bbe0ac1a3a77d1dae": {
          "model_module": "@jupyter-widgets/controls",
          "model_name": "HBoxModel",
          "state": {
            "_view_name": "HBoxView",
            "_dom_classes": [],
            "_model_name": "HBoxModel",
            "_view_module": "@jupyter-widgets/controls",
            "_model_module_version": "1.5.0",
            "_view_count": null,
            "_view_module_version": "1.5.0",
            "box_style": "",
            "layout": "IPY_MODEL_18c0fd6aa9474d6cb67cafdc3f1fb0c5",
            "_model_module": "@jupyter-widgets/controls",
            "children": [
              "IPY_MODEL_712ccd583ede412684a935bf773030bb",
              "IPY_MODEL_dcfd8efdc936422ab1f24576948798e7"
            ]
          }
        },
        "18c0fd6aa9474d6cb67cafdc3f1fb0c5": {
          "model_module": "@jupyter-widgets/base",
          "model_name": "LayoutModel",
          "state": {
            "_view_name": "LayoutView",
            "grid_template_rows": null,
            "right": null,
            "justify_content": null,
            "_view_module": "@jupyter-widgets/base",
            "overflow": null,
            "_model_module_version": "1.2.0",
            "_view_count": null,
            "flex_flow": null,
            "width": null,
            "min_width": null,
            "border": null,
            "align_items": null,
            "bottom": null,
            "_model_module": "@jupyter-widgets/base",
            "top": null,
            "grid_column": null,
            "overflow_y": null,
            "overflow_x": null,
            "grid_auto_flow": null,
            "grid_area": null,
            "grid_template_columns": null,
            "flex": null,
            "_model_name": "LayoutModel",
            "justify_items": null,
            "grid_row": null,
            "max_height": null,
            "align_content": null,
            "visibility": null,
            "align_self": null,
            "height": null,
            "min_height": null,
            "padding": null,
            "grid_auto_rows": null,
            "grid_gap": null,
            "max_width": null,
            "order": null,
            "_view_module_version": "1.2.0",
            "grid_template_areas": null,
            "object_position": null,
            "object_fit": null,
            "grid_auto_columns": null,
            "margin": null,
            "display": null,
            "left": null
          }
        },
        "712ccd583ede412684a935bf773030bb": {
          "model_module": "@jupyter-widgets/controls",
          "model_name": "FloatProgressModel",
          "state": {
            "_view_name": "ProgressView",
            "style": "IPY_MODEL_9e3a173678ff4f688253074705068ee3",
            "_dom_classes": [],
            "description": "100%",
            "_model_name": "FloatProgressModel",
            "bar_style": "success",
            "max": 258,
            "_view_module": "@jupyter-widgets/controls",
            "_model_module_version": "1.5.0",
            "value": 258,
            "_view_count": null,
            "_view_module_version": "1.5.0",
            "orientation": "horizontal",
            "min": 0,
            "description_tooltip": null,
            "_model_module": "@jupyter-widgets/controls",
            "layout": "IPY_MODEL_502d6283a6f64afa8c071f696190d3ef"
          }
        },
        "dcfd8efdc936422ab1f24576948798e7": {
          "model_module": "@jupyter-widgets/controls",
          "model_name": "HTMLModel",
          "state": {
            "_view_name": "HTMLView",
            "style": "IPY_MODEL_93a6e6534a50418fa6d9b8f53fa64fda",
            "_dom_classes": [],
            "description": "",
            "_model_name": "HTMLModel",
            "placeholder": "​",
            "_view_module": "@jupyter-widgets/controls",
            "_model_module_version": "1.5.0",
            "value": " 258/258 [06:22&lt;00:00,  1.48s/it]",
            "_view_count": null,
            "_view_module_version": "1.5.0",
            "description_tooltip": null,
            "_model_module": "@jupyter-widgets/controls",
            "layout": "IPY_MODEL_361b097395284a3f9d7d4288aa7423d8"
          }
        },
        "9e3a173678ff4f688253074705068ee3": {
          "model_module": "@jupyter-widgets/controls",
          "model_name": "ProgressStyleModel",
          "state": {
            "_view_name": "StyleView",
            "_model_name": "ProgressStyleModel",
            "description_width": "initial",
            "_view_module": "@jupyter-widgets/base",
            "_model_module_version": "1.5.0",
            "_view_count": null,
            "_view_module_version": "1.2.0",
            "bar_color": null,
            "_model_module": "@jupyter-widgets/controls"
          }
        },
        "502d6283a6f64afa8c071f696190d3ef": {
          "model_module": "@jupyter-widgets/base",
          "model_name": "LayoutModel",
          "state": {
            "_view_name": "LayoutView",
            "grid_template_rows": null,
            "right": null,
            "justify_content": null,
            "_view_module": "@jupyter-widgets/base",
            "overflow": null,
            "_model_module_version": "1.2.0",
            "_view_count": null,
            "flex_flow": null,
            "width": null,
            "min_width": null,
            "border": null,
            "align_items": null,
            "bottom": null,
            "_model_module": "@jupyter-widgets/base",
            "top": null,
            "grid_column": null,
            "overflow_y": null,
            "overflow_x": null,
            "grid_auto_flow": null,
            "grid_area": null,
            "grid_template_columns": null,
            "flex": null,
            "_model_name": "LayoutModel",
            "justify_items": null,
            "grid_row": null,
            "max_height": null,
            "align_content": null,
            "visibility": null,
            "align_self": null,
            "height": null,
            "min_height": null,
            "padding": null,
            "grid_auto_rows": null,
            "grid_gap": null,
            "max_width": null,
            "order": null,
            "_view_module_version": "1.2.0",
            "grid_template_areas": null,
            "object_position": null,
            "object_fit": null,
            "grid_auto_columns": null,
            "margin": null,
            "display": null,
            "left": null
          }
        },
        "93a6e6534a50418fa6d9b8f53fa64fda": {
          "model_module": "@jupyter-widgets/controls",
          "model_name": "DescriptionStyleModel",
          "state": {
            "_view_name": "StyleView",
            "_model_name": "DescriptionStyleModel",
            "description_width": "",
            "_view_module": "@jupyter-widgets/base",
            "_model_module_version": "1.5.0",
            "_view_count": null,
            "_view_module_version": "1.2.0",
            "_model_module": "@jupyter-widgets/controls"
          }
        },
        "361b097395284a3f9d7d4288aa7423d8": {
          "model_module": "@jupyter-widgets/base",
          "model_name": "LayoutModel",
          "state": {
            "_view_name": "LayoutView",
            "grid_template_rows": null,
            "right": null,
            "justify_content": null,
            "_view_module": "@jupyter-widgets/base",
            "overflow": null,
            "_model_module_version": "1.2.0",
            "_view_count": null,
            "flex_flow": null,
            "width": null,
            "min_width": null,
            "border": null,
            "align_items": null,
            "bottom": null,
            "_model_module": "@jupyter-widgets/base",
            "top": null,
            "grid_column": null,
            "overflow_y": null,
            "overflow_x": null,
            "grid_auto_flow": null,
            "grid_area": null,
            "grid_template_columns": null,
            "flex": null,
            "_model_name": "LayoutModel",
            "justify_items": null,
            "grid_row": null,
            "max_height": null,
            "align_content": null,
            "visibility": null,
            "align_self": null,
            "height": null,
            "min_height": null,
            "padding": null,
            "grid_auto_rows": null,
            "grid_gap": null,
            "max_width": null,
            "order": null,
            "_view_module_version": "1.2.0",
            "grid_template_areas": null,
            "object_position": null,
            "object_fit": null,
            "grid_auto_columns": null,
            "margin": null,
            "display": null,
            "left": null
          }
        },
        "1a863fb31c5642518e3b70b7d9ae940c": {
          "model_module": "@jupyter-widgets/controls",
          "model_name": "HBoxModel",
          "state": {
            "_view_name": "HBoxView",
            "_dom_classes": [],
            "_model_name": "HBoxModel",
            "_view_module": "@jupyter-widgets/controls",
            "_model_module_version": "1.5.0",
            "_view_count": null,
            "_view_module_version": "1.5.0",
            "box_style": "",
            "layout": "IPY_MODEL_5b8cca082f704038a4f933b20bfbc79a",
            "_model_module": "@jupyter-widgets/controls",
            "children": [
              "IPY_MODEL_b0c5c9b65e294a939dfc4312c479877f",
              "IPY_MODEL_572839693e5b4139946cb563b802d0ac"
            ]
          }
        },
        "5b8cca082f704038a4f933b20bfbc79a": {
          "model_module": "@jupyter-widgets/base",
          "model_name": "LayoutModel",
          "state": {
            "_view_name": "LayoutView",
            "grid_template_rows": null,
            "right": null,
            "justify_content": null,
            "_view_module": "@jupyter-widgets/base",
            "overflow": null,
            "_model_module_version": "1.2.0",
            "_view_count": null,
            "flex_flow": null,
            "width": null,
            "min_width": null,
            "border": null,
            "align_items": null,
            "bottom": null,
            "_model_module": "@jupyter-widgets/base",
            "top": null,
            "grid_column": null,
            "overflow_y": null,
            "overflow_x": null,
            "grid_auto_flow": null,
            "grid_area": null,
            "grid_template_columns": null,
            "flex": null,
            "_model_name": "LayoutModel",
            "justify_items": null,
            "grid_row": null,
            "max_height": null,
            "align_content": null,
            "visibility": null,
            "align_self": null,
            "height": null,
            "min_height": null,
            "padding": null,
            "grid_auto_rows": null,
            "grid_gap": null,
            "max_width": null,
            "order": null,
            "_view_module_version": "1.2.0",
            "grid_template_areas": null,
            "object_position": null,
            "object_fit": null,
            "grid_auto_columns": null,
            "margin": null,
            "display": null,
            "left": null
          }
        },
        "b0c5c9b65e294a939dfc4312c479877f": {
          "model_module": "@jupyter-widgets/controls",
          "model_name": "FloatProgressModel",
          "state": {
            "_view_name": "ProgressView",
            "style": "IPY_MODEL_6d8680c5b1984f3b9fe302e15062727c",
            "_dom_classes": [],
            "description": "100%",
            "_model_name": "FloatProgressModel",
            "bar_style": "success",
            "max": 83,
            "_view_module": "@jupyter-widgets/controls",
            "_model_module_version": "1.5.0",
            "value": 83,
            "_view_count": null,
            "_view_module_version": "1.5.0",
            "orientation": "horizontal",
            "min": 0,
            "description_tooltip": null,
            "_model_module": "@jupyter-widgets/controls",
            "layout": "IPY_MODEL_e4f6c593ef38452c8afd1e59c57e0e08"
          }
        },
        "572839693e5b4139946cb563b802d0ac": {
          "model_module": "@jupyter-widgets/controls",
          "model_name": "HTMLModel",
          "state": {
            "_view_name": "HTMLView",
            "style": "IPY_MODEL_1f12fefc31564bbc85dcec07cc2afc92",
            "_dom_classes": [],
            "description": "",
            "_model_name": "HTMLModel",
            "placeholder": "​",
            "_view_module": "@jupyter-widgets/controls",
            "_model_module_version": "1.5.0",
            "value": " 83/83 [02:36&lt;00:00,  1.89s/it]",
            "_view_count": null,
            "_view_module_version": "1.5.0",
            "description_tooltip": null,
            "_model_module": "@jupyter-widgets/controls",
            "layout": "IPY_MODEL_66e2adfe798e42858782ebb913d4e735"
          }
        },
        "6d8680c5b1984f3b9fe302e15062727c": {
          "model_module": "@jupyter-widgets/controls",
          "model_name": "ProgressStyleModel",
          "state": {
            "_view_name": "StyleView",
            "_model_name": "ProgressStyleModel",
            "description_width": "initial",
            "_view_module": "@jupyter-widgets/base",
            "_model_module_version": "1.5.0",
            "_view_count": null,
            "_view_module_version": "1.2.0",
            "bar_color": null,
            "_model_module": "@jupyter-widgets/controls"
          }
        },
        "e4f6c593ef38452c8afd1e59c57e0e08": {
          "model_module": "@jupyter-widgets/base",
          "model_name": "LayoutModel",
          "state": {
            "_view_name": "LayoutView",
            "grid_template_rows": null,
            "right": null,
            "justify_content": null,
            "_view_module": "@jupyter-widgets/base",
            "overflow": null,
            "_model_module_version": "1.2.0",
            "_view_count": null,
            "flex_flow": null,
            "width": null,
            "min_width": null,
            "border": null,
            "align_items": null,
            "bottom": null,
            "_model_module": "@jupyter-widgets/base",
            "top": null,
            "grid_column": null,
            "overflow_y": null,
            "overflow_x": null,
            "grid_auto_flow": null,
            "grid_area": null,
            "grid_template_columns": null,
            "flex": null,
            "_model_name": "LayoutModel",
            "justify_items": null,
            "grid_row": null,
            "max_height": null,
            "align_content": null,
            "visibility": null,
            "align_self": null,
            "height": null,
            "min_height": null,
            "padding": null,
            "grid_auto_rows": null,
            "grid_gap": null,
            "max_width": null,
            "order": null,
            "_view_module_version": "1.2.0",
            "grid_template_areas": null,
            "object_position": null,
            "object_fit": null,
            "grid_auto_columns": null,
            "margin": null,
            "display": null,
            "left": null
          }
        },
        "1f12fefc31564bbc85dcec07cc2afc92": {
          "model_module": "@jupyter-widgets/controls",
          "model_name": "DescriptionStyleModel",
          "state": {
            "_view_name": "StyleView",
            "_model_name": "DescriptionStyleModel",
            "description_width": "",
            "_view_module": "@jupyter-widgets/base",
            "_model_module_version": "1.5.0",
            "_view_count": null,
            "_view_module_version": "1.2.0",
            "_model_module": "@jupyter-widgets/controls"
          }
        },
        "66e2adfe798e42858782ebb913d4e735": {
          "model_module": "@jupyter-widgets/base",
          "model_name": "LayoutModel",
          "state": {
            "_view_name": "LayoutView",
            "grid_template_rows": null,
            "right": null,
            "justify_content": null,
            "_view_module": "@jupyter-widgets/base",
            "overflow": null,
            "_model_module_version": "1.2.0",
            "_view_count": null,
            "flex_flow": null,
            "width": null,
            "min_width": null,
            "border": null,
            "align_items": null,
            "bottom": null,
            "_model_module": "@jupyter-widgets/base",
            "top": null,
            "grid_column": null,
            "overflow_y": null,
            "overflow_x": null,
            "grid_auto_flow": null,
            "grid_area": null,
            "grid_template_columns": null,
            "flex": null,
            "_model_name": "LayoutModel",
            "justify_items": null,
            "grid_row": null,
            "max_height": null,
            "align_content": null,
            "visibility": null,
            "align_self": null,
            "height": null,
            "min_height": null,
            "padding": null,
            "grid_auto_rows": null,
            "grid_gap": null,
            "max_width": null,
            "order": null,
            "_view_module_version": "1.2.0",
            "grid_template_areas": null,
            "object_position": null,
            "object_fit": null,
            "grid_auto_columns": null,
            "margin": null,
            "display": null,
            "left": null
          }
        },
        "e886c8c2a0f948379fcb10c91cb75219": {
          "model_module": "@jupyter-widgets/controls",
          "model_name": "HBoxModel",
          "state": {
            "_view_name": "HBoxView",
            "_dom_classes": [],
            "_model_name": "HBoxModel",
            "_view_module": "@jupyter-widgets/controls",
            "_model_module_version": "1.5.0",
            "_view_count": null,
            "_view_module_version": "1.5.0",
            "box_style": "",
            "layout": "IPY_MODEL_a7c25002905b48288452b788ef82ca17",
            "_model_module": "@jupyter-widgets/controls",
            "children": [
              "IPY_MODEL_b2cd87586cea4a81be0d2e1e46894f41",
              "IPY_MODEL_04b91ab25a244cf4ac335d38b375e6fb"
            ]
          }
        },
        "a7c25002905b48288452b788ef82ca17": {
          "model_module": "@jupyter-widgets/base",
          "model_name": "LayoutModel",
          "state": {
            "_view_name": "LayoutView",
            "grid_template_rows": null,
            "right": null,
            "justify_content": null,
            "_view_module": "@jupyter-widgets/base",
            "overflow": null,
            "_model_module_version": "1.2.0",
            "_view_count": null,
            "flex_flow": null,
            "width": null,
            "min_width": null,
            "border": null,
            "align_items": null,
            "bottom": null,
            "_model_module": "@jupyter-widgets/base",
            "top": null,
            "grid_column": null,
            "overflow_y": null,
            "overflow_x": null,
            "grid_auto_flow": null,
            "grid_area": null,
            "grid_template_columns": null,
            "flex": null,
            "_model_name": "LayoutModel",
            "justify_items": null,
            "grid_row": null,
            "max_height": null,
            "align_content": null,
            "visibility": null,
            "align_self": null,
            "height": null,
            "min_height": null,
            "padding": null,
            "grid_auto_rows": null,
            "grid_gap": null,
            "max_width": null,
            "order": null,
            "_view_module_version": "1.2.0",
            "grid_template_areas": null,
            "object_position": null,
            "object_fit": null,
            "grid_auto_columns": null,
            "margin": null,
            "display": null,
            "left": null
          }
        },
        "b2cd87586cea4a81be0d2e1e46894f41": {
          "model_module": "@jupyter-widgets/controls",
          "model_name": "FloatProgressModel",
          "state": {
            "_view_name": "ProgressView",
            "style": "IPY_MODEL_f15a93fc7d9f40208eb3fe16fbbfc5c6",
            "_dom_classes": [],
            "description": "100%",
            "_model_name": "FloatProgressModel",
            "bar_style": "success",
            "max": 69,
            "_view_module": "@jupyter-widgets/controls",
            "_model_module_version": "1.5.0",
            "value": 69,
            "_view_count": null,
            "_view_module_version": "1.5.0",
            "orientation": "horizontal",
            "min": 0,
            "description_tooltip": null,
            "_model_module": "@jupyter-widgets/controls",
            "layout": "IPY_MODEL_512e34bfbe00436c82dc0d4e9c1b1317"
          }
        },
        "04b91ab25a244cf4ac335d38b375e6fb": {
          "model_module": "@jupyter-widgets/controls",
          "model_name": "HTMLModel",
          "state": {
            "_view_name": "HTMLView",
            "style": "IPY_MODEL_48fdbcb872a24182a984d46c89e581d8",
            "_dom_classes": [],
            "description": "",
            "_model_name": "HTMLModel",
            "placeholder": "​",
            "_view_module": "@jupyter-widgets/controls",
            "_model_module_version": "1.5.0",
            "value": " 69/69 [00:59&lt;00:00,  1.16it/s]",
            "_view_count": null,
            "_view_module_version": "1.5.0",
            "description_tooltip": null,
            "_model_module": "@jupyter-widgets/controls",
            "layout": "IPY_MODEL_08a17cab57e142d087f8bd3be8334d92"
          }
        },
        "f15a93fc7d9f40208eb3fe16fbbfc5c6": {
          "model_module": "@jupyter-widgets/controls",
          "model_name": "ProgressStyleModel",
          "state": {
            "_view_name": "StyleView",
            "_model_name": "ProgressStyleModel",
            "description_width": "initial",
            "_view_module": "@jupyter-widgets/base",
            "_model_module_version": "1.5.0",
            "_view_count": null,
            "_view_module_version": "1.2.0",
            "bar_color": null,
            "_model_module": "@jupyter-widgets/controls"
          }
        },
        "512e34bfbe00436c82dc0d4e9c1b1317": {
          "model_module": "@jupyter-widgets/base",
          "model_name": "LayoutModel",
          "state": {
            "_view_name": "LayoutView",
            "grid_template_rows": null,
            "right": null,
            "justify_content": null,
            "_view_module": "@jupyter-widgets/base",
            "overflow": null,
            "_model_module_version": "1.2.0",
            "_view_count": null,
            "flex_flow": null,
            "width": null,
            "min_width": null,
            "border": null,
            "align_items": null,
            "bottom": null,
            "_model_module": "@jupyter-widgets/base",
            "top": null,
            "grid_column": null,
            "overflow_y": null,
            "overflow_x": null,
            "grid_auto_flow": null,
            "grid_area": null,
            "grid_template_columns": null,
            "flex": null,
            "_model_name": "LayoutModel",
            "justify_items": null,
            "grid_row": null,
            "max_height": null,
            "align_content": null,
            "visibility": null,
            "align_self": null,
            "height": null,
            "min_height": null,
            "padding": null,
            "grid_auto_rows": null,
            "grid_gap": null,
            "max_width": null,
            "order": null,
            "_view_module_version": "1.2.0",
            "grid_template_areas": null,
            "object_position": null,
            "object_fit": null,
            "grid_auto_columns": null,
            "margin": null,
            "display": null,
            "left": null
          }
        },
        "48fdbcb872a24182a984d46c89e581d8": {
          "model_module": "@jupyter-widgets/controls",
          "model_name": "DescriptionStyleModel",
          "state": {
            "_view_name": "StyleView",
            "_model_name": "DescriptionStyleModel",
            "description_width": "",
            "_view_module": "@jupyter-widgets/base",
            "_model_module_version": "1.5.0",
            "_view_count": null,
            "_view_module_version": "1.2.0",
            "_model_module": "@jupyter-widgets/controls"
          }
        },
        "08a17cab57e142d087f8bd3be8334d92": {
          "model_module": "@jupyter-widgets/base",
          "model_name": "LayoutModel",
          "state": {
            "_view_name": "LayoutView",
            "grid_template_rows": null,
            "right": null,
            "justify_content": null,
            "_view_module": "@jupyter-widgets/base",
            "overflow": null,
            "_model_module_version": "1.2.0",
            "_view_count": null,
            "flex_flow": null,
            "width": null,
            "min_width": null,
            "border": null,
            "align_items": null,
            "bottom": null,
            "_model_module": "@jupyter-widgets/base",
            "top": null,
            "grid_column": null,
            "overflow_y": null,
            "overflow_x": null,
            "grid_auto_flow": null,
            "grid_area": null,
            "grid_template_columns": null,
            "flex": null,
            "_model_name": "LayoutModel",
            "justify_items": null,
            "grid_row": null,
            "max_height": null,
            "align_content": null,
            "visibility": null,
            "align_self": null,
            "height": null,
            "min_height": null,
            "padding": null,
            "grid_auto_rows": null,
            "grid_gap": null,
            "max_width": null,
            "order": null,
            "_view_module_version": "1.2.0",
            "grid_template_areas": null,
            "object_position": null,
            "object_fit": null,
            "grid_auto_columns": null,
            "margin": null,
            "display": null,
            "left": null
          }
        }
      }
    },
    "accelerator": "GPU"
  },
  "cells": [
    {
      "cell_type": "markdown",
      "metadata": {
        "id": "view-in-github",
        "colab_type": "text"
      },
      "source": [
        "<a href=\"https://colab.research.google.com/github/AmiOgita/memo/blob/main/semseg_trial0727.ipynb\" target=\"_parent\"><img src=\"https://colab.research.google.com/assets/colab-badge.svg\" alt=\"Open In Colab\"/></a>"
      ]
    },
    {
      "cell_type": "code",
      "metadata": {
        "id": "f79P3YFape6z"
      },
      "source": [
        "import pandas as pd\n",
        "import numpy as np\n",
        "import matplotlib.pyplot as plt\n",
        "%matplotlib inline\n",
        "\n",
        "import os\n",
        "from glob import glob\n",
        "import sys\n",
        "import random\n",
        "\n",
        "from tqdm import tqdm_notebook\n",
        "from skimage.io import imread, imshow\n",
        "from skimage.transform import resize\n",
        "import imageio\n",
        "\n",
        "import torch\n",
        "import torch.nn as nn\n",
        "import torch.nn.functional as F\n",
        "import torchvision.datasets as dsets\n",
        "from torch.autograd import Variable\n",
        "from torch.utils.data import DataLoader\n",
        "from torch.utils.data import Dataset \n",
        "import torch.optim as optim\n",
        "import torchvision.transforms as transforms\n",
        "import torchvision.transforms.functional as TF\n",
        "\n",
        "import cv2"
      ],
      "execution_count": 11,
      "outputs": []
    },
    {
      "cell_type": "code",
      "metadata": {
        "colab": {
          "base_uri": "https://localhost:8080/"
        },
        "id": "MBgmD0mCf_Rk",
        "outputId": "769a150e-0dff-4839-ec36-5c79f1b8e3d0"
      },
      "source": [
        "device = torch.device('cuda' if torch.cuda.is_available() else 'cpu')\n",
        "print(device)\n",
        "\n",
        "torch.manual_seed(42)"
      ],
      "execution_count": 2,
      "outputs": [
        {
          "output_type": "stream",
          "text": [
            "cuda\n"
          ],
          "name": "stdout"
        },
        {
          "output_type": "execute_result",
          "data": {
            "text/plain": [
              "<torch._C.Generator at 0x7f5dad82c790>"
            ]
          },
          "metadata": {
            "tags": []
          },
          "execution_count": 2
        }
      ]
    },
    {
      "cell_type": "code",
      "metadata": {
        "id": "gFk4znKtYKBL"
      },
      "source": [
        "im_width = 512\n",
        "im_height = 512\n",
        "im_chan = 3"
      ],
      "execution_count": 3,
      "outputs": []
    },
    {
      "cell_type": "code",
      "metadata": {
        "id": "FaDe2pyEcWTY"
      },
      "source": [
        "path_train = '/content/drive/MyDrive/train'\n",
        "path_test = '/content/drive/MyDrive/test'\n",
        "path_valid = '/content/drive/MyDrive/validation'\n",
        "\n",
        "train_path_images = os.path.abspath(path_train + \"/images/\")\n",
        "train_path_masks = os.path.abspath(path_train + \"/masks/\")\n",
        "\n",
        "test_path_images = os.path.abspath(path_test + \"/images/\")\n",
        "test_path_masks = os.path.abspath(path_test + \"/masks/\")\n",
        "\n",
        "valid_path_images = os.path.abspath(path_valid + \"/images/\")\n",
        "valid_path_masks = os.path.abspath(path_valid + \"/masks/\")"
      ],
      "execution_count": 4,
      "outputs": []
    },
    {
      "cell_type": "code",
      "metadata": {
        "id": "XHcqWkFddwXp"
      },
      "source": [
        "train_path_images_list = glob(os.path.join(train_path_images, \"*.tif\"))\n",
        "train_path_masks_list = glob(os.path.join(train_path_masks, \"*.tif\"))\n",
        "test_path_images_list = glob(os.path.join(test_path_images, \"*.tif\"))\n",
        "test_path_masks_list = glob(os.path.join(test_path_masks, \"*.tif\"))\n",
        "valid_path_images_list = glob(os.path.join(valid_path_images, \"*.tif\"))\n",
        "valid_path_masks_list = glob(os.path.join(valid_path_masks, \"*.tif\"))"
      ],
      "execution_count": 5,
      "outputs": []
    },
    {
      "cell_type": "code",
      "metadata": {
        "id": "o450AsVWd1rg"
      },
      "source": [
        "train_ids = next(os.walk(train_path_images))[2]\n",
        "test_ids = next(os.walk(test_path_images))[2]\n",
        "valid_ids = next(os.walk(valid_path_images))[2]"
      ],
      "execution_count": 6,
      "outputs": []
    },
    {
      "cell_type": "code",
      "metadata": {
        "colab": {
          "base_uri": "https://localhost:8080/",
          "height": 171,
          "referenced_widgets": [
            "662c08d1eeea487bbe0ac1a3a77d1dae",
            "18c0fd6aa9474d6cb67cafdc3f1fb0c5",
            "712ccd583ede412684a935bf773030bb",
            "dcfd8efdc936422ab1f24576948798e7",
            "9e3a173678ff4f688253074705068ee3",
            "502d6283a6f64afa8c071f696190d3ef",
            "93a6e6534a50418fa6d9b8f53fa64fda",
            "361b097395284a3f9d7d4288aa7423d8"
          ]
        },
        "id": "DOiSSB7qd9jS",
        "outputId": "ed5483d4-3c6e-4b4e-a704-e1fcffdafa38"
      },
      "source": [
        "X_train = np.zeros((len(train_ids), im_height, im_width, im_chan), dtype=np.uint8)\n",
        "Y_train = np.zeros((len(train_ids), im_height, im_width), dtype=np.bool_)\n",
        "\n",
        "print('Getting training data...')\n",
        "\n",
        "sys.stdout.flush()\n",
        "for n, id_ in tqdm_notebook(enumerate(train_ids), total=len(train_ids)):\n",
        "    img = cv2.imread(path_train + '/images/' + id_)\n",
        "    X_train[n] = img\n",
        "    \n",
        "    mask = cv2.imread(path_train + '/masks/' + id_)\n",
        "    mask = cv2.cvtColor(mask, cv2.COLOR_BGR2GRAY)\n",
        "    ret,mask = cv2.threshold(mask,0,255,cv2.THRESH_BINARY+cv2.THRESH_OTSU)\n",
        "    mask = mask/255\n",
        "    Y_train[n] = mask\n",
        "    \n",
        "print('Done!')"
      ],
      "execution_count": 7,
      "outputs": [
        {
          "output_type": "stream",
          "text": [
            "Getting training data...\n"
          ],
          "name": "stdout"
        },
        {
          "output_type": "stream",
          "text": [
            "/usr/local/lib/python3.7/dist-packages/ipykernel_launcher.py:7: TqdmDeprecationWarning: This function will be removed in tqdm==5.0.0\n",
            "Please use `tqdm.notebook.tqdm` instead of `tqdm.tqdm_notebook`\n",
            "  import sys\n"
          ],
          "name": "stderr"
        },
        {
          "output_type": "display_data",
          "data": {
            "application/vnd.jupyter.widget-view+json": {
              "model_id": "662c08d1eeea487bbe0ac1a3a77d1dae",
              "version_minor": 0,
              "version_major": 2
            },
            "text/plain": [
              "HBox(children=(FloatProgress(value=0.0, max=258.0), HTML(value='')))"
            ]
          },
          "metadata": {
            "tags": []
          }
        },
        {
          "output_type": "stream",
          "text": [
            "\n",
            "Done!\n"
          ],
          "name": "stdout"
        }
      ]
    },
    {
      "cell_type": "code",
      "metadata": {
        "colab": {
          "base_uri": "https://localhost:8080/",
          "height": 171,
          "referenced_widgets": [
            "1a863fb31c5642518e3b70b7d9ae940c",
            "5b8cca082f704038a4f933b20bfbc79a",
            "b0c5c9b65e294a939dfc4312c479877f",
            "572839693e5b4139946cb563b802d0ac",
            "6d8680c5b1984f3b9fe302e15062727c",
            "e4f6c593ef38452c8afd1e59c57e0e08",
            "1f12fefc31564bbc85dcec07cc2afc92",
            "66e2adfe798e42858782ebb913d4e735"
          ]
        },
        "id": "FEQ7UMdKeSoz",
        "outputId": "f3a0892c-fea2-407c-de57-6d6d67298220"
      },
      "source": [
        "X_test = np.zeros((len(test_ids), im_height, im_width, im_chan), dtype=np.uint8)\n",
        "Y_test = np.zeros((len(test_ids), im_height, im_width), dtype=np.bool_)\n",
        "\n",
        "print('Getting testing data...')\n",
        "\n",
        "sys.stdout.flush()\n",
        "for n, id_ in tqdm_notebook(enumerate(test_ids), total=len(test_ids)):\n",
        "    img = cv2.imread(path_test + '/images/' + id_)\n",
        "    X_test[n] = img\n",
        "    \n",
        "    mask = cv2.imread(path_test + '/masks/' + id_)\n",
        "    mask = cv2.cvtColor(mask, cv2.COLOR_BGR2GRAY)\n",
        "    ret,mask = cv2.threshold(mask,0,255,cv2.THRESH_BINARY+cv2.THRESH_OTSU)\n",
        "    mask = np.resize(mask,(512,512))\n",
        "    mask = mask/255\n",
        "    Y_test[n] = mask\n",
        "    \n",
        "print('Done!')"
      ],
      "execution_count": 8,
      "outputs": [
        {
          "output_type": "stream",
          "text": [
            "Getting testing data...\n"
          ],
          "name": "stdout"
        },
        {
          "output_type": "stream",
          "text": [
            "/usr/local/lib/python3.7/dist-packages/ipykernel_launcher.py:7: TqdmDeprecationWarning: This function will be removed in tqdm==5.0.0\n",
            "Please use `tqdm.notebook.tqdm` instead of `tqdm.tqdm_notebook`\n",
            "  import sys\n"
          ],
          "name": "stderr"
        },
        {
          "output_type": "display_data",
          "data": {
            "application/vnd.jupyter.widget-view+json": {
              "model_id": "1a863fb31c5642518e3b70b7d9ae940c",
              "version_minor": 0,
              "version_major": 2
            },
            "text/plain": [
              "HBox(children=(FloatProgress(value=0.0, max=83.0), HTML(value='')))"
            ]
          },
          "metadata": {
            "tags": []
          }
        },
        {
          "output_type": "stream",
          "text": [
            "\n",
            "Done!\n"
          ],
          "name": "stdout"
        }
      ]
    },
    {
      "cell_type": "code",
      "metadata": {
        "colab": {
          "base_uri": "https://localhost:8080/",
          "height": 171,
          "referenced_widgets": [
            "e886c8c2a0f948379fcb10c91cb75219",
            "a7c25002905b48288452b788ef82ca17",
            "b2cd87586cea4a81be0d2e1e46894f41",
            "04b91ab25a244cf4ac335d38b375e6fb",
            "f15a93fc7d9f40208eb3fe16fbbfc5c6",
            "512e34bfbe00436c82dc0d4e9c1b1317",
            "48fdbcb872a24182a984d46c89e581d8",
            "08a17cab57e142d087f8bd3be8334d92"
          ]
        },
        "id": "MJXIKiUaeOTF",
        "outputId": "0801296d-3d56-4207-cfcf-a1d8e45f5185"
      },
      "source": [
        "X_valid = np.zeros((len(valid_ids), im_height, im_width, im_chan), dtype=np.uint8)\n",
        "Y_valid = np.zeros((len(valid_ids), im_height, im_width), dtype=np.bool_)\n",
        "\n",
        "print('Getting validation data...')\n",
        "\n",
        "sys.stdout.flush()\n",
        "for n, id_ in tqdm_notebook(enumerate(valid_ids), total=len(valid_ids)):\n",
        "    img = cv2.imread(path_valid + '/images/' + id_)\n",
        "    X_valid[n] = img\n",
        "    \n",
        "    mask = cv2.imread(path_valid + '/masks/' + id_)\n",
        "    mask = cv2.cvtColor(mask, cv2.COLOR_BGR2GRAY)\n",
        "    mask = np.resize(mask,(512,512))\n",
        "    mask = mask/255\n",
        "    Y_valid[n] = mask\n",
        "\n",
        "    \n",
        "print('Done!')"
      ],
      "execution_count": 9,
      "outputs": [
        {
          "output_type": "stream",
          "text": [
            "Getting validation data...\n"
          ],
          "name": "stdout"
        },
        {
          "output_type": "stream",
          "text": [
            "/usr/local/lib/python3.7/dist-packages/ipykernel_launcher.py:7: TqdmDeprecationWarning: This function will be removed in tqdm==5.0.0\n",
            "Please use `tqdm.notebook.tqdm` instead of `tqdm.tqdm_notebook`\n",
            "  import sys\n"
          ],
          "name": "stderr"
        },
        {
          "output_type": "display_data",
          "data": {
            "application/vnd.jupyter.widget-view+json": {
              "model_id": "e886c8c2a0f948379fcb10c91cb75219",
              "version_minor": 0,
              "version_major": 2
            },
            "text/plain": [
              "HBox(children=(FloatProgress(value=0.0, max=69.0), HTML(value='')))"
            ]
          },
          "metadata": {
            "tags": []
          }
        },
        {
          "output_type": "stream",
          "text": [
            "\n",
            "Done!\n"
          ],
          "name": "stdout"
        }
      ]
    },
    {
      "cell_type": "code",
      "metadata": {
        "id": "m4-XhKWosgll"
      },
      "source": [
        "class Nuc_Seg(Dataset):\n",
        "    def __init__(self, images_np, masks_np):\n",
        "        self.images_np = images_np\n",
        "        self.masks_np = masks_np\n",
        "\n",
        "    def transform(self, image_np, mask_np):\n",
        "        ToPILImage = transforms.ToPILImage()\n",
        "        image = ToPILImage(image_np)\n",
        "        mask = ToPILImage(mask_np.astype(np.int32))\n",
        "        image = TF.to_tensor(image)\n",
        "        mask = TF.to_tensor(mask)\n",
        "        return image, mask\n",
        "        \n",
        "    def __len__(self):\n",
        "        return len(self.images_np)\n",
        "    \n",
        "    def __getitem__(self, idx):\n",
        "        image_np = self.images_np[idx]\n",
        "        mask_np = self.masks_np[idx]\n",
        "        image, mask = self.transform(image_np, mask_np)\n",
        "        return image, mask\n"
      ],
      "execution_count": 41,
      "outputs": []
    },
    {
      "cell_type": "code",
      "metadata": {
        "colab": {
          "base_uri": "https://localhost:8080/",
          "height": 286
        },
        "id": "Qp66sPN_P7MQ",
        "outputId": "c687d4d0-7cea-46e3-d1bc-a931478165d7"
      },
      "source": [
        "fig, axis = plt.subplots(2, 2)\n",
        "axis[0][0].imshow(X_train[0].astype(np.uint8))\n",
        "axis[0][1].imshow(np.squeeze(Y_train[0]).astype(np.uint8))\n",
        "axis[1][0].imshow(X_valid[0].astype(np.uint8))\n",
        "axis[1][1].imshow(np.squeeze(Y_valid[0]).astype(np.uint8))"
      ],
      "execution_count": 38,
      "outputs": [
        {
          "output_type": "execute_result",
          "data": {
            "text/plain": [
              "<matplotlib.image.AxesImage at 0x7f5d10bf37d0>"
            ]
          },
          "metadata": {
            "tags": []
          },
          "execution_count": 38
        },
        {
          "output_type": "display_data",
          "data": {
            "image/png": "[encoded data removed]",
            "text/plain": [
              "<Figure size 432x288 with 4 Axes>"
            ]
          },
          "metadata": {
            "tags": [],
            "needs_background": "light"
          }
        }
      ]
    },
    {
      "cell_type": "code",
      "metadata": {
        "id": "s5msV7xpRXTm"
      },
      "source": [
        "train_dataset = Nuc_Seg(X_train, Y_train)\n",
        "train_loader = DataLoader(train_dataset, batch_size = 16, shuffle = True)\n",
        "valid_dataset = Nuc_Seg(X_valid, Y_valid)\n",
        "valid_loader = DataLoader(valid_dataset, batch_size = 16, shuffle = True)"
      ],
      "execution_count": 42,
      "outputs": []
    },
    {
      "cell_type": "code",
      "metadata": {
        "colab": {
          "base_uri": "https://localhost:8080/",
          "height": 204
        },
        "id": "-DC6BpDqRegU",
        "outputId": "de3f1568-51e5-4349-d41a-e49e59b1b598"
      },
      "source": [
        "%matplotlib inline\n",
        "\n",
        "for ex_img, ex_mask in train_loader:\n",
        "    \n",
        "    img = np.array(TF.to_pil_image(ex_img[9]))\n",
        "    mask = np.array(TF.to_pil_image(ex_mask[9]))\n",
        "    \n",
        "    fig, (axis_1, axis_2) = plt.subplots(1, 2)\n",
        "    axis_1.imshow(img.astype(np.uint8))\n",
        "    axis_2.imshow(mask.astype(np.uint8))\n",
        "    \n",
        "    break"
      ],
      "execution_count": 46,
      "outputs": [
        {
          "output_type": "display_data",
          "data": {
            "image/png": "[encoded data removed]",
            "text/plain": [
              "<Figure size 432x288 with 2 Axes>"
            ]
          },
          "metadata": {
            "tags": [],
            "needs_background": "light"
          }
        }
      ]
    },
    {
      "cell_type": "code",
      "metadata": {
        "id": "mtFojzs2fmcT"
      },
      "source": [
        "def iou(pred, target, n_classes = 2):\n",
        "    \n",
        "    iou = []\n",
        "    pred = pred.view(-1)\n",
        "    target = target.view(-1)\n",
        "\n",
        "    # Ignore IoU for background class (\"0\")\n",
        "    for cls in range(1, n_classes):  # This goes from 1:n_classes-1 -> class \"0\" is ignored\n",
        "      pred_inds = pred == cls\n",
        "      target_inds = target == cls\n",
        "      intersection = (pred_inds[target_inds]).long().sum().data.cpu().item()  # Cast to long to prevent overflows\n",
        "      union = pred_inds.long().sum().data.cpu().item() + target_inds.long().sum().data.cpu().item() - intersection\n",
        "    \n",
        "      if union == 0:\n",
        "        iou.append(float('nan'))  # If there is no ground truth, do not include in evaluation\n",
        "      else:\n",
        "        iou.append(float(intersection) / float(max(union, 1)))\n",
        "     \n",
        "    return sum(iou)"
      ],
      "execution_count": 47,
      "outputs": []
    },
    {
      "cell_type": "code",
      "metadata": {
        "id": "ouKp8x1xfndp"
      },
      "source": [
        "def iou_metric(y_pred, y_true, n_classes = 2):\n",
        "    miou = []\n",
        "    for i in np.arange(0.5, 1.0, 0.05):\n",
        "        y_pred_ = (y_pred > i)\n",
        "        iou_init = iou(y_pred_, y_true, n_classes = n_classes)\n",
        "        miou.append(iou_init)\n",
        "    \n",
        "    return sum(miou)/len(miou)"
      ],
      "execution_count": 48,
      "outputs": []
    },
    {
      "cell_type": "code",
      "metadata": {
        "id": "nWKsYQBnfwBT"
      },
      "source": [
        "class UNet(nn.Module):\n",
        "    \n",
        "    def __init__(self):\n",
        "        super().__init__()\n",
        "        \n",
        "        self.conv1_1 = nn.Conv2d(3, 16, kernel_size = 3, padding = 1)\n",
        "        self.drop1_1 = nn.Dropout2d(0.1)\n",
        "        self.conv1_2 = nn.Conv2d(16, 16, kernel_size = 3, padding = 1)\n",
        "        \n",
        "        self.conv2_1 = nn.Conv2d(16, 32, kernel_size = 3, padding = 1)\n",
        "        self.drop2_1 = nn.Dropout2d(0.1)\n",
        "        self.conv2_2 = nn.Conv2d(32, 32, kernel_size = 3, padding = 1)\n",
        "        \n",
        "        self.conv3_1 = nn.Conv2d(32, 64, kernel_size = 3, padding = 1)\n",
        "        self.drop3_1 = nn.Dropout2d(0.2)\n",
        "        self.conv3_2 = nn.Conv2d(64, 64, kernel_size = 3, padding = 1)\n",
        "        \n",
        "        self.conv4_1 = nn.Conv2d(64, 128, kernel_size = 3, padding = 1)\n",
        "        self.drop4_1 = nn.Dropout2d(0.2)\n",
        "        self.conv4_2 = nn.Conv2d(128, 128, kernel_size = 3, padding = 1)\n",
        "        \n",
        "        self.conv5_1 = nn.Conv2d(128, 256, kernel_size = 3, padding = 1)\n",
        "        self.drop5_1 = nn.Dropout2d(0.3)\n",
        "        self.conv5_2 = nn.Conv2d(256, 256, kernel_size = 3, padding = 1)\n",
        "        \n",
        "        self.conv_trans6_1 = nn.ConvTranspose2d(256, 128, kernel_size = 2, stride = (2, 2))\n",
        "        self.conv6_1 = nn.Conv2d(256, 128, kernel_size = 3, padding = 1)\n",
        "        self.drop6_1 = nn.Dropout2d(0.2)\n",
        "        self.conv6_2 = nn.Conv2d(128, 128, kernel_size = 3, padding = 1)\n",
        "        \n",
        "        self.conv_trans7_1 = nn.ConvTranspose2d(128, 64, kernel_size = 2, stride = (2, 2))\n",
        "        self.conv7_1 = nn.Conv2d(128, 64, kernel_size = 3, padding = 1)\n",
        "        self.drop7_1 = nn.Dropout2d(0.2)\n",
        "        self.conv7_2 = nn.Conv2d(64, 64, kernel_size = 3, padding = 1)\n",
        "        \n",
        "        self.conv_trans8_1 = nn.ConvTranspose2d(64, 32, kernel_size = 2, stride = (2, 2))\n",
        "        self.conv8_1 = nn.Conv2d(64, 32, kernel_size = 3, padding = 1)\n",
        "        self.drop8_1 = nn.Dropout2d(0.1)\n",
        "        self.conv8_2 = nn.Conv2d(32, 32, kernel_size = 3, padding = 1)\n",
        "        \n",
        "        self.conv_trans9_1 = nn.ConvTranspose2d(32, 16, kernel_size = 2, stride = (2, 2))\n",
        "        self.conv9_1 = nn.Conv2d(32, 16, kernel_size = 3, padding = 1)\n",
        "        self.drop9_1 = nn.Dropout2d(0.1)\n",
        "        self.conv9_2 = nn.Conv2d(16, 16, kernel_size = 3, padding = 1)\n",
        "        \n",
        "        self.conv10 = nn.Conv2d(16, 1, kernel_size = 3, padding = 1)\n",
        "    \n",
        "    def forward(self, s):\n",
        "        \n",
        "        c1 = F.elu(self.conv1_1(s))\n",
        "        c1 = self.drop1_1(c1)\n",
        "        c1 = F.elu(self.conv1_2(c1))\n",
        "        p1 = F.max_pool2d(c1, kernel_size = (2, 2), stride = 2)\n",
        "        \n",
        "        c2 = F.elu(self.conv2_1(p1))\n",
        "        c2 = self.drop2_1(c2)\n",
        "        c2 = F.elu(self.conv2_2(c2))\n",
        "        p2 = F.max_pool2d(c2, kernel_size = (2, 2), stride = 2)\n",
        "        \n",
        "        c3 = F.elu(self.conv3_1(p2))\n",
        "        c3 = self.drop3_1(c3)\n",
        "        c3 = F.elu(self.conv3_2(c3))\n",
        "        p3 = F.max_pool2d(c3, kernel_size = (2, 2), stride = 2)\n",
        "        \n",
        "        c4 = F.elu(self.conv4_1(p3))\n",
        "        c4 = self.drop4_1(c4)\n",
        "        c4 = F.elu(self.conv4_2(c4))\n",
        "        p4 = F.max_pool2d(c4, kernel_size = (2, 2), stride = 2)\n",
        "        \n",
        "        c5 = F.elu(self.conv5_1(p4))\n",
        "        c5 = self.drop5_1(c5)\n",
        "        c5 = F.elu(self.conv5_2(c5))\n",
        "        \n",
        "        u6 = self.conv_trans6_1(c5)\n",
        "        u6 = torch.cat((u6, c4), axis = 1)\n",
        "        c6 = F.elu(self.conv6_1(u6))\n",
        "        c6 = self.drop6_1(c6)\n",
        "        c6 = F.elu(self.conv6_2(c6))\n",
        "        \n",
        "        u7 = self.conv_trans7_1(c6)\n",
        "        u7 = torch.cat((u7, c3), axis = 1)\n",
        "        c7 = F.elu(self.conv7_1(u7))\n",
        "        c7 = self.drop7_1(c7)\n",
        "        c7 = F.elu(self.conv7_2(c7))\n",
        "    \n",
        "        u8 = self.conv_trans8_1(c7)\n",
        "        u8 = torch.cat((u8, c2), axis = 1)\n",
        "        c8 = F.elu(self.conv8_1(u8))\n",
        "        c8 = self.drop8_1(c8)\n",
        "        c8 = F.elu(self.conv8_2(c8))\n",
        "        \n",
        "        u9 = self.conv_trans9_1(c8)\n",
        "        u9 = torch.cat((u9, c1), axis = 1)\n",
        "        c9 = F.elu(self.conv9_1(u9))\n",
        "        c9 = self.drop9_1(c9)\n",
        "        c9 = F.elu(self.conv9_2(c9))\n",
        "        \n",
        "        output = torch.sigmoid(self.conv10(c9))\n",
        "        \n",
        "        return output"
      ],
      "execution_count": 49,
      "outputs": []
    },
    {
      "cell_type": "code",
      "metadata": {
        "id": "0UXJXl4zfzGj"
      },
      "source": [
        "model = UNet()\n",
        "model = model.float()\n",
        "model = model.to(device)"
      ],
      "execution_count": 50,
      "outputs": []
    },
    {
      "cell_type": "code",
      "metadata": {
        "id": "yl-qIls8gGTC"
      },
      "source": [
        "opt = optim.Adam(model.parameters(), lr = 0.001)\n",
        "loss_func = nn.BCELoss()\n",
        "lr_scheduler = optim.lr_scheduler.ReduceLROnPlateau(opt, patience = 3, verbose = 1)"
      ],
      "execution_count": 51,
      "outputs": []
    },
    {
      "cell_type": "code",
      "metadata": {
        "id": "8cb3Xn-lgMEQ"
      },
      "source": [
        "def fit(model, epochs, opt, loss_func, train_loader, valid_loader, alpha):\n",
        "\n",
        "    for epoch in range(epochs):\n",
        "        \n",
        "        #Going into training mode\n",
        "        model.train()\n",
        "        \n",
        "        train_loss = 0 \n",
        "        iou = 0\n",
        "        \n",
        "        for image, mask in train_loader:\n",
        "            image = image.to(device)   #Passing the input mini-batch to the GPU\n",
        "            mask = mask.to(device)   #Passing the label mini-batch to the GPU\n",
        "            opt.zero_grad()      #Setting the grads to zero to avoid accumulation of gradients\n",
        "            out = model(image.float())\n",
        "            loss = loss_func(out.float(), mask.float())    \n",
        "            train_loss += loss\n",
        "            \n",
        "            iou += iou_metric(out, mask)\n",
        "            iou_rev = 16 - iou_metric(out, mask)\n",
        "            loss += alpha * iou_rev\n",
        "            \n",
        "            loss.backward()\n",
        "            opt.step()\n",
        "        \n",
        "        lr_scheduler.step(train_loss/len(train_loader))   #Setting up lr decay  \n",
        "        \n",
        "        model.eval()            #Going into eval mode                            \n",
        "        with torch.no_grad():   #No backprop\n",
        "            valid_loss = 0\n",
        "            valid_iou = 0\n",
        "            \n",
        "            for image_val, mask_val in valid_loader:\n",
        "                image_val = image_val.to(device)  \n",
        "                mask_val = mask_val.to(device)\n",
        "                out_val = model(image_val.float())\n",
        "                valid_loss += loss_func(out_val.float(), mask_val.float())\n",
        "                \n",
        "                valid_iou += iou_metric(out_val, mask_val)\n",
        "        \n",
        "        print(\"Epoch \", epoch + 1, \" Training Loss: \", train_loss/len(train_loader), \"CV Loss: \", valid_loss/len(valid_loader))\n",
        "        print(\"Training IoU: \", iou/len(train_loader), \"CV IoU: \", valid_iou/len(valid_loader))\n",
        "\n"
      ],
      "execution_count": 52,
      "outputs": []
    },
    {
      "cell_type": "code",
      "metadata": {
        "colab": {
          "base_uri": "https://localhost:8080/"
        },
        "id": "WcYrY1iWgRon",
        "outputId": "0fcc6768-11f8-44c0-fe89-7ce349f916bf"
      },
      "source": [
        "fit(model, 30, opt, loss_func, train_loader, valid_loader, 5)"
      ],
      "execution_count": 53,
      "outputs": [
        {
          "output_type": "stream",
          "text": [
            "Epoch  1  Training Loss:  tensor(0.4092, device='cuda:0', grad_fn=<DivBackward0>) CV Loss:  tensor(0.2765, device='cuda:0')\n",
            "Training IoU:  0.0014071686456600587 CV IoU:  0.0\n",
            "Epoch  2  Training Loss:  tensor(0.2876, device='cuda:0', grad_fn=<DivBackward0>) CV Loss:  tensor(0.2826, device='cuda:0')\n",
            "Training IoU:  0.0 CV IoU:  0.0\n",
            "Epoch  3  Training Loss:  tensor(0.2751, device='cuda:0', grad_fn=<DivBackward0>) CV Loss:  tensor(0.3020, device='cuda:0')\n",
            "Training IoU:  0.0 CV IoU:  0.0\n",
            "Epoch  4  Training Loss:  tensor(0.2685, device='cuda:0', grad_fn=<DivBackward0>) CV Loss:  tensor(0.2781, device='cuda:0')\n",
            "Training IoU:  2.5748420865748286e-06 CV IoU:  0.0\n",
            "Epoch  5  Training Loss:  tensor(0.2722, device='cuda:0', grad_fn=<DivBackward0>) CV Loss:  tensor(0.2712, device='cuda:0')\n",
            "Training IoU:  4.2761444919937265e-06 CV IoU:  5.0519083583823786e-08\n",
            "Epoch  6  Training Loss:  tensor(0.2637, device='cuda:0', grad_fn=<DivBackward0>) CV Loss:  tensor(0.3235, device='cuda:0')\n",
            "Training IoU:  8.668285116658855e-05 CV IoU:  0.0\n",
            "Epoch  7  Training Loss:  tensor(0.2572, device='cuda:0', grad_fn=<DivBackward0>) CV Loss:  tensor(0.2692, device='cuda:0')\n",
            "Training IoU:  1.9072252913576299e-06 CV IoU:  6.781661032236625e-08\n",
            "Epoch  8  Training Loss:  tensor(0.2539, device='cuda:0', grad_fn=<DivBackward0>) CV Loss:  tensor(0.2759, device='cuda:0')\n",
            "Training IoU:  0.00027548303526157283 CV IoU:  6.608690118782281e-06\n",
            "Epoch  9  Training Loss:  tensor(0.2636, device='cuda:0', grad_fn=<DivBackward0>) CV Loss:  tensor(0.2692, device='cuda:0')\n",
            "Training IoU:  0.00030238410300752834 CV IoU:  3.832389145685094e-05\n",
            "Epoch  10  Training Loss:  tensor(0.2563, device='cuda:0', grad_fn=<DivBackward0>) CV Loss:  tensor(0.2763, device='cuda:0')\n",
            "Training IoU:  0.0007021039450532402 CV IoU:  0.00010129764436193828\n",
            "Epoch  11  Training Loss:  tensor(0.2604, device='cuda:0', grad_fn=<DivBackward0>) CV Loss:  tensor(0.2549, device='cuda:0')\n",
            "Training IoU:  0.001215629416913701 CV IoU:  2.8220163617131658e-05\n",
            "Epoch    12: reducing learning rate of group 0 to 1.0000e-04.\n",
            "Epoch  12  Training Loss:  tensor(0.2566, device='cuda:0', grad_fn=<DivBackward0>) CV Loss:  tensor(0.2727, device='cuda:0')\n",
            "Training IoU:  0.001782705961367733 CV IoU:  0.0004372965870297769\n",
            "Epoch  13  Training Loss:  tensor(0.2599, device='cuda:0', grad_fn=<DivBackward0>) CV Loss:  tensor(0.2871, device='cuda:0')\n",
            "Training IoU:  0.003687369884085807 CV IoU:  0.00028721137633473854\n",
            "Epoch  14  Training Loss:  tensor(0.2564, device='cuda:0', grad_fn=<DivBackward0>) CV Loss:  tensor(0.2651, device='cuda:0')\n",
            "Training IoU:  0.00319159083627 CV IoU:  0.0003548300868346207\n",
            "Epoch  15  Training Loss:  tensor(0.2608, device='cuda:0', grad_fn=<DivBackward0>) CV Loss:  tensor(0.2626, device='cuda:0')\n",
            "Training IoU:  0.0026747935184076197 CV IoU:  0.00041195555944684533\n",
            "Epoch  16  Training Loss:  tensor(0.2475, device='cuda:0', grad_fn=<DivBackward0>) CV Loss:  tensor(0.2602, device='cuda:0')\n",
            "Training IoU:  0.0027296259478053887 CV IoU:  0.00035277516215132573\n",
            "Epoch  17  Training Loss:  tensor(0.2554, device='cuda:0', grad_fn=<DivBackward0>) CV Loss:  tensor(0.2900, device='cuda:0')\n",
            "Training IoU:  0.002903729148343265 CV IoU:  0.0003912611009255539\n",
            "Epoch  18  Training Loss:  tensor(0.2514, device='cuda:0', grad_fn=<DivBackward0>) CV Loss:  tensor(0.2539, device='cuda:0')\n",
            "Training IoU:  0.004149020946889892 CV IoU:  0.0005594011304066952\n",
            "Epoch  19  Training Loss:  tensor(0.2519, device='cuda:0', grad_fn=<DivBackward0>) CV Loss:  tensor(0.2593, device='cuda:0')\n",
            "Training IoU:  0.003639091167334688 CV IoU:  0.00044892303218778293\n",
            "Epoch    20: reducing learning rate of group 0 to 1.0000e-05.\n",
            "Epoch  20  Training Loss:  tensor(0.2638, device='cuda:0', grad_fn=<DivBackward0>) CV Loss:  tensor(0.2616, device='cuda:0')\n",
            "Training IoU:  0.003267067910944137 CV IoU:  0.00043119270849355555\n",
            "Epoch  21  Training Loss:  tensor(0.2612, device='cuda:0', grad_fn=<DivBackward0>) CV Loss:  tensor(0.2684, device='cuda:0')\n",
            "Training IoU:  0.00387151927447713 CV IoU:  0.0006018122405314723\n",
            "Epoch  22  Training Loss:  tensor(0.2580, device='cuda:0', grad_fn=<DivBackward0>) CV Loss:  tensor(0.2552, device='cuda:0')\n",
            "Training IoU:  0.0032081237486681195 CV IoU:  0.0006037541919388453\n",
            "Epoch  23  Training Loss:  tensor(0.2497, device='cuda:0', grad_fn=<DivBackward0>) CV Loss:  tensor(0.2699, device='cuda:0')\n",
            "Training IoU:  0.0035986832401997512 CV IoU:  0.0005122578955191305\n",
            "Epoch    24: reducing learning rate of group 0 to 1.0000e-06.\n",
            "Epoch  24  Training Loss:  tensor(0.2521, device='cuda:0', grad_fn=<DivBackward0>) CV Loss:  tensor(0.2572, device='cuda:0')\n",
            "Training IoU:  0.002808793163097889 CV IoU:  0.00045973265500990625\n",
            "Epoch  25  Training Loss:  tensor(0.2521, device='cuda:0', grad_fn=<DivBackward0>) CV Loss:  tensor(0.2579, device='cuda:0')\n",
            "Training IoU:  0.004138817487644855 CV IoU:  0.0015097752134159011\n",
            "Epoch  26  Training Loss:  tensor(0.2639, device='cuda:0', grad_fn=<DivBackward0>) CV Loss:  tensor(0.2918, device='cuda:0')\n",
            "Training IoU:  0.002972089509468414 CV IoU:  0.0008069726490615551\n",
            "Epoch  27  Training Loss:  tensor(0.2537, device='cuda:0', grad_fn=<DivBackward0>) CV Loss:  tensor(0.2786, device='cuda:0')\n",
            "Training IoU:  0.004505944825475315 CV IoU:  0.0008226325424473647\n",
            "Epoch    28: reducing learning rate of group 0 to 1.0000e-07.\n",
            "Epoch  28  Training Loss:  tensor(0.2493, device='cuda:0', grad_fn=<DivBackward0>) CV Loss:  tensor(0.2613, device='cuda:0')\n",
            "Training IoU:  0.003765676418648146 CV IoU:  0.0009674731594428492\n",
            "Epoch  29  Training Loss:  tensor(0.2530, device='cuda:0', grad_fn=<DivBackward0>) CV Loss:  tensor(0.2711, device='cuda:0')\n",
            "Training IoU:  0.004324310445440534 CV IoU:  0.0006560836405667479\n",
            "Epoch  30  Training Loss:  tensor(0.2503, device='cuda:0', grad_fn=<DivBackward0>) CV Loss:  tensor(0.2807, device='cuda:0')\n",
            "Training IoU:  0.004882152458864827 CV IoU:  0.0007051248444849758\n"
          ],
          "name": "stdout"
        }
      ]
    }
  ]
}