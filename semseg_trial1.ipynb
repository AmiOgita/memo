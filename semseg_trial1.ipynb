{
  "nbformat": 4,
  "nbformat_minor": 0,
  "metadata": {
    "colab": {
      "name": "semseg_trial1.ipynb",
      "provenance": [],
      "mount_file_id": "1OaraQ5waBunWYaWEsYdOrQLX0C3teKB-",
      "authorship_tag": "ABX9TyPCMaHMO9+Rg/ERxiDUOa5O",
      "include_colab_link": true
    },
    "kernelspec": {
      "name": "python3",
      "display_name": "Python 3"
    },
    "language_info": {
      "name": "python"
    },
    "accelerator": "GPU",
    "widgets": {
      "application/vnd.jupyter.widget-state+json": {
        "a1e285c8ed6d40468dd1c490235dc5b6": {
          "model_module": "@jupyter-widgets/controls",
          "model_name": "HBoxModel",
          "state": {
            "_view_name": "HBoxView",
            "_dom_classes": [],
            "_model_name": "HBoxModel",
            "_view_module": "@jupyter-widgets/controls",
            "_model_module_version": "1.5.0",
            "_view_count": null,
            "_view_module_version": "1.5.0",
            "box_style": "",
            "layout": "IPY_MODEL_99f05a7a810f442cac601a7e29613c2f",
            "_model_module": "@jupyter-widgets/controls",
            "children": [
              "IPY_MODEL_dc09ffc2478c4cf79e0c52dce79d8771",
              "IPY_MODEL_56229f471d1b4e28a6172103c1afa054"
            ]
          }
        },
        "99f05a7a810f442cac601a7e29613c2f": {
          "model_module": "@jupyter-widgets/base",
          "model_name": "LayoutModel",
          "state": {
            "_view_name": "LayoutView",
            "grid_template_rows": null,
            "right": null,
            "justify_content": null,
            "_view_module": "@jupyter-widgets/base",
            "overflow": null,
            "_model_module_version": "1.2.0",
            "_view_count": null,
            "flex_flow": null,
            "width": null,
            "min_width": null,
            "border": null,
            "align_items": null,
            "bottom": null,
            "_model_module": "@jupyter-widgets/base",
            "top": null,
            "grid_column": null,
            "overflow_y": null,
            "overflow_x": null,
            "grid_auto_flow": null,
            "grid_area": null,
            "grid_template_columns": null,
            "flex": null,
            "_model_name": "LayoutModel",
            "justify_items": null,
            "grid_row": null,
            "max_height": null,
            "align_content": null,
            "visibility": null,
            "align_self": null,
            "height": null,
            "min_height": null,
            "padding": null,
            "grid_auto_rows": null,
            "grid_gap": null,
            "max_width": null,
            "order": null,
            "_view_module_version": "1.2.0",
            "grid_template_areas": null,
            "object_position": null,
            "object_fit": null,
            "grid_auto_columns": null,
            "margin": null,
            "display": null,
            "left": null
          }
        },
        "dc09ffc2478c4cf79e0c52dce79d8771": {
          "model_module": "@jupyter-widgets/controls",
          "model_name": "FloatProgressModel",
          "state": {
            "_view_name": "ProgressView",
            "style": "IPY_MODEL_67b8fcd86c5c46b7abcd118466a45cfe",
            "_dom_classes": [],
            "description": "100%",
            "_model_name": "FloatProgressModel",
            "bar_style": "success",
            "max": 258,
            "_view_module": "@jupyter-widgets/controls",
            "_model_module_version": "1.5.0",
            "value": 258,
            "_view_count": null,
            "_view_module_version": "1.5.0",
            "orientation": "horizontal",
            "min": 0,
            "description_tooltip": null,
            "_model_module": "@jupyter-widgets/controls",
            "layout": "IPY_MODEL_0086d92044a54a6ab08b0064847fdfe2"
          }
        },
        "56229f471d1b4e28a6172103c1afa054": {
          "model_module": "@jupyter-widgets/controls",
          "model_name": "HTMLModel",
          "state": {
            "_view_name": "HTMLView",
            "style": "IPY_MODEL_ad693e12743643ecb15039eb703b3ee9",
            "_dom_classes": [],
            "description": "",
            "_model_name": "HTMLModel",
            "placeholder": "​",
            "_view_module": "@jupyter-widgets/controls",
            "_model_module_version": "1.5.0",
            "value": " 258/258 [08:32&lt;00:00,  1.99s/it]",
            "_view_count": null,
            "_view_module_version": "1.5.0",
            "description_tooltip": null,
            "_model_module": "@jupyter-widgets/controls",
            "layout": "IPY_MODEL_74b206c1237c445aa5f199a0de2a2a5b"
          }
        },
        "67b8fcd86c5c46b7abcd118466a45cfe": {
          "model_module": "@jupyter-widgets/controls",
          "model_name": "ProgressStyleModel",
          "state": {
            "_view_name": "StyleView",
            "_model_name": "ProgressStyleModel",
            "description_width": "initial",
            "_view_module": "@jupyter-widgets/base",
            "_model_module_version": "1.5.0",
            "_view_count": null,
            "_view_module_version": "1.2.0",
            "bar_color": null,
            "_model_module": "@jupyter-widgets/controls"
          }
        },
        "0086d92044a54a6ab08b0064847fdfe2": {
          "model_module": "@jupyter-widgets/base",
          "model_name": "LayoutModel",
          "state": {
            "_view_name": "LayoutView",
            "grid_template_rows": null,
            "right": null,
            "justify_content": null,
            "_view_module": "@jupyter-widgets/base",
            "overflow": null,
            "_model_module_version": "1.2.0",
            "_view_count": null,
            "flex_flow": null,
            "width": null,
            "min_width": null,
            "border": null,
            "align_items": null,
            "bottom": null,
            "_model_module": "@jupyter-widgets/base",
            "top": null,
            "grid_column": null,
            "overflow_y": null,
            "overflow_x": null,
            "grid_auto_flow": null,
            "grid_area": null,
            "grid_template_columns": null,
            "flex": null,
            "_model_name": "LayoutModel",
            "justify_items": null,
            "grid_row": null,
            "max_height": null,
            "align_content": null,
            "visibility": null,
            "align_self": null,
            "height": null,
            "min_height": null,
            "padding": null,
            "grid_auto_rows": null,
            "grid_gap": null,
            "max_width": null,
            "order": null,
            "_view_module_version": "1.2.0",
            "grid_template_areas": null,
            "object_position": null,
            "object_fit": null,
            "grid_auto_columns": null,
            "margin": null,
            "display": null,
            "left": null
          }
        },
        "ad693e12743643ecb15039eb703b3ee9": {
          "model_module": "@jupyter-widgets/controls",
          "model_name": "DescriptionStyleModel",
          "state": {
            "_view_name": "StyleView",
            "_model_name": "DescriptionStyleModel",
            "description_width": "",
            "_view_module": "@jupyter-widgets/base",
            "_model_module_version": "1.5.0",
            "_view_count": null,
            "_view_module_version": "1.2.0",
            "_model_module": "@jupyter-widgets/controls"
          }
        },
        "74b206c1237c445aa5f199a0de2a2a5b": {
          "model_module": "@jupyter-widgets/base",
          "model_name": "LayoutModel",
          "state": {
            "_view_name": "LayoutView",
            "grid_template_rows": null,
            "right": null,
            "justify_content": null,
            "_view_module": "@jupyter-widgets/base",
            "overflow": null,
            "_model_module_version": "1.2.0",
            "_view_count": null,
            "flex_flow": null,
            "width": null,
            "min_width": null,
            "border": null,
            "align_items": null,
            "bottom": null,
            "_model_module": "@jupyter-widgets/base",
            "top": null,
            "grid_column": null,
            "overflow_y": null,
            "overflow_x": null,
            "grid_auto_flow": null,
            "grid_area": null,
            "grid_template_columns": null,
            "flex": null,
            "_model_name": "LayoutModel",
            "justify_items": null,
            "grid_row": null,
            "max_height": null,
            "align_content": null,
            "visibility": null,
            "align_self": null,
            "height": null,
            "min_height": null,
            "padding": null,
            "grid_auto_rows": null,
            "grid_gap": null,
            "max_width": null,
            "order": null,
            "_view_module_version": "1.2.0",
            "grid_template_areas": null,
            "object_position": null,
            "object_fit": null,
            "grid_auto_columns": null,
            "margin": null,
            "display": null,
            "left": null
          }
        },
        "e4f5003e258a4883a176574e87233539": {
          "model_module": "@jupyter-widgets/controls",
          "model_name": "HBoxModel",
          "state": {
            "_view_name": "HBoxView",
            "_dom_classes": [],
            "_model_name": "HBoxModel",
            "_view_module": "@jupyter-widgets/controls",
            "_model_module_version": "1.5.0",
            "_view_count": null,
            "_view_module_version": "1.5.0",
            "box_style": "",
            "layout": "IPY_MODEL_6b93741476794405b8331c64243012eb",
            "_model_module": "@jupyter-widgets/controls",
            "children": [
              "IPY_MODEL_927eada3399a4ebfb90ba91a699c65e5",
              "IPY_MODEL_8649ccc434b9429bb96ec9216d77d12f"
            ]
          }
        },
        "6b93741476794405b8331c64243012eb": {
          "model_module": "@jupyter-widgets/base",
          "model_name": "LayoutModel",
          "state": {
            "_view_name": "LayoutView",
            "grid_template_rows": null,
            "right": null,
            "justify_content": null,
            "_view_module": "@jupyter-widgets/base",
            "overflow": null,
            "_model_module_version": "1.2.0",
            "_view_count": null,
            "flex_flow": null,
            "width": null,
            "min_width": null,
            "border": null,
            "align_items": null,
            "bottom": null,
            "_model_module": "@jupyter-widgets/base",
            "top": null,
            "grid_column": null,
            "overflow_y": null,
            "overflow_x": null,
            "grid_auto_flow": null,
            "grid_area": null,
            "grid_template_columns": null,
            "flex": null,
            "_model_name": "LayoutModel",
            "justify_items": null,
            "grid_row": null,
            "max_height": null,
            "align_content": null,
            "visibility": null,
            "align_self": null,
            "height": null,
            "min_height": null,
            "padding": null,
            "grid_auto_rows": null,
            "grid_gap": null,
            "max_width": null,
            "order": null,
            "_view_module_version": "1.2.0",
            "grid_template_areas": null,
            "object_position": null,
            "object_fit": null,
            "grid_auto_columns": null,
            "margin": null,
            "display": null,
            "left": null
          }
        },
        "927eada3399a4ebfb90ba91a699c65e5": {
          "model_module": "@jupyter-widgets/controls",
          "model_name": "FloatProgressModel",
          "state": {
            "_view_name": "ProgressView",
            "style": "IPY_MODEL_fe96f0450a4b4278b3493bd22c3fb73d",
            "_dom_classes": [],
            "description": "100%",
            "_model_name": "FloatProgressModel",
            "bar_style": "success",
            "max": 83,
            "_view_module": "@jupyter-widgets/controls",
            "_model_module_version": "1.5.0",
            "value": 83,
            "_view_count": null,
            "_view_module_version": "1.5.0",
            "orientation": "horizontal",
            "min": 0,
            "description_tooltip": null,
            "_model_module": "@jupyter-widgets/controls",
            "layout": "IPY_MODEL_07378c3f1deb42c4bc22211cd88dee46"
          }
        },
        "8649ccc434b9429bb96ec9216d77d12f": {
          "model_module": "@jupyter-widgets/controls",
          "model_name": "HTMLModel",
          "state": {
            "_view_name": "HTMLView",
            "style": "IPY_MODEL_30e4227d77bb4911aae59983496d91d9",
            "_dom_classes": [],
            "description": "",
            "_model_name": "HTMLModel",
            "placeholder": "​",
            "_view_module": "@jupyter-widgets/controls",
            "_model_module_version": "1.5.0",
            "value": " 83/83 [01:52&lt;00:00,  1.36s/it]",
            "_view_count": null,
            "_view_module_version": "1.5.0",
            "description_tooltip": null,
            "_model_module": "@jupyter-widgets/controls",
            "layout": "IPY_MODEL_5fb68c802bb340979e3834aca4e31fa4"
          }
        },
        "fe96f0450a4b4278b3493bd22c3fb73d": {
          "model_module": "@jupyter-widgets/controls",
          "model_name": "ProgressStyleModel",
          "state": {
            "_view_name": "StyleView",
            "_model_name": "ProgressStyleModel",
            "description_width": "initial",
            "_view_module": "@jupyter-widgets/base",
            "_model_module_version": "1.5.0",
            "_view_count": null,
            "_view_module_version": "1.2.0",
            "bar_color": null,
            "_model_module": "@jupyter-widgets/controls"
          }
        },
        "07378c3f1deb42c4bc22211cd88dee46": {
          "model_module": "@jupyter-widgets/base",
          "model_name": "LayoutModel",
          "state": {
            "_view_name": "LayoutView",
            "grid_template_rows": null,
            "right": null,
            "justify_content": null,
            "_view_module": "@jupyter-widgets/base",
            "overflow": null,
            "_model_module_version": "1.2.0",
            "_view_count": null,
            "flex_flow": null,
            "width": null,
            "min_width": null,
            "border": null,
            "align_items": null,
            "bottom": null,
            "_model_module": "@jupyter-widgets/base",
            "top": null,
            "grid_column": null,
            "overflow_y": null,
            "overflow_x": null,
            "grid_auto_flow": null,
            "grid_area": null,
            "grid_template_columns": null,
            "flex": null,
            "_model_name": "LayoutModel",
            "justify_items": null,
            "grid_row": null,
            "max_height": null,
            "align_content": null,
            "visibility": null,
            "align_self": null,
            "height": null,
            "min_height": null,
            "padding": null,
            "grid_auto_rows": null,
            "grid_gap": null,
            "max_width": null,
            "order": null,
            "_view_module_version": "1.2.0",
            "grid_template_areas": null,
            "object_position": null,
            "object_fit": null,
            "grid_auto_columns": null,
            "margin": null,
            "display": null,
            "left": null
          }
        },
        "30e4227d77bb4911aae59983496d91d9": {
          "model_module": "@jupyter-widgets/controls",
          "model_name": "DescriptionStyleModel",
          "state": {
            "_view_name": "StyleView",
            "_model_name": "DescriptionStyleModel",
            "description_width": "",
            "_view_module": "@jupyter-widgets/base",
            "_model_module_version": "1.5.0",
            "_view_count": null,
            "_view_module_version": "1.2.0",
            "_model_module": "@jupyter-widgets/controls"
          }
        },
        "5fb68c802bb340979e3834aca4e31fa4": {
          "model_module": "@jupyter-widgets/base",
          "model_name": "LayoutModel",
          "state": {
            "_view_name": "LayoutView",
            "grid_template_rows": null,
            "right": null,
            "justify_content": null,
            "_view_module": "@jupyter-widgets/base",
            "overflow": null,
            "_model_module_version": "1.2.0",
            "_view_count": null,
            "flex_flow": null,
            "width": null,
            "min_width": null,
            "border": null,
            "align_items": null,
            "bottom": null,
            "_model_module": "@jupyter-widgets/base",
            "top": null,
            "grid_column": null,
            "overflow_y": null,
            "overflow_x": null,
            "grid_auto_flow": null,
            "grid_area": null,
            "grid_template_columns": null,
            "flex": null,
            "_model_name": "LayoutModel",
            "justify_items": null,
            "grid_row": null,
            "max_height": null,
            "align_content": null,
            "visibility": null,
            "align_self": null,
            "height": null,
            "min_height": null,
            "padding": null,
            "grid_auto_rows": null,
            "grid_gap": null,
            "max_width": null,
            "order": null,
            "_view_module_version": "1.2.0",
            "grid_template_areas": null,
            "object_position": null,
            "object_fit": null,
            "grid_auto_columns": null,
            "margin": null,
            "display": null,
            "left": null
          }
        },
        "b3e8b74ceb454534a4522662e23e8d09": {
          "model_module": "@jupyter-widgets/controls",
          "model_name": "HBoxModel",
          "state": {
            "_view_name": "HBoxView",
            "_dom_classes": [],
            "_model_name": "HBoxModel",
            "_view_module": "@jupyter-widgets/controls",
            "_model_module_version": "1.5.0",
            "_view_count": null,
            "_view_module_version": "1.5.0",
            "box_style": "",
            "layout": "IPY_MODEL_e2790dc077f947b0b7fdf8bf735c1d48",
            "_model_module": "@jupyter-widgets/controls",
            "children": [
              "IPY_MODEL_144cb480be01471baaf2f0ba06b8b709",
              "IPY_MODEL_8fece14128e14433bb9fe09f193e3b15"
            ]
          }
        },
        "e2790dc077f947b0b7fdf8bf735c1d48": {
          "model_module": "@jupyter-widgets/base",
          "model_name": "LayoutModel",
          "state": {
            "_view_name": "LayoutView",
            "grid_template_rows": null,
            "right": null,
            "justify_content": null,
            "_view_module": "@jupyter-widgets/base",
            "overflow": null,
            "_model_module_version": "1.2.0",
            "_view_count": null,
            "flex_flow": null,
            "width": null,
            "min_width": null,
            "border": null,
            "align_items": null,
            "bottom": null,
            "_model_module": "@jupyter-widgets/base",
            "top": null,
            "grid_column": null,
            "overflow_y": null,
            "overflow_x": null,
            "grid_auto_flow": null,
            "grid_area": null,
            "grid_template_columns": null,
            "flex": null,
            "_model_name": "LayoutModel",
            "justify_items": null,
            "grid_row": null,
            "max_height": null,
            "align_content": null,
            "visibility": null,
            "align_self": null,
            "height": null,
            "min_height": null,
            "padding": null,
            "grid_auto_rows": null,
            "grid_gap": null,
            "max_width": null,
            "order": null,
            "_view_module_version": "1.2.0",
            "grid_template_areas": null,
            "object_position": null,
            "object_fit": null,
            "grid_auto_columns": null,
            "margin": null,
            "display": null,
            "left": null
          }
        },
        "144cb480be01471baaf2f0ba06b8b709": {
          "model_module": "@jupyter-widgets/controls",
          "model_name": "FloatProgressModel",
          "state": {
            "_view_name": "ProgressView",
            "style": "IPY_MODEL_e5c434a0e1d347bcb6f49f2d267925d7",
            "_dom_classes": [],
            "description": "100%",
            "_model_name": "FloatProgressModel",
            "bar_style": "success",
            "max": 69,
            "_view_module": "@jupyter-widgets/controls",
            "_model_module_version": "1.5.0",
            "value": 69,
            "_view_count": null,
            "_view_module_version": "1.5.0",
            "orientation": "horizontal",
            "min": 0,
            "description_tooltip": null,
            "_model_module": "@jupyter-widgets/controls",
            "layout": "IPY_MODEL_4e37fe852f844324bb5bc597d1bc4e6f"
          }
        },
        "8fece14128e14433bb9fe09f193e3b15": {
          "model_module": "@jupyter-widgets/controls",
          "model_name": "HTMLModel",
          "state": {
            "_view_name": "HTMLView",
            "style": "IPY_MODEL_669b7be01a234e46af293c1b18c78af9",
            "_dom_classes": [],
            "description": "",
            "_model_name": "HTMLModel",
            "placeholder": "​",
            "_view_module": "@jupyter-widgets/controls",
            "_model_module_version": "1.5.0",
            "value": " 69/69 [00:01&lt;00:00, 52.36it/s]",
            "_view_count": null,
            "_view_module_version": "1.5.0",
            "description_tooltip": null,
            "_model_module": "@jupyter-widgets/controls",
            "layout": "IPY_MODEL_83cdb340b0a3487ab22ad79aa01154e9"
          }
        },
        "e5c434a0e1d347bcb6f49f2d267925d7": {
          "model_module": "@jupyter-widgets/controls",
          "model_name": "ProgressStyleModel",
          "state": {
            "_view_name": "StyleView",
            "_model_name": "ProgressStyleModel",
            "description_width": "initial",
            "_view_module": "@jupyter-widgets/base",
            "_model_module_version": "1.5.0",
            "_view_count": null,
            "_view_module_version": "1.2.0",
            "bar_color": null,
            "_model_module": "@jupyter-widgets/controls"
          }
        },
        "4e37fe852f844324bb5bc597d1bc4e6f": {
          "model_module": "@jupyter-widgets/base",
          "model_name": "LayoutModel",
          "state": {
            "_view_name": "LayoutView",
            "grid_template_rows": null,
            "right": null,
            "justify_content": null,
            "_view_module": "@jupyter-widgets/base",
            "overflow": null,
            "_model_module_version": "1.2.0",
            "_view_count": null,
            "flex_flow": null,
            "width": null,
            "min_width": null,
            "border": null,
            "align_items": null,
            "bottom": null,
            "_model_module": "@jupyter-widgets/base",
            "top": null,
            "grid_column": null,
            "overflow_y": null,
            "overflow_x": null,
            "grid_auto_flow": null,
            "grid_area": null,
            "grid_template_columns": null,
            "flex": null,
            "_model_name": "LayoutModel",
            "justify_items": null,
            "grid_row": null,
            "max_height": null,
            "align_content": null,
            "visibility": null,
            "align_self": null,
            "height": null,
            "min_height": null,
            "padding": null,
            "grid_auto_rows": null,
            "grid_gap": null,
            "max_width": null,
            "order": null,
            "_view_module_version": "1.2.0",
            "grid_template_areas": null,
            "object_position": null,
            "object_fit": null,
            "grid_auto_columns": null,
            "margin": null,
            "display": null,
            "left": null
          }
        },
        "669b7be01a234e46af293c1b18c78af9": {
          "model_module": "@jupyter-widgets/controls",
          "model_name": "DescriptionStyleModel",
          "state": {
            "_view_name": "StyleView",
            "_model_name": "DescriptionStyleModel",
            "description_width": "",
            "_view_module": "@jupyter-widgets/base",
            "_model_module_version": "1.5.0",
            "_view_count": null,
            "_view_module_version": "1.2.0",
            "_model_module": "@jupyter-widgets/controls"
          }
        },
        "83cdb340b0a3487ab22ad79aa01154e9": {
          "model_module": "@jupyter-widgets/base",
          "model_name": "LayoutModel",
          "state": {
            "_view_name": "LayoutView",
            "grid_template_rows": null,
            "right": null,
            "justify_content": null,
            "_view_module": "@jupyter-widgets/base",
            "overflow": null,
            "_model_module_version": "1.2.0",
            "_view_count": null,
            "flex_flow": null,
            "width": null,
            "min_width": null,
            "border": null,
            "align_items": null,
            "bottom": null,
            "_model_module": "@jupyter-widgets/base",
            "top": null,
            "grid_column": null,
            "overflow_y": null,
            "overflow_x": null,
            "grid_auto_flow": null,
            "grid_area": null,
            "grid_template_columns": null,
            "flex": null,
            "_model_name": "LayoutModel",
            "justify_items": null,
            "grid_row": null,
            "max_height": null,
            "align_content": null,
            "visibility": null,
            "align_self": null,
            "height": null,
            "min_height": null,
            "padding": null,
            "grid_auto_rows": null,
            "grid_gap": null,
            "max_width": null,
            "order": null,
            "_view_module_version": "1.2.0",
            "grid_template_areas": null,
            "object_position": null,
            "object_fit": null,
            "grid_auto_columns": null,
            "margin": null,
            "display": null,
            "left": null
          }
        }
      }
    }
  },
  "cells": [
    {
      "cell_type": "markdown",
      "metadata": {
        "id": "view-in-github",
        "colab_type": "text"
      },
      "source": [
        "<a href=\"https://colab.research.google.com/github/AmiOgita/memo/blob/main/semseg_trial1.ipynb\" target=\"_parent\"><img src=\"https://colab.research.google.com/assets/colab-badge.svg\" alt=\"Open In Colab\"/></a>"
      ]
    },
    {
      "cell_type": "code",
      "metadata": {
        "id": "Db5X9bgFUXNf"
      },
      "source": [
        "import pandas as pd\n",
        "import numpy as np\n",
        "import matplotlib.pyplot as plt\n",
        "%matplotlib inline\n",
        "\n",
        "import os\n",
        "from glob import glob\n",
        "import sys\n",
        "import random\n",
        "\n",
        "from tqdm import tqdm_notebook\n",
        "from skimage.io import imread, imshow\n",
        "from skimage.transform import resize\n",
        "import imageio\n",
        "\n",
        "import torch\n",
        "import torch.nn as nn\n",
        "import torch.nn.functional as F\n",
        "import torchvision.datasets as dsets\n",
        "from torch.autograd import Variable\n",
        "from torch.utils.data import DataLoader, Dataset\n",
        "import torch.optim as optim\n",
        "import torchvision.transforms as transforms\n",
        "import torchvision.transforms.functional as TF\n",
        "\n",
        "import cv2"
      ],
      "execution_count": 1,
      "outputs": []
    },
    {
      "cell_type": "code",
      "metadata": {
        "colab": {
          "base_uri": "https://localhost:8080/"
        },
        "id": "MBgmD0mCf_Rk",
        "outputId": "d7d9e7b3-908b-4aeb-a3dd-5b260b3c79e2"
      },
      "source": [
        "device = torch.device('cuda' if torch.cuda.is_available() else 'cpu')\n",
        "print(device)\n",
        "\n",
        "torch.manual_seed(42)"
      ],
      "execution_count": 2,
      "outputs": [
        {
          "output_type": "stream",
          "text": [
            "cuda\n"
          ],
          "name": "stdout"
        },
        {
          "output_type": "execute_result",
          "data": {
            "text/plain": [
              "<torch._C.Generator at 0x7f3023362790>"
            ]
          },
          "metadata": {
            "tags": []
          },
          "execution_count": 2
        }
      ]
    },
    {
      "cell_type": "code",
      "metadata": {
        "id": "gFk4znKtYKBL"
      },
      "source": [
        "im_width = 512\n",
        "im_height = 512\n",
        "im_chan = 1"
      ],
      "execution_count": 3,
      "outputs": []
    },
    {
      "cell_type": "code",
      "metadata": {
        "id": "FaDe2pyEcWTY"
      },
      "source": [
        "path_train = '/content/drive/MyDrive/train'\n",
        "path_test = '/content/drive/MyDrive/test'\n",
        "path_valid = '/content/drive/MyDrive/validation'\n",
        "\n",
        "train_path_images = os.path.abspath(path_train + \"/images/\")\n",
        "train_path_masks = os.path.abspath(path_train + \"/masks/\")\n",
        "\n",
        "test_path_images = os.path.abspath(path_test + \"/images/\")\n",
        "test_path_masks = os.path.abspath(path_test + \"/masks/\")\n",
        "\n",
        "valid_path_images = os.path.abspath(path_valid + \"/images/\")\n",
        "valid_path_masks = os.path.abspath(path_valid + \"/masks/\")"
      ],
      "execution_count": 4,
      "outputs": []
    },
    {
      "cell_type": "code",
      "metadata": {
        "id": "XHcqWkFddwXp"
      },
      "source": [
        "train_path_images_list = glob(os.path.join(train_path_images, \"*.tif\"))\n",
        "train_path_masks_list = glob(os.path.join(train_path_masks, \"*.tif\"))\n",
        "test_path_images_list = glob(os.path.join(test_path_images, \"*.tif\"))\n",
        "test_path_masks_list = glob(os.path.join(test_path_masks, \"*.tif\"))\n",
        "valid_path_images_list = glob(os.path.join(valid_path_images, \"*.tif\"))\n",
        "valid_path_masks_list = glob(os.path.join(valid_path_masks, \"*.tif\"))"
      ],
      "execution_count": 5,
      "outputs": []
    },
    {
      "cell_type": "code",
      "metadata": {
        "id": "o450AsVWd1rg"
      },
      "source": [
        "train_ids = next(os.walk(train_path_images))[2]\n",
        "test_ids = next(os.walk(test_path_images))[2]\n",
        "valid_ids = next(os.walk(valid_path_images))[2]"
      ],
      "execution_count": 6,
      "outputs": []
    },
    {
      "cell_type": "code",
      "metadata": {
        "colab": {
          "base_uri": "https://localhost:8080/",
          "height": 171,
          "referenced_widgets": [
            "a1e285c8ed6d40468dd1c490235dc5b6",
            "99f05a7a810f442cac601a7e29613c2f",
            "dc09ffc2478c4cf79e0c52dce79d8771",
            "56229f471d1b4e28a6172103c1afa054",
            "67b8fcd86c5c46b7abcd118466a45cfe",
            "0086d92044a54a6ab08b0064847fdfe2",
            "ad693e12743643ecb15039eb703b3ee9",
            "74b206c1237c445aa5f199a0de2a2a5b"
          ]
        },
        "id": "DOiSSB7qd9jS",
        "outputId": "db26eb37-d8f2-46e2-f6a3-67a82d651e89"
      },
      "source": [
        "X_train = np.zeros((len(train_ids), im_height, im_width, im_chan), dtype=np.uint8)\n",
        "Y_train = np.zeros((len(train_ids), im_height, im_width, 1), dtype=np.bool_)\n",
        "\n",
        "print('Getting training data...')\n",
        "\n",
        "sys.stdout.flush()\n",
        "for n, id_ in tqdm_notebook(enumerate(train_ids), total=len(train_ids)):\n",
        "    img = cv2.imread(path_train + '/images/' + id_)\n",
        "    img = cv2.cvtColor(img, cv2.COLOR_BGR2GRAY)\n",
        "    img = img[:, :, np.newaxis]\n",
        "    X_train[n] = img\n",
        "    \n",
        "    mask = cv2.imread(path_train + '/masks/' + id_)\n",
        "    mask = cv2.cvtColor(mask, cv2.COLOR_BGR2GRAY)\n",
        "    mask = mask[:, :, np.newaxis]\n",
        "    Y_train[n] = mask\n",
        "    \n",
        "print('Done!')"
      ],
      "execution_count": 7,
      "outputs": [
        {
          "output_type": "stream",
          "text": [
            "Getting training data...\n"
          ],
          "name": "stdout"
        },
        {
          "output_type": "stream",
          "text": [
            "/usr/local/lib/python3.7/dist-packages/ipykernel_launcher.py:7: TqdmDeprecationWarning: This function will be removed in tqdm==5.0.0\n",
            "Please use `tqdm.notebook.tqdm` instead of `tqdm.tqdm_notebook`\n",
            "  import sys\n"
          ],
          "name": "stderr"
        },
        {
          "output_type": "display_data",
          "data": {
            "application/vnd.jupyter.widget-view+json": {
              "model_id": "a1e285c8ed6d40468dd1c490235dc5b6",
              "version_minor": 0,
              "version_major": 2
            },
            "text/plain": [
              "HBox(children=(FloatProgress(value=0.0, max=258.0), HTML(value='')))"
            ]
          },
          "metadata": {
            "tags": []
          }
        },
        {
          "output_type": "stream",
          "text": [
            "\n",
            "Done!\n"
          ],
          "name": "stdout"
        }
      ]
    },
    {
      "cell_type": "code",
      "metadata": {
        "colab": {
          "base_uri": "https://localhost:8080/",
          "height": 171,
          "referenced_widgets": [
            "e4f5003e258a4883a176574e87233539",
            "6b93741476794405b8331c64243012eb",
            "927eada3399a4ebfb90ba91a699c65e5",
            "8649ccc434b9429bb96ec9216d77d12f",
            "fe96f0450a4b4278b3493bd22c3fb73d",
            "07378c3f1deb42c4bc22211cd88dee46",
            "30e4227d77bb4911aae59983496d91d9",
            "5fb68c802bb340979e3834aca4e31fa4"
          ]
        },
        "id": "FEQ7UMdKeSoz",
        "outputId": "c80d9401-c063-4f9b-e178-d29ac23cfade"
      },
      "source": [
        "X_test = np.zeros((len(test_ids), im_height, im_width, im_chan), dtype=np.uint8)\n",
        "Y_test = np.zeros((len(test_ids), im_height, im_width, 1), dtype=np.bool_)\n",
        "\n",
        "print('Getting testing data...')\n",
        "\n",
        "sys.stdout.flush()\n",
        "for n, id_ in tqdm_notebook(enumerate(test_ids), total=len(test_ids)):\n",
        "    img = cv2.imread(path_test + '/images/' + id_)\n",
        "    img = cv2.cvtColor(img, cv2.COLOR_BGR2GRAY)\n",
        "    img = np.resize(img,(512,512))\n",
        "    img = img[:, :, np.newaxis]\n",
        "    \n",
        "    X_test[n] = img\n",
        "    \n",
        "    mask = cv2.imread(path_test + '/masks/' + id_)\n",
        "    mask = cv2.cvtColor(mask, cv2.COLOR_BGR2GRAY)\n",
        "    mask = np.resize(mask,(512,512))\n",
        "    mask = mask[:, :, np.newaxis]\n",
        "    Y_test[n] = mask\n",
        "    \n",
        "print('Done!')"
      ],
      "execution_count": 10,
      "outputs": [
        {
          "output_type": "stream",
          "text": [
            "Getting testing data...\n"
          ],
          "name": "stdout"
        },
        {
          "output_type": "stream",
          "text": [
            "/usr/local/lib/python3.7/dist-packages/ipykernel_launcher.py:7: TqdmDeprecationWarning: This function will be removed in tqdm==5.0.0\n",
            "Please use `tqdm.notebook.tqdm` instead of `tqdm.tqdm_notebook`\n",
            "  import sys\n"
          ],
          "name": "stderr"
        },
        {
          "output_type": "display_data",
          "data": {
            "application/vnd.jupyter.widget-view+json": {
              "model_id": "e4f5003e258a4883a176574e87233539",
              "version_minor": 0,
              "version_major": 2
            },
            "text/plain": [
              "HBox(children=(FloatProgress(value=0.0, max=83.0), HTML(value='')))"
            ]
          },
          "metadata": {
            "tags": []
          }
        },
        {
          "output_type": "stream",
          "text": [
            "\n",
            "Done!\n"
          ],
          "name": "stdout"
        }
      ]
    },
    {
      "cell_type": "code",
      "metadata": {
        "colab": {
          "base_uri": "https://localhost:8080/",
          "height": 171,
          "referenced_widgets": [
            "b3e8b74ceb454534a4522662e23e8d09",
            "e2790dc077f947b0b7fdf8bf735c1d48",
            "144cb480be01471baaf2f0ba06b8b709",
            "8fece14128e14433bb9fe09f193e3b15",
            "e5c434a0e1d347bcb6f49f2d267925d7",
            "4e37fe852f844324bb5bc597d1bc4e6f",
            "669b7be01a234e46af293c1b18c78af9",
            "83cdb340b0a3487ab22ad79aa01154e9"
          ]
        },
        "id": "MJXIKiUaeOTF",
        "outputId": "6e5b8d82-1bd1-40ae-8b04-8b549e941af0"
      },
      "source": [
        "X_valid = np.zeros((len(valid_ids), im_height, im_width, im_chan), dtype=np.uint8)\n",
        "Y_valid = np.zeros((len(valid_ids), im_height, im_width, 1), dtype=np.bool_)\n",
        "\n",
        "print('Getting validation data...')\n",
        "\n",
        "sys.stdout.flush()\n",
        "for n, id_ in tqdm_notebook(enumerate(valid_ids), total=len(valid_ids)):\n",
        "    img = cv2.imread(path_valid + '/images/' + id_)\n",
        "    img = cv2.cvtColor(img, cv2.COLOR_BGR2GRAY)\n",
        "    img = img[:, :, np.newaxis]\n",
        "    X_valid[n] = img\n",
        "    \n",
        "    mask = cv2.imread(path_valid + '/masks/' + id_)\n",
        "    mask = cv2.cvtColor(mask, cv2.COLOR_BGR2GRAY)\n",
        "    mask = np.resize(mask,(512,512))\n",
        "    mask = mask[:, :, np.newaxis]\n",
        "    Y_valid[n] = mask\n",
        "\n",
        "    \n",
        "print('Done!')"
      ],
      "execution_count": 12,
      "outputs": [
        {
          "output_type": "stream",
          "text": [
            "Getting validation data...\n"
          ],
          "name": "stdout"
        },
        {
          "output_type": "stream",
          "text": [
            "/usr/local/lib/python3.7/dist-packages/ipykernel_launcher.py:7: TqdmDeprecationWarning: This function will be removed in tqdm==5.0.0\n",
            "Please use `tqdm.notebook.tqdm` instead of `tqdm.tqdm_notebook`\n",
            "  import sys\n"
          ],
          "name": "stderr"
        },
        {
          "output_type": "display_data",
          "data": {
            "application/vnd.jupyter.widget-view+json": {
              "model_id": "b3e8b74ceb454534a4522662e23e8d09",
              "version_minor": 0,
              "version_major": 2
            },
            "text/plain": [
              "HBox(children=(FloatProgress(value=0.0, max=69.0), HTML(value='')))"
            ]
          },
          "metadata": {
            "tags": []
          }
        },
        {
          "output_type": "stream",
          "text": [
            "\n",
            "Done!\n"
          ],
          "name": "stdout"
        }
      ]
    },
    {
      "cell_type": "code",
      "metadata": {
        "colab": {
          "base_uri": "https://localhost:8080/",
          "height": 521
        },
        "id": "FkQWoa0XfVnP",
        "outputId": "7cbea57e-9355-42ba-8754-3f94d0d9da20"
      },
      "source": [
        "ix = random.randint(0, len(train_ids))\n",
        "plt.imshow(np.dstack((X_train[ix],X_train[ix],X_train[ix])))\n",
        "plt.show()\n",
        "tmp = np.squeeze(Y_train[ix]).astype(np.float32)\n",
        "plt.imshow(np.dstack((tmp,tmp,tmp)))\n",
        "plt.show()"
      ],
      "execution_count": 13,
      "outputs": [
        {
          "output_type": "display_data",
          "data": {
            "image/png": "[encoded data removed]",
            "text/plain": [
              "<Figure size 432x288 with 1 Axes>"
            ]
          },
          "metadata": {
            "tags": [],
            "needs_background": "light"
          }
        },
        {
          "output_type": "display_data",
          "data": {
            "image/png": "[encoded data removed]",
            "text/plain": [
              "<Figure size 432x288 with 1 Axes>"
            ]
          },
          "metadata": {
            "tags": [],
            "needs_background": "light"
          }
        }
      ]
    },
    {
      "cell_type": "code",
      "metadata": {
        "id": "KbksxRqQfdSh"
      },
      "source": [
        "class Nuc_Seg(Dataset):\n",
        "    def __init__(self, images_np, masks_np):\n",
        "        self.images_np = images_np\n",
        "        self.masks_np = masks_np\n",
        "    \n",
        "    def transform(self, image_np, mask_np):\n",
        "        ToPILImage = transforms.ToPILImage()\n",
        "        image = ToPILImage(image_np)\n",
        "        mask = ToPILImage(mask_np.astype(np.int32))\n",
        "        \n",
        "        image = TF.pad(image, padding = 20, padding_mode = 'reflect')\n",
        "        mask = TF.pad(mask, padding = 20, padding_mode = 'reflect')\n",
        "        \n",
        "        angle = random.uniform(-10, 10)\n",
        "        width, height = image.size\n",
        "        max_dx = 0.1 * width\n",
        "        max_dy = 0.1 * height\n",
        "        translations = (np.round(random.uniform(-max_dx, max_dx)), np.round(random.uniform(-max_dy, max_dy)))\n",
        "        scale = random.uniform(0.8, 1.2)\n",
        "        shear = random.uniform(-0.5, 0.5)\n",
        "        image = TF.affine(image, angle = angle, translate = translations, scale = scale, shear = shear)\n",
        "        mask = TF.affine(mask, angle = angle, translate = translations, scale = scale, shear = shear)\n",
        "        \n",
        "        image = TF.center_crop(image, (128, 128))\n",
        "        mask = TF.center_crop(mask, (128, 128))\n",
        "        \n",
        "        image = TF.to_tensor(image)\n",
        "        mask = TF.to_tensor(mask)\n",
        "        return image, mask\n",
        "        \n",
        "    def __len__(self):\n",
        "        return len(self.images_np)\n",
        "    \n",
        "    def __getitem__(self, idx):\n",
        "        image_np = self.images_np[idx]\n",
        "        mask_np = self.masks_np[idx]\n",
        "        image, mask = self.transform(image_np, mask_np)\n",
        "        \n",
        "        return image, mask "
      ],
      "execution_count": 14,
      "outputs": []
    },
    {
      "cell_type": "code",
      "metadata": {
        "id": "PDGFM8EGffI5"
      },
      "source": [
        "train_dataset = Nuc_Seg(X_train, Y_train)\n",
        "train_loader = DataLoader(train_dataset, batch_size = 16, shuffle = True)\n",
        "\n",
        "test_dataset = Nuc_Seg(X_test, Y_test)\n",
        "test_loader = DataLoader(test_dataset, batch_size = 16, shuffle = True)\n",
        "\n",
        "valid_dataset = Nuc_Seg(X_valid, Y_valid)\n",
        "valid_loader = DataLoader(valid_dataset, batch_size = 16, shuffle = True)"
      ],
      "execution_count": 15,
      "outputs": []
    },
    {
      "cell_type": "code",
      "metadata": {
        "id": "mtFojzs2fmcT"
      },
      "source": [
        "def iou(pred, target, n_classes = 2):\n",
        "    \n",
        "    iou = []\n",
        "    pred = pred.view(-1)\n",
        "    target = target.view(-1)\n",
        "\n",
        "    # Ignore IoU for background class (\"0\")\n",
        "    for cls in range(1, n_classes):  # This goes from 1:n_classes-1 -> class \"0\" is ignored\n",
        "      pred_inds = pred == cls\n",
        "      target_inds = target == cls\n",
        "      intersection = (pred_inds[target_inds]).long().sum().data.cpu().item()  # Cast to long to prevent overflows\n",
        "      union = pred_inds.long().sum().data.cpu().item() + target_inds.long().sum().data.cpu().item() - intersection\n",
        "    \n",
        "      if union == 0:\n",
        "        iou.append(float('nan'))  # If there is no ground truth, do not include in evaluation\n",
        "      else:\n",
        "        iou.append(float(intersection) / float(max(union, 1)))\n",
        "     \n",
        "    return sum(iou)"
      ],
      "execution_count": 16,
      "outputs": []
    },
    {
      "cell_type": "code",
      "metadata": {
        "id": "ouKp8x1xfndp"
      },
      "source": [
        "def iou_metric(y_pred, y_true, n_classes = 2):\n",
        "    miou = []\n",
        "    for i in np.arange(0.5, 1.0, 0.05):\n",
        "        y_pred_ = (y_pred > i)\n",
        "        iou_init = iou(y_pred_, y_true, n_classes = n_classes)\n",
        "        miou.append(iou_init)\n",
        "    \n",
        "    return sum(miou)/len(miou)"
      ],
      "execution_count": 17,
      "outputs": []
    },
    {
      "cell_type": "code",
      "metadata": {
        "id": "nWKsYQBnfwBT"
      },
      "source": [
        "class UNet(nn.Module):\n",
        "    \n",
        "    def __init__(self):\n",
        "        super().__init__()\n",
        "        \n",
        "        self.conv1_1 = nn.Conv2d(1, 16, kernel_size = 3, padding = 1)\n",
        "        self.drop1_1 = nn.Dropout2d(0.1)\n",
        "        self.conv1_2 = nn.Conv2d(16, 16, kernel_size = 3, padding = 1)\n",
        "        \n",
        "        self.conv2_1 = nn.Conv2d(16, 32, kernel_size = 3, padding = 1)\n",
        "        self.drop2_1 = nn.Dropout2d(0.1)\n",
        "        self.conv2_2 = nn.Conv2d(32, 32, kernel_size = 3, padding = 1)\n",
        "        \n",
        "        self.conv3_1 = nn.Conv2d(32, 64, kernel_size = 3, padding = 1)\n",
        "        self.drop3_1 = nn.Dropout2d(0.2)\n",
        "        self.conv3_2 = nn.Conv2d(64, 64, kernel_size = 3, padding = 1)\n",
        "        \n",
        "        self.conv4_1 = nn.Conv2d(64, 128, kernel_size = 3, padding = 1)\n",
        "        self.drop4_1 = nn.Dropout2d(0.2)\n",
        "        self.conv4_2 = nn.Conv2d(128, 128, kernel_size = 3, padding = 1)\n",
        "        \n",
        "        self.conv5_1 = nn.Conv2d(128, 256, kernel_size = 3, padding = 1)\n",
        "        self.drop5_1 = nn.Dropout2d(0.3)\n",
        "        self.conv5_2 = nn.Conv2d(256, 256, kernel_size = 3, padding = 1)\n",
        "        \n",
        "        self.conv_trans6_1 = nn.ConvTranspose2d(256, 128, kernel_size = 2, stride = (2, 2))\n",
        "        self.conv6_1 = nn.Conv2d(256, 128, kernel_size = 3, padding = 1)\n",
        "        self.drop6_1 = nn.Dropout2d(0.2)\n",
        "        self.conv6_2 = nn.Conv2d(128, 128, kernel_size = 3, padding = 1)\n",
        "        \n",
        "        self.conv_trans7_1 = nn.ConvTranspose2d(128, 64, kernel_size = 2, stride = (2, 2))\n",
        "        self.conv7_1 = nn.Conv2d(128, 64, kernel_size = 3, padding = 1)\n",
        "        self.drop7_1 = nn.Dropout2d(0.2)\n",
        "        self.conv7_2 = nn.Conv2d(64, 64, kernel_size = 3, padding = 1)\n",
        "        \n",
        "        self.conv_trans8_1 = nn.ConvTranspose2d(64, 32, kernel_size = 2, stride = (2, 2))\n",
        "        self.conv8_1 = nn.Conv2d(64, 32, kernel_size = 3, padding = 1)\n",
        "        self.drop8_1 = nn.Dropout2d(0.1)\n",
        "        self.conv8_2 = nn.Conv2d(32, 32, kernel_size = 3, padding = 1)\n",
        "        \n",
        "        self.conv_trans9_1 = nn.ConvTranspose2d(32, 16, kernel_size = 2, stride = (2, 2))\n",
        "        self.conv9_1 = nn.Conv2d(32, 16, kernel_size = 3, padding = 1)\n",
        "        self.drop9_1 = nn.Dropout2d(0.1)\n",
        "        self.conv9_2 = nn.Conv2d(16, 16, kernel_size = 3, padding = 1)\n",
        "        \n",
        "        self.conv10 = nn.Conv2d(16, 1, kernel_size = 3, padding = 1)\n",
        "    \n",
        "    def forward(self, s):\n",
        "        \n",
        "        c1 = F.elu(self.conv1_1(s))\n",
        "        c1 = self.drop1_1(c1)\n",
        "        c1 = F.elu(self.conv1_2(c1))\n",
        "        p1 = F.max_pool2d(c1, kernel_size = (2, 2), stride = 2)\n",
        "        \n",
        "        c2 = F.elu(self.conv2_1(p1))\n",
        "        c2 = self.drop2_1(c2)\n",
        "        c2 = F.elu(self.conv2_2(c2))\n",
        "        p2 = F.max_pool2d(c2, kernel_size = (2, 2), stride = 2)\n",
        "        \n",
        "        c3 = F.elu(self.conv3_1(p2))\n",
        "        c3 = self.drop3_1(c3)\n",
        "        c3 = F.elu(self.conv3_2(c3))\n",
        "        p3 = F.max_pool2d(c3, kernel_size = (2, 2), stride = 2)\n",
        "        \n",
        "        c4 = F.elu(self.conv4_1(p3))\n",
        "        c4 = self.drop4_1(c4)\n",
        "        c4 = F.elu(self.conv4_2(c4))\n",
        "        p4 = F.max_pool2d(c4, kernel_size = (2, 2), stride = 2)\n",
        "        \n",
        "        c5 = F.elu(self.conv5_1(p4))\n",
        "        c5 = self.drop5_1(c5)\n",
        "        c5 = F.elu(self.conv5_2(c5))\n",
        "        \n",
        "        u6 = self.conv_trans6_1(c5)\n",
        "        u6 = torch.cat((u6, c4), axis = 1)\n",
        "        c6 = F.elu(self.conv6_1(u6))\n",
        "        c6 = self.drop6_1(c6)\n",
        "        c6 = F.elu(self.conv6_2(c6))\n",
        "        \n",
        "        u7 = self.conv_trans7_1(c6)\n",
        "        u7 = torch.cat((u7, c3), axis = 1)\n",
        "        c7 = F.elu(self.conv7_1(u7))\n",
        "        c7 = self.drop7_1(c7)\n",
        "        c7 = F.elu(self.conv7_2(c7))\n",
        "    \n",
        "        u8 = self.conv_trans8_1(c7)\n",
        "        u8 = torch.cat((u8, c2), axis = 1)\n",
        "        c8 = F.elu(self.conv8_1(u8))\n",
        "        c8 = self.drop8_1(c8)\n",
        "        c8 = F.elu(self.conv8_2(c8))\n",
        "        \n",
        "        u9 = self.conv_trans9_1(c8)\n",
        "        u9 = torch.cat((u9, c1), axis = 1)\n",
        "        c9 = F.elu(self.conv9_1(u9))\n",
        "        c9 = self.drop9_1(c9)\n",
        "        c9 = F.elu(self.conv9_2(c9))\n",
        "        \n",
        "        output = torch.sigmoid(self.conv10(c9))\n",
        "        \n",
        "        return output"
      ],
      "execution_count": 23,
      "outputs": []
    },
    {
      "cell_type": "code",
      "metadata": {
        "id": "0UXJXl4zfzGj"
      },
      "source": [
        "model = UNet()\n",
        "model = model.float()\n",
        "model = model.to(device)"
      ],
      "execution_count": 24,
      "outputs": []
    },
    {
      "cell_type": "code",
      "metadata": {
        "id": "yl-qIls8gGTC"
      },
      "source": [
        "opt = optim.Adam(model.parameters(), lr = 0.001)\n",
        "loss_func = nn.BCELoss()\n",
        "lr_scheduler = optim.lr_scheduler.ReduceLROnPlateau(opt, patience = 3, verbose = 1)"
      ],
      "execution_count": 25,
      "outputs": []
    },
    {
      "cell_type": "code",
      "metadata": {
        "id": "8cb3Xn-lgMEQ"
      },
      "source": [
        "def fit(model, epochs, opt, loss_func, train_loader, valid_loader, alpha):\n",
        "\n",
        "    for epoch in range(epochs):\n",
        "        \n",
        "        #Going into training mode\n",
        "        model.train()\n",
        "        \n",
        "        train_loss = 0 \n",
        "        iou = 0\n",
        "        \n",
        "        for image, mask in train_loader:\n",
        "            image = image.to(device)   #Passing the input mini-batch to the GPU\n",
        "            mask = mask.to(device)   #Passing the label mini-batch to the GPU\n",
        "            opt.zero_grad()      #Setting the grads to zero to avoid accumulation of gradients\n",
        "            out = model(image.float())\n",
        "            loss = loss_func(out.float(), mask.float())    \n",
        "            train_loss += loss\n",
        "            \n",
        "            iou += iou_metric(out, mask)\n",
        "            iou_rev = 16 - iou_metric(out, mask)\n",
        "            loss += alpha * iou_rev\n",
        "            \n",
        "            loss.backward()\n",
        "            opt.step()\n",
        "        \n",
        "        lr_scheduler.step(train_loss/len(train_loader))   #Setting up lr decay  \n",
        "        \n",
        "        model.eval()            #Going into eval mode                            \n",
        "        with torch.no_grad():   #No backprop\n",
        "            valid_loss = 0\n",
        "            valid_iou = 0\n",
        "            \n",
        "            for image_val, mask_val in valid_loader:\n",
        "                image_val = image_val.to(device)  \n",
        "                mask_val = mask_val.to(device)\n",
        "                out_val = model(image_val.float())\n",
        "                valid_loss += loss_func(out_val.float(), mask_val.float())\n",
        "                \n",
        "                valid_iou += iou_metric(out_val, mask_val)\n",
        "        \n",
        "        print(\"Epoch \", epoch + 1, \" Training Loss: \", train_loss/len(train_loader), \"CV Loss: \", valid_loss/len(valid_loader))\n",
        "        print(\"Training IoU: \", iou/len(train_loader), \"CV IoU: \", valid_iou/len(valid_loader))\n",
        "\n"
      ],
      "execution_count": 21,
      "outputs": []
    },
    {
      "cell_type": "code",
      "metadata": {
        "colab": {
          "base_uri": "https://localhost:8080/"
        },
        "id": "WcYrY1iWgRon",
        "outputId": "0e2a29e4-4ec4-4445-c658-8ae03a01f353"
      },
      "source": [
        "fit(model, 30, opt, loss_func, train_loader, valid_loader, 5)"
      ],
      "execution_count": 26,
      "outputs": [
        {
          "output_type": "stream",
          "text": [
            "/usr/local/lib/python3.7/dist-packages/torch/nn/functional.py:718: UserWarning: Named tensors and all their associated APIs are an experimental feature and subject to change. Please do not use them for anything important until they are released as stable. (Triggered internally at  /pytorch/c10/core/TensorImpl.h:1156.)\n",
            "  return torch.max_pool2d(input, kernel_size, stride, padding, dilation, ceil_mode)\n"
          ],
          "name": "stderr"
        },
        {
          "output_type": "stream",
          "text": [
            "Epoch  1  Training Loss:  tensor(0.4234, device='cuda:0', grad_fn=<DivBackward0>) CV Loss:  tensor(0.2931, device='cuda:0')\n",
            "Training IoU:  0.00020939124255120114 CV IoU:  0.0\n",
            "Epoch  2  Training Loss:  tensor(0.3115, device='cuda:0', grad_fn=<DivBackward0>) CV Loss:  tensor(0.2971, device='cuda:0')\n",
            "Training IoU:  0.0 CV IoU:  0.0\n",
            "Epoch  3  Training Loss:  tensor(0.3071, device='cuda:0', grad_fn=<DivBackward0>) CV Loss:  tensor(0.2558, device='cuda:0')\n",
            "Training IoU:  0.0 CV IoU:  0.0\n",
            "Epoch  4  Training Loss:  tensor(0.2721, device='cuda:0', grad_fn=<DivBackward0>) CV Loss:  tensor(0.3485, device='cuda:0')\n",
            "Training IoU:  0.001272493762759366 CV IoU:  0.0007067647754293665\n",
            "Epoch  5  Training Loss:  tensor(0.2880, device='cuda:0', grad_fn=<DivBackward0>) CV Loss:  tensor(0.3077, device='cuda:0')\n",
            "Training IoU:  0.008458348551808312 CV IoU:  0.0018421710941054288\n",
            "Epoch  6  Training Loss:  tensor(0.2833, device='cuda:0', grad_fn=<DivBackward0>) CV Loss:  tensor(0.2539, device='cuda:0')\n",
            "Training IoU:  0.003483903266834166 CV IoU:  0.00013333356468247034\n",
            "Epoch  7  Training Loss:  tensor(0.3810, device='cuda:0', grad_fn=<DivBackward0>) CV Loss:  tensor(0.2719, device='cuda:0')\n",
            "Training IoU:  0.009617869005356534 CV IoU:  0.002741143448152069\n",
            "Epoch  8  Training Loss:  tensor(0.2671, device='cuda:0', grad_fn=<DivBackward0>) CV Loss:  tensor(0.2606, device='cuda:0')\n",
            "Training IoU:  0.008331812720148588 CV IoU:  0.00024681711583824956\n",
            "Epoch  9  Training Loss:  tensor(0.2762, device='cuda:0', grad_fn=<DivBackward0>) CV Loss:  tensor(0.2973, device='cuda:0')\n",
            "Training IoU:  0.008052249962150742 CV IoU:  0.00028964342481523216\n",
            "Epoch  10  Training Loss:  tensor(0.2721, device='cuda:0', grad_fn=<DivBackward0>) CV Loss:  tensor(0.2905, device='cuda:0')\n",
            "Training IoU:  0.004175117223815482 CV IoU:  7.83821880492634e-05\n",
            "Epoch  11  Training Loss:  tensor(0.2856, device='cuda:0', grad_fn=<DivBackward0>) CV Loss:  tensor(0.2943, device='cuda:0')\n",
            "Training IoU:  0.009565550396376186 CV IoU:  9.015006242473743e-05\n",
            "Epoch    12: reducing learning rate of group 0 to 1.0000e-04.\n",
            "Epoch  12  Training Loss:  tensor(0.2819, device='cuda:0', grad_fn=<DivBackward0>) CV Loss:  tensor(0.2750, device='cuda:0')\n",
            "Training IoU:  0.007806132151451602 CV IoU:  6.443093133461336e-05\n",
            "Epoch  13  Training Loss:  tensor(0.2781, device='cuda:0', grad_fn=<DivBackward0>) CV Loss:  tensor(0.2756, device='cuda:0')\n",
            "Training IoU:  0.0016625060591340076 CV IoU:  5.845090287190165e-05\n",
            "Epoch  14  Training Loss:  tensor(0.2729, device='cuda:0', grad_fn=<DivBackward0>) CV Loss:  tensor(0.3170, device='cuda:0')\n",
            "Training IoU:  nan CV IoU:  9.019904202215172e-05\n",
            "Epoch  15  Training Loss:  tensor(0.2805, device='cuda:0', grad_fn=<DivBackward0>) CV Loss:  tensor(0.2619, device='cuda:0')\n",
            "Training IoU:  0.0047509563532475724 CV IoU:  3.289794077971285e-05\n",
            "Epoch    16: reducing learning rate of group 0 to 1.0000e-05.\n",
            "Epoch  16  Training Loss:  tensor(0.2856, device='cuda:0', grad_fn=<DivBackward0>) CV Loss:  tensor(0.2806, device='cuda:0')\n",
            "Training IoU:  0.006068825845389282 CV IoU:  0.00034967309873926817\n",
            "Epoch  17  Training Loss:  tensor(0.2813, device='cuda:0', grad_fn=<DivBackward0>) CV Loss:  tensor(0.3637, device='cuda:0')\n",
            "Training IoU:  0.0024618944605460024 CV IoU:  0.00019662676713096423\n",
            "Epoch  18  Training Loss:  tensor(0.2779, device='cuda:0', grad_fn=<DivBackward0>) CV Loss:  tensor(0.2436, device='cuda:0')\n",
            "Training IoU:  0.004518689497244259 CV IoU:  8.371937266283418e-06\n",
            "Epoch  19  Training Loss:  tensor(0.2641, device='cuda:0', grad_fn=<DivBackward0>) CV Loss:  tensor(0.2914, device='cuda:0')\n",
            "Training IoU:  0.0016005142746317283 CV IoU:  0.00036131061456278857\n",
            "Epoch  20  Training Loss:  tensor(0.2660, device='cuda:0', grad_fn=<DivBackward0>) CV Loss:  tensor(0.2591, device='cuda:0')\n",
            "Training IoU:  0.001069616910013608 CV IoU:  0.00028999877575149806\n",
            "Epoch  21  Training Loss:  tensor(0.2718, device='cuda:0', grad_fn=<DivBackward0>) CV Loss:  tensor(0.2797, device='cuda:0')\n",
            "Training IoU:  0.001449835455743017 CV IoU:  0.00028828532758813164\n",
            "Epoch  22  Training Loss:  tensor(0.2849, device='cuda:0', grad_fn=<DivBackward0>) CV Loss:  tensor(0.3168, device='cuda:0')\n",
            "Training IoU:  0.00203942123568119 CV IoU:  0.0003620307753044192\n",
            "Epoch    23: reducing learning rate of group 0 to 1.0000e-06.\n",
            "Epoch  23  Training Loss:  tensor(0.2983, device='cuda:0', grad_fn=<DivBackward0>) CV Loss:  tensor(0.2829, device='cuda:0')\n",
            "Training IoU:  0.0005837932539684738 CV IoU:  0.00029111270755020734\n",
            "Epoch  24  Training Loss:  tensor(0.2576, device='cuda:0', grad_fn=<DivBackward0>) CV Loss:  tensor(0.2725, device='cuda:0')\n",
            "Training IoU:  0.004706361363151587 CV IoU:  0.00022842482955445754\n",
            "Epoch  25  Training Loss:  tensor(0.2786, device='cuda:0', grad_fn=<DivBackward0>) CV Loss:  tensor(0.2488, device='cuda:0')\n",
            "Training IoU:  0.0036509115492145104 CV IoU:  0.00021027214625038513\n",
            "Epoch  26  Training Loss:  tensor(0.2955, device='cuda:0', grad_fn=<DivBackward0>) CV Loss:  tensor(0.2423, device='cuda:0')\n",
            "Training IoU:  0.0024294245941074164 CV IoU:  0.00012565012186862098\n",
            "Epoch  27  Training Loss:  tensor(0.2835, device='cuda:0', grad_fn=<DivBackward0>) CV Loss:  tensor(0.2771, device='cuda:0')\n",
            "Training IoU:  0.0033420965318243625 CV IoU:  0.00015223430406997922\n",
            "Epoch    28: reducing learning rate of group 0 to 1.0000e-07.\n",
            "Epoch  28  Training Loss:  tensor(0.2693, device='cuda:0', grad_fn=<DivBackward0>) CV Loss:  tensor(0.2804, device='cuda:0')\n",
            "Training IoU:  0.004091745386020106 CV IoU:  8.555600980886449e-05\n",
            "Epoch  29  Training Loss:  tensor(0.2735, device='cuda:0', grad_fn=<DivBackward0>) CV Loss:  tensor(0.2551, device='cuda:0')\n",
            "Training IoU:  0.004742892845523527 CV IoU:  4.8255699588675915e-05\n",
            "Epoch  30  Training Loss:  tensor(0.2776, device='cuda:0', grad_fn=<DivBackward0>) CV Loss:  tensor(0.2823, device='cuda:0')\n",
            "Training IoU:  0.001873441651089795 CV IoU:  0.00027041862319668157\n"
          ],
          "name": "stdout"
        }
      ]
    }
  ]
}