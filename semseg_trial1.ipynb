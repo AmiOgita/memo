{
  "nbformat": 4,
  "nbformat_minor": 0,
  "metadata": {
    "colab": {
      "name": "semseg_trial1.ipynb",
      "provenance": [],
      "mount_file_id": "1OaraQ5waBunWYaWEsYdOrQLX0C3teKB-",
      "authorship_tag": "ABX9TyM54Q/G0YPeTFHM9zwe3lQF",
      "include_colab_link": true
    },
    "kernelspec": {
      "name": "python3",
      "display_name": "Python 3"
    },
    "language_info": {
      "name": "python"
    },
    "widgets": {
      "application/vnd.jupyter.widget-state+json": {
        "511d8d4be59147fb954191ad422c6f1a": {
          "model_module": "@jupyter-widgets/controls",
          "model_name": "HBoxModel",
          "state": {
            "_view_name": "HBoxView",
            "_dom_classes": [],
            "_model_name": "HBoxModel",
            "_view_module": "@jupyter-widgets/controls",
            "_model_module_version": "1.5.0",
            "_view_count": null,
            "_view_module_version": "1.5.0",
            "box_style": "",
            "layout": "IPY_MODEL_0ab7623625d243dd8263b2fec72926dc",
            "_model_module": "@jupyter-widgets/controls",
            "children": [
              "IPY_MODEL_dc8be4b9e3e44fcaaadab58b3301e538",
              "IPY_MODEL_8864c95dda3c49949f7d828ae8bdf331"
            ]
          }
        },
        "0ab7623625d243dd8263b2fec72926dc": {
          "model_module": "@jupyter-widgets/base",
          "model_name": "LayoutModel",
          "state": {
            "_view_name": "LayoutView",
            "grid_template_rows": null,
            "right": null,
            "justify_content": null,
            "_view_module": "@jupyter-widgets/base",
            "overflow": null,
            "_model_module_version": "1.2.0",
            "_view_count": null,
            "flex_flow": null,
            "width": null,
            "min_width": null,
            "border": null,
            "align_items": null,
            "bottom": null,
            "_model_module": "@jupyter-widgets/base",
            "top": null,
            "grid_column": null,
            "overflow_y": null,
            "overflow_x": null,
            "grid_auto_flow": null,
            "grid_area": null,
            "grid_template_columns": null,
            "flex": null,
            "_model_name": "LayoutModel",
            "justify_items": null,
            "grid_row": null,
            "max_height": null,
            "align_content": null,
            "visibility": null,
            "align_self": null,
            "height": null,
            "min_height": null,
            "padding": null,
            "grid_auto_rows": null,
            "grid_gap": null,
            "max_width": null,
            "order": null,
            "_view_module_version": "1.2.0",
            "grid_template_areas": null,
            "object_position": null,
            "object_fit": null,
            "grid_auto_columns": null,
            "margin": null,
            "display": null,
            "left": null
          }
        },
        "dc8be4b9e3e44fcaaadab58b3301e538": {
          "model_module": "@jupyter-widgets/controls",
          "model_name": "FloatProgressModel",
          "state": {
            "_view_name": "ProgressView",
            "style": "IPY_MODEL_3fb765d66fa54ce092b16bfcbb5b6e8f",
            "_dom_classes": [],
            "description": "100%",
            "_model_name": "FloatProgressModel",
            "bar_style": "success",
            "max": 258,
            "_view_module": "@jupyter-widgets/controls",
            "_model_module_version": "1.5.0",
            "value": 258,
            "_view_count": null,
            "_view_module_version": "1.5.0",
            "orientation": "horizontal",
            "min": 0,
            "description_tooltip": null,
            "_model_module": "@jupyter-widgets/controls",
            "layout": "IPY_MODEL_0f6eb3cabc9d4bbabbbb844ca78018ed"
          }
        },
        "8864c95dda3c49949f7d828ae8bdf331": {
          "model_module": "@jupyter-widgets/controls",
          "model_name": "HTMLModel",
          "state": {
            "_view_name": "HTMLView",
            "style": "IPY_MODEL_8e88d48f8cce4e3996c9a01f2f2d3650",
            "_dom_classes": [],
            "description": "",
            "_model_name": "HTMLModel",
            "placeholder": "​",
            "_view_module": "@jupyter-widgets/controls",
            "_model_module_version": "1.5.0",
            "value": " 258/258 [09:04&lt;00:00,  2.11s/it]",
            "_view_count": null,
            "_view_module_version": "1.5.0",
            "description_tooltip": null,
            "_model_module": "@jupyter-widgets/controls",
            "layout": "IPY_MODEL_d73e716ce3694558a8a67193a3b75fde"
          }
        },
        "3fb765d66fa54ce092b16bfcbb5b6e8f": {
          "model_module": "@jupyter-widgets/controls",
          "model_name": "ProgressStyleModel",
          "state": {
            "_view_name": "StyleView",
            "_model_name": "ProgressStyleModel",
            "description_width": "initial",
            "_view_module": "@jupyter-widgets/base",
            "_model_module_version": "1.5.0",
            "_view_count": null,
            "_view_module_version": "1.2.0",
            "bar_color": null,
            "_model_module": "@jupyter-widgets/controls"
          }
        },
        "0f6eb3cabc9d4bbabbbb844ca78018ed": {
          "model_module": "@jupyter-widgets/base",
          "model_name": "LayoutModel",
          "state": {
            "_view_name": "LayoutView",
            "grid_template_rows": null,
            "right": null,
            "justify_content": null,
            "_view_module": "@jupyter-widgets/base",
            "overflow": null,
            "_model_module_version": "1.2.0",
            "_view_count": null,
            "flex_flow": null,
            "width": null,
            "min_width": null,
            "border": null,
            "align_items": null,
            "bottom": null,
            "_model_module": "@jupyter-widgets/base",
            "top": null,
            "grid_column": null,
            "overflow_y": null,
            "overflow_x": null,
            "grid_auto_flow": null,
            "grid_area": null,
            "grid_template_columns": null,
            "flex": null,
            "_model_name": "LayoutModel",
            "justify_items": null,
            "grid_row": null,
            "max_height": null,
            "align_content": null,
            "visibility": null,
            "align_self": null,
            "height": null,
            "min_height": null,
            "padding": null,
            "grid_auto_rows": null,
            "grid_gap": null,
            "max_width": null,
            "order": null,
            "_view_module_version": "1.2.0",
            "grid_template_areas": null,
            "object_position": null,
            "object_fit": null,
            "grid_auto_columns": null,
            "margin": null,
            "display": null,
            "left": null
          }
        },
        "8e88d48f8cce4e3996c9a01f2f2d3650": {
          "model_module": "@jupyter-widgets/controls",
          "model_name": "DescriptionStyleModel",
          "state": {
            "_view_name": "StyleView",
            "_model_name": "DescriptionStyleModel",
            "description_width": "",
            "_view_module": "@jupyter-widgets/base",
            "_model_module_version": "1.5.0",
            "_view_count": null,
            "_view_module_version": "1.2.0",
            "_model_module": "@jupyter-widgets/controls"
          }
        },
        "d73e716ce3694558a8a67193a3b75fde": {
          "model_module": "@jupyter-widgets/base",
          "model_name": "LayoutModel",
          "state": {
            "_view_name": "LayoutView",
            "grid_template_rows": null,
            "right": null,
            "justify_content": null,
            "_view_module": "@jupyter-widgets/base",
            "overflow": null,
            "_model_module_version": "1.2.0",
            "_view_count": null,
            "flex_flow": null,
            "width": null,
            "min_width": null,
            "border": null,
            "align_items": null,
            "bottom": null,
            "_model_module": "@jupyter-widgets/base",
            "top": null,
            "grid_column": null,
            "overflow_y": null,
            "overflow_x": null,
            "grid_auto_flow": null,
            "grid_area": null,
            "grid_template_columns": null,
            "flex": null,
            "_model_name": "LayoutModel",
            "justify_items": null,
            "grid_row": null,
            "max_height": null,
            "align_content": null,
            "visibility": null,
            "align_self": null,
            "height": null,
            "min_height": null,
            "padding": null,
            "grid_auto_rows": null,
            "grid_gap": null,
            "max_width": null,
            "order": null,
            "_view_module_version": "1.2.0",
            "grid_template_areas": null,
            "object_position": null,
            "object_fit": null,
            "grid_auto_columns": null,
            "margin": null,
            "display": null,
            "left": null
          }
        },
        "0cea1fc1579e4367a97008131bab4e67": {
          "model_module": "@jupyter-widgets/controls",
          "model_name": "HBoxModel",
          "state": {
            "_view_name": "HBoxView",
            "_dom_classes": [],
            "_model_name": "HBoxModel",
            "_view_module": "@jupyter-widgets/controls",
            "_model_module_version": "1.5.0",
            "_view_count": null,
            "_view_module_version": "1.5.0",
            "box_style": "",
            "layout": "IPY_MODEL_d38df2f2c3fd40528715c7d977bf47e5",
            "_model_module": "@jupyter-widgets/controls",
            "children": [
              "IPY_MODEL_8b4d0c2def6f4954a8a200566913642a",
              "IPY_MODEL_b833d84ef5e949d1ba2ed1836fcb3c52"
            ]
          }
        },
        "d38df2f2c3fd40528715c7d977bf47e5": {
          "model_module": "@jupyter-widgets/base",
          "model_name": "LayoutModel",
          "state": {
            "_view_name": "LayoutView",
            "grid_template_rows": null,
            "right": null,
            "justify_content": null,
            "_view_module": "@jupyter-widgets/base",
            "overflow": null,
            "_model_module_version": "1.2.0",
            "_view_count": null,
            "flex_flow": null,
            "width": null,
            "min_width": null,
            "border": null,
            "align_items": null,
            "bottom": null,
            "_model_module": "@jupyter-widgets/base",
            "top": null,
            "grid_column": null,
            "overflow_y": null,
            "overflow_x": null,
            "grid_auto_flow": null,
            "grid_area": null,
            "grid_template_columns": null,
            "flex": null,
            "_model_name": "LayoutModel",
            "justify_items": null,
            "grid_row": null,
            "max_height": null,
            "align_content": null,
            "visibility": null,
            "align_self": null,
            "height": null,
            "min_height": null,
            "padding": null,
            "grid_auto_rows": null,
            "grid_gap": null,
            "max_width": null,
            "order": null,
            "_view_module_version": "1.2.0",
            "grid_template_areas": null,
            "object_position": null,
            "object_fit": null,
            "grid_auto_columns": null,
            "margin": null,
            "display": null,
            "left": null
          }
        },
        "8b4d0c2def6f4954a8a200566913642a": {
          "model_module": "@jupyter-widgets/controls",
          "model_name": "FloatProgressModel",
          "state": {
            "_view_name": "ProgressView",
            "style": "IPY_MODEL_69aa7e5e6c6b4a74ac931941e81f2a7c",
            "_dom_classes": [],
            "description": "100%",
            "_model_name": "FloatProgressModel",
            "bar_style": "success",
            "max": 83,
            "_view_module": "@jupyter-widgets/controls",
            "_model_module_version": "1.5.0",
            "value": 83,
            "_view_count": null,
            "_view_module_version": "1.5.0",
            "orientation": "horizontal",
            "min": 0,
            "description_tooltip": null,
            "_model_module": "@jupyter-widgets/controls",
            "layout": "IPY_MODEL_8be53c5ad3364dfe96dbaaa13ec27aa1"
          }
        },
        "b833d84ef5e949d1ba2ed1836fcb3c52": {
          "model_module": "@jupyter-widgets/controls",
          "model_name": "HTMLModel",
          "state": {
            "_view_name": "HTMLView",
            "style": "IPY_MODEL_831133fb7d904062b21af64ac92cf09e",
            "_dom_classes": [],
            "description": "",
            "_model_name": "HTMLModel",
            "placeholder": "​",
            "_view_module": "@jupyter-widgets/controls",
            "_model_module_version": "1.5.0",
            "value": " 83/83 [03:16&lt;00:00,  2.36s/it]",
            "_view_count": null,
            "_view_module_version": "1.5.0",
            "description_tooltip": null,
            "_model_module": "@jupyter-widgets/controls",
            "layout": "IPY_MODEL_495100a2d28a46289ca9da73cb62979e"
          }
        },
        "69aa7e5e6c6b4a74ac931941e81f2a7c": {
          "model_module": "@jupyter-widgets/controls",
          "model_name": "ProgressStyleModel",
          "state": {
            "_view_name": "StyleView",
            "_model_name": "ProgressStyleModel",
            "description_width": "initial",
            "_view_module": "@jupyter-widgets/base",
            "_model_module_version": "1.5.0",
            "_view_count": null,
            "_view_module_version": "1.2.0",
            "bar_color": null,
            "_model_module": "@jupyter-widgets/controls"
          }
        },
        "8be53c5ad3364dfe96dbaaa13ec27aa1": {
          "model_module": "@jupyter-widgets/base",
          "model_name": "LayoutModel",
          "state": {
            "_view_name": "LayoutView",
            "grid_template_rows": null,
            "right": null,
            "justify_content": null,
            "_view_module": "@jupyter-widgets/base",
            "overflow": null,
            "_model_module_version": "1.2.0",
            "_view_count": null,
            "flex_flow": null,
            "width": null,
            "min_width": null,
            "border": null,
            "align_items": null,
            "bottom": null,
            "_model_module": "@jupyter-widgets/base",
            "top": null,
            "grid_column": null,
            "overflow_y": null,
            "overflow_x": null,
            "grid_auto_flow": null,
            "grid_area": null,
            "grid_template_columns": null,
            "flex": null,
            "_model_name": "LayoutModel",
            "justify_items": null,
            "grid_row": null,
            "max_height": null,
            "align_content": null,
            "visibility": null,
            "align_self": null,
            "height": null,
            "min_height": null,
            "padding": null,
            "grid_auto_rows": null,
            "grid_gap": null,
            "max_width": null,
            "order": null,
            "_view_module_version": "1.2.0",
            "grid_template_areas": null,
            "object_position": null,
            "object_fit": null,
            "grid_auto_columns": null,
            "margin": null,
            "display": null,
            "left": null
          }
        },
        "831133fb7d904062b21af64ac92cf09e": {
          "model_module": "@jupyter-widgets/controls",
          "model_name": "DescriptionStyleModel",
          "state": {
            "_view_name": "StyleView",
            "_model_name": "DescriptionStyleModel",
            "description_width": "",
            "_view_module": "@jupyter-widgets/base",
            "_model_module_version": "1.5.0",
            "_view_count": null,
            "_view_module_version": "1.2.0",
            "_model_module": "@jupyter-widgets/controls"
          }
        },
        "495100a2d28a46289ca9da73cb62979e": {
          "model_module": "@jupyter-widgets/base",
          "model_name": "LayoutModel",
          "state": {
            "_view_name": "LayoutView",
            "grid_template_rows": null,
            "right": null,
            "justify_content": null,
            "_view_module": "@jupyter-widgets/base",
            "overflow": null,
            "_model_module_version": "1.2.0",
            "_view_count": null,
            "flex_flow": null,
            "width": null,
            "min_width": null,
            "border": null,
            "align_items": null,
            "bottom": null,
            "_model_module": "@jupyter-widgets/base",
            "top": null,
            "grid_column": null,
            "overflow_y": null,
            "overflow_x": null,
            "grid_auto_flow": null,
            "grid_area": null,
            "grid_template_columns": null,
            "flex": null,
            "_model_name": "LayoutModel",
            "justify_items": null,
            "grid_row": null,
            "max_height": null,
            "align_content": null,
            "visibility": null,
            "align_self": null,
            "height": null,
            "min_height": null,
            "padding": null,
            "grid_auto_rows": null,
            "grid_gap": null,
            "max_width": null,
            "order": null,
            "_view_module_version": "1.2.0",
            "grid_template_areas": null,
            "object_position": null,
            "object_fit": null,
            "grid_auto_columns": null,
            "margin": null,
            "display": null,
            "left": null
          }
        },
        "c0203d3e38f94ecaa55a40d0bb8bafa3": {
          "model_module": "@jupyter-widgets/controls",
          "model_name": "HBoxModel",
          "state": {
            "_view_name": "HBoxView",
            "_dom_classes": [],
            "_model_name": "HBoxModel",
            "_view_module": "@jupyter-widgets/controls",
            "_model_module_version": "1.5.0",
            "_view_count": null,
            "_view_module_version": "1.5.0",
            "box_style": "",
            "layout": "IPY_MODEL_44f086ded85c4bbfbd22476425691c5b",
            "_model_module": "@jupyter-widgets/controls",
            "children": [
              "IPY_MODEL_0da56e1ea7024e66861bf9af12ccaefb",
              "IPY_MODEL_f8bbecbbcbc946109299f4ed9dcb7f31"
            ]
          }
        },
        "44f086ded85c4bbfbd22476425691c5b": {
          "model_module": "@jupyter-widgets/base",
          "model_name": "LayoutModel",
          "state": {
            "_view_name": "LayoutView",
            "grid_template_rows": null,
            "right": null,
            "justify_content": null,
            "_view_module": "@jupyter-widgets/base",
            "overflow": null,
            "_model_module_version": "1.2.0",
            "_view_count": null,
            "flex_flow": null,
            "width": null,
            "min_width": null,
            "border": null,
            "align_items": null,
            "bottom": null,
            "_model_module": "@jupyter-widgets/base",
            "top": null,
            "grid_column": null,
            "overflow_y": null,
            "overflow_x": null,
            "grid_auto_flow": null,
            "grid_area": null,
            "grid_template_columns": null,
            "flex": null,
            "_model_name": "LayoutModel",
            "justify_items": null,
            "grid_row": null,
            "max_height": null,
            "align_content": null,
            "visibility": null,
            "align_self": null,
            "height": null,
            "min_height": null,
            "padding": null,
            "grid_auto_rows": null,
            "grid_gap": null,
            "max_width": null,
            "order": null,
            "_view_module_version": "1.2.0",
            "grid_template_areas": null,
            "object_position": null,
            "object_fit": null,
            "grid_auto_columns": null,
            "margin": null,
            "display": null,
            "left": null
          }
        },
        "0da56e1ea7024e66861bf9af12ccaefb": {
          "model_module": "@jupyter-widgets/controls",
          "model_name": "FloatProgressModel",
          "state": {
            "_view_name": "ProgressView",
            "style": "IPY_MODEL_fe85de73762f4f559b90a21f3ecf8068",
            "_dom_classes": [],
            "description": "100%",
            "_model_name": "FloatProgressModel",
            "bar_style": "success",
            "max": 69,
            "_view_module": "@jupyter-widgets/controls",
            "_model_module_version": "1.5.0",
            "value": 69,
            "_view_count": null,
            "_view_module_version": "1.5.0",
            "orientation": "horizontal",
            "min": 0,
            "description_tooltip": null,
            "_model_module": "@jupyter-widgets/controls",
            "layout": "IPY_MODEL_69c72e32736b4c40a512ab73468ff72c"
          }
        },
        "f8bbecbbcbc946109299f4ed9dcb7f31": {
          "model_module": "@jupyter-widgets/controls",
          "model_name": "HTMLModel",
          "state": {
            "_view_name": "HTMLView",
            "style": "IPY_MODEL_5dffdb68c0d148c2a4850c2c135e3bf9",
            "_dom_classes": [],
            "description": "",
            "_model_name": "HTMLModel",
            "placeholder": "​",
            "_view_module": "@jupyter-widgets/controls",
            "_model_module_version": "1.5.0",
            "value": " 69/69 [01:20&lt;00:00,  1.17s/it]",
            "_view_count": null,
            "_view_module_version": "1.5.0",
            "description_tooltip": null,
            "_model_module": "@jupyter-widgets/controls",
            "layout": "IPY_MODEL_6c4861486ff840919443c7f5fe9618f1"
          }
        },
        "fe85de73762f4f559b90a21f3ecf8068": {
          "model_module": "@jupyter-widgets/controls",
          "model_name": "ProgressStyleModel",
          "state": {
            "_view_name": "StyleView",
            "_model_name": "ProgressStyleModel",
            "description_width": "initial",
            "_view_module": "@jupyter-widgets/base",
            "_model_module_version": "1.5.0",
            "_view_count": null,
            "_view_module_version": "1.2.0",
            "bar_color": null,
            "_model_module": "@jupyter-widgets/controls"
          }
        },
        "69c72e32736b4c40a512ab73468ff72c": {
          "model_module": "@jupyter-widgets/base",
          "model_name": "LayoutModel",
          "state": {
            "_view_name": "LayoutView",
            "grid_template_rows": null,
            "right": null,
            "justify_content": null,
            "_view_module": "@jupyter-widgets/base",
            "overflow": null,
            "_model_module_version": "1.2.0",
            "_view_count": null,
            "flex_flow": null,
            "width": null,
            "min_width": null,
            "border": null,
            "align_items": null,
            "bottom": null,
            "_model_module": "@jupyter-widgets/base",
            "top": null,
            "grid_column": null,
            "overflow_y": null,
            "overflow_x": null,
            "grid_auto_flow": null,
            "grid_area": null,
            "grid_template_columns": null,
            "flex": null,
            "_model_name": "LayoutModel",
            "justify_items": null,
            "grid_row": null,
            "max_height": null,
            "align_content": null,
            "visibility": null,
            "align_self": null,
            "height": null,
            "min_height": null,
            "padding": null,
            "grid_auto_rows": null,
            "grid_gap": null,
            "max_width": null,
            "order": null,
            "_view_module_version": "1.2.0",
            "grid_template_areas": null,
            "object_position": null,
            "object_fit": null,
            "grid_auto_columns": null,
            "margin": null,
            "display": null,
            "left": null
          }
        },
        "5dffdb68c0d148c2a4850c2c135e3bf9": {
          "model_module": "@jupyter-widgets/controls",
          "model_name": "DescriptionStyleModel",
          "state": {
            "_view_name": "StyleView",
            "_model_name": "DescriptionStyleModel",
            "description_width": "",
            "_view_module": "@jupyter-widgets/base",
            "_model_module_version": "1.5.0",
            "_view_count": null,
            "_view_module_version": "1.2.0",
            "_model_module": "@jupyter-widgets/controls"
          }
        },
        "6c4861486ff840919443c7f5fe9618f1": {
          "model_module": "@jupyter-widgets/base",
          "model_name": "LayoutModel",
          "state": {
            "_view_name": "LayoutView",
            "grid_template_rows": null,
            "right": null,
            "justify_content": null,
            "_view_module": "@jupyter-widgets/base",
            "overflow": null,
            "_model_module_version": "1.2.0",
            "_view_count": null,
            "flex_flow": null,
            "width": null,
            "min_width": null,
            "border": null,
            "align_items": null,
            "bottom": null,
            "_model_module": "@jupyter-widgets/base",
            "top": null,
            "grid_column": null,
            "overflow_y": null,
            "overflow_x": null,
            "grid_auto_flow": null,
            "grid_area": null,
            "grid_template_columns": null,
            "flex": null,
            "_model_name": "LayoutModel",
            "justify_items": null,
            "grid_row": null,
            "max_height": null,
            "align_content": null,
            "visibility": null,
            "align_self": null,
            "height": null,
            "min_height": null,
            "padding": null,
            "grid_auto_rows": null,
            "grid_gap": null,
            "max_width": null,
            "order": null,
            "_view_module_version": "1.2.0",
            "grid_template_areas": null,
            "object_position": null,
            "object_fit": null,
            "grid_auto_columns": null,
            "margin": null,
            "display": null,
            "left": null
          }
        }
      }
    }
  },
  "cells": [
    {
      "cell_type": "markdown",
      "metadata": {
        "id": "view-in-github",
        "colab_type": "text"
      },
      "source": [
        "<a href=\"https://colab.research.google.com/github/AmiOgita/memo/blob/main/semseg_trial1.ipynb\" target=\"_parent\"><img src=\"https://colab.research.google.com/assets/colab-badge.svg\" alt=\"Open In Colab\"/></a>"
      ]
    },
    {
      "cell_type": "code",
      "metadata": {
        "id": "Db5X9bgFUXNf"
      },
      "source": [
        "import pandas as pd\n",
        "import numpy as np\n",
        "import matplotlib.pyplot as plt\n",
        "%matplotlib inline\n",
        "\n",
        "import os\n",
        "from glob import glob\n",
        "import sys\n",
        "import random\n",
        "\n",
        "from tqdm import tqdm_notebook\n",
        "from skimage.io import imread, imshow\n",
        "from skimage.transform import resize\n",
        "import imageio\n",
        "\n",
        "import torch\n",
        "import torch.nn as nn\n",
        "import torch.nn.functional as F\n",
        "import torchvision.datasets as dsets\n",
        "from torch.autograd import Variable\n",
        "from torch.utils.data import DataLoader, Dataset\n",
        "import torch.optim as optim\n",
        "import torchvision.transforms as transforms\n",
        "import torchvision.transforms.functional as TF\n",
        "\n",
        "import cv2"
      ],
      "execution_count": 1,
      "outputs": []
    },
    {
      "cell_type": "code",
      "metadata": {
        "colab": {
          "base_uri": "https://localhost:8080/"
        },
        "id": "MBgmD0mCf_Rk",
        "outputId": "5235de35-c5e8-4c85-9ea8-199ef43ed147"
      },
      "source": [
        "device = torch.device('cuda' if torch.cuda.is_available() else 'cpu')\n",
        "print(device)\n",
        "\n",
        "torch.manual_seed(42)"
      ],
      "execution_count": 2,
      "outputs": [
        {
          "output_type": "stream",
          "text": [
            "cuda\n"
          ],
          "name": "stdout"
        },
        {
          "output_type": "execute_result",
          "data": {
            "text/plain": [
              "<torch._C.Generator at 0x7fb8950ea790>"
            ]
          },
          "metadata": {
            "tags": []
          },
          "execution_count": 2
        }
      ]
    },
    {
      "cell_type": "code",
      "metadata": {
        "id": "gFk4znKtYKBL"
      },
      "source": [
        "im_width = 512\n",
        "im_height = 512\n",
        "im_chan = 3"
      ],
      "execution_count": 3,
      "outputs": []
    },
    {
      "cell_type": "code",
      "metadata": {
        "id": "FaDe2pyEcWTY"
      },
      "source": [
        "path_train = '/content/drive/MyDrive/train'\n",
        "path_test = '/content/drive/MyDrive/test'\n",
        "path_valid = '/content/drive/MyDrive/validation'\n",
        "\n",
        "train_path_images = os.path.abspath(path_train + \"/images/\")\n",
        "train_path_masks = os.path.abspath(path_train + \"/masks/\")\n",
        "\n",
        "test_path_images = os.path.abspath(path_test + \"/images/\")\n",
        "test_path_masks = os.path.abspath(path_test + \"/masks/\")\n",
        "\n",
        "valid_path_images = os.path.abspath(path_valid + \"/images/\")\n",
        "valid_path_masks = os.path.abspath(path_valid + \"/masks/\")"
      ],
      "execution_count": 4,
      "outputs": []
    },
    {
      "cell_type": "code",
      "metadata": {
        "id": "XHcqWkFddwXp"
      },
      "source": [
        "train_path_images_list = glob(os.path.join(train_path_images, \"*.tif\"))\n",
        "train_path_masks_list = glob(os.path.join(train_path_masks, \"*.tif\"))\n",
        "test_path_images_list = glob(os.path.join(test_path_images, \"*.tif\"))\n",
        "test_path_masks_list = glob(os.path.join(test_path_masks, \"*.tif\"))\n",
        "valid_path_images_list = glob(os.path.join(valid_path_images, \"*.tif\"))\n",
        "valid_path_masks_list = glob(os.path.join(valid_path_masks, \"*.tif\"))"
      ],
      "execution_count": 5,
      "outputs": []
    },
    {
      "cell_type": "code",
      "metadata": {
        "id": "o450AsVWd1rg"
      },
      "source": [
        "train_ids = next(os.walk(train_path_images))[2]\n",
        "test_ids = next(os.walk(test_path_images))[2]\n",
        "valid_ids = next(os.walk(valid_path_images))[2]"
      ],
      "execution_count": 6,
      "outputs": []
    },
    {
      "cell_type": "code",
      "metadata": {
        "colab": {
          "base_uri": "https://localhost:8080/",
          "height": 171,
          "referenced_widgets": [
            "511d8d4be59147fb954191ad422c6f1a",
            "0ab7623625d243dd8263b2fec72926dc",
            "dc8be4b9e3e44fcaaadab58b3301e538",
            "8864c95dda3c49949f7d828ae8bdf331",
            "3fb765d66fa54ce092b16bfcbb5b6e8f",
            "0f6eb3cabc9d4bbabbbb844ca78018ed",
            "8e88d48f8cce4e3996c9a01f2f2d3650",
            "d73e716ce3694558a8a67193a3b75fde"
          ]
        },
        "id": "DOiSSB7qd9jS",
        "outputId": "0c097580-489c-4158-f089-f033c3d9e8a9"
      },
      "source": [
        "X_train = np.zeros((len(train_ids), im_height, im_width, im_chan), dtype=np.uint8)\n",
        "Y_train = np.zeros((len(train_ids), im_height, im_width), dtype=np.bool_)\n",
        "\n",
        "print('Getting training data...')\n",
        "\n",
        "sys.stdout.flush()\n",
        "for n, id_ in tqdm_notebook(enumerate(train_ids), total=len(train_ids)):\n",
        "    img = cv2.imread(path_train + '/images/' + id_)\n",
        "    X_train[n] = img\n",
        "    \n",
        "    mask = cv2.imread(path_train + '/masks/' + id_)\n",
        "    mask = cv2.cvtColor(mask, cv2.COLOR_BGR2GRAY)\n",
        "    ret,mask = cv2.threshold(mask,0,255,cv2.THRESH_BINARY+cv2.THRESH_OTSU)\n",
        "    Y_train[n] = mask\n",
        "    \n",
        "print('Done!')"
      ],
      "execution_count": 7,
      "outputs": [
        {
          "output_type": "stream",
          "text": [
            "Getting training data...\n"
          ],
          "name": "stdout"
        },
        {
          "output_type": "stream",
          "text": [
            "/usr/local/lib/python3.7/dist-packages/ipykernel_launcher.py:7: TqdmDeprecationWarning: This function will be removed in tqdm==5.0.0\n",
            "Please use `tqdm.notebook.tqdm` instead of `tqdm.tqdm_notebook`\n",
            "  import sys\n"
          ],
          "name": "stderr"
        },
        {
          "output_type": "display_data",
          "data": {
            "application/vnd.jupyter.widget-view+json": {
              "model_id": "511d8d4be59147fb954191ad422c6f1a",
              "version_minor": 0,
              "version_major": 2
            },
            "text/plain": [
              "HBox(children=(FloatProgress(value=0.0, max=258.0), HTML(value='')))"
            ]
          },
          "metadata": {
            "tags": []
          }
        },
        {
          "output_type": "stream",
          "text": [
            "\n",
            "Done!\n"
          ],
          "name": "stdout"
        }
      ]
    },
    {
      "cell_type": "code",
      "metadata": {
        "colab": {
          "base_uri": "https://localhost:8080/",
          "height": 171,
          "referenced_widgets": [
            "0cea1fc1579e4367a97008131bab4e67",
            "d38df2f2c3fd40528715c7d977bf47e5",
            "8b4d0c2def6f4954a8a200566913642a",
            "b833d84ef5e949d1ba2ed1836fcb3c52",
            "69aa7e5e6c6b4a74ac931941e81f2a7c",
            "8be53c5ad3364dfe96dbaaa13ec27aa1",
            "831133fb7d904062b21af64ac92cf09e",
            "495100a2d28a46289ca9da73cb62979e"
          ]
        },
        "id": "FEQ7UMdKeSoz",
        "outputId": "589ade47-fcf6-4108-c456-626f3244a59c"
      },
      "source": [
        "X_test = np.zeros((len(test_ids), im_height, im_width, im_chan), dtype=np.uint8)\n",
        "Y_test = np.zeros((len(test_ids), im_height, im_width), dtype=np.bool_)\n",
        "\n",
        "print('Getting testing data...')\n",
        "\n",
        "sys.stdout.flush()\n",
        "for n, id_ in tqdm_notebook(enumerate(test_ids), total=len(test_ids)):\n",
        "    img = cv2.imread(path_test + '/images/' + id_)\n",
        "    X_test[n] = img\n",
        "    \n",
        "    mask = cv2.imread(path_test + '/masks/' + id_)\n",
        "    mask = cv2.cvtColor(mask, cv2.COLOR_BGR2GRAY)\n",
        "    ret,mask = cv2.threshold(mask,0,255,cv2.THRESH_BINARY+cv2.THRESH_OTSU)\n",
        "    mask = np.resize(mask,(512,512))\n",
        "    Y_test[n] = mask\n",
        "    \n",
        "print('Done!')"
      ],
      "execution_count": 8,
      "outputs": [
        {
          "output_type": "stream",
          "text": [
            "Getting testing data...\n"
          ],
          "name": "stdout"
        },
        {
          "output_type": "stream",
          "text": [
            "/usr/local/lib/python3.7/dist-packages/ipykernel_launcher.py:7: TqdmDeprecationWarning: This function will be removed in tqdm==5.0.0\n",
            "Please use `tqdm.notebook.tqdm` instead of `tqdm.tqdm_notebook`\n",
            "  import sys\n"
          ],
          "name": "stderr"
        },
        {
          "output_type": "display_data",
          "data": {
            "application/vnd.jupyter.widget-view+json": {
              "model_id": "0cea1fc1579e4367a97008131bab4e67",
              "version_minor": 0,
              "version_major": 2
            },
            "text/plain": [
              "HBox(children=(FloatProgress(value=0.0, max=83.0), HTML(value='')))"
            ]
          },
          "metadata": {
            "tags": []
          }
        },
        {
          "output_type": "stream",
          "text": [
            "\n",
            "Done!\n"
          ],
          "name": "stdout"
        }
      ]
    },
    {
      "cell_type": "code",
      "metadata": {
        "colab": {
          "base_uri": "https://localhost:8080/",
          "height": 171,
          "referenced_widgets": [
            "c0203d3e38f94ecaa55a40d0bb8bafa3",
            "44f086ded85c4bbfbd22476425691c5b",
            "0da56e1ea7024e66861bf9af12ccaefb",
            "f8bbecbbcbc946109299f4ed9dcb7f31",
            "fe85de73762f4f559b90a21f3ecf8068",
            "69c72e32736b4c40a512ab73468ff72c",
            "5dffdb68c0d148c2a4850c2c135e3bf9",
            "6c4861486ff840919443c7f5fe9618f1"
          ]
        },
        "id": "MJXIKiUaeOTF",
        "outputId": "b2d6c078-cf8b-436d-fceb-380a1e84f0c2"
      },
      "source": [
        "X_valid = np.zeros((len(valid_ids), im_height, im_width, im_chan), dtype=np.uint8)\n",
        "Y_valid = np.zeros((len(valid_ids), im_height, im_width), dtype=np.bool_)\n",
        "\n",
        "print('Getting validation data...')\n",
        "\n",
        "sys.stdout.flush()\n",
        "for n, id_ in tqdm_notebook(enumerate(valid_ids), total=len(valid_ids)):\n",
        "    img = cv2.imread(path_valid + '/images/' + id_)\n",
        "    X_valid[n] = img\n",
        "    \n",
        "    mask = cv2.imread(path_valid + '/masks/' + id_)\n",
        "    mask = cv2.cvtColor(mask, cv2.COLOR_BGR2GRAY)\n",
        "    mask = np.resize(mask,(512,512))\n",
        "    Y_valid[n] = mask\n",
        "\n",
        "    \n",
        "print('Done!')"
      ],
      "execution_count": 9,
      "outputs": [
        {
          "output_type": "stream",
          "text": [
            "Getting validation data...\n"
          ],
          "name": "stdout"
        },
        {
          "output_type": "stream",
          "text": [
            "/usr/local/lib/python3.7/dist-packages/ipykernel_launcher.py:7: TqdmDeprecationWarning: This function will be removed in tqdm==5.0.0\n",
            "Please use `tqdm.notebook.tqdm` instead of `tqdm.tqdm_notebook`\n",
            "  import sys\n"
          ],
          "name": "stderr"
        },
        {
          "output_type": "display_data",
          "data": {
            "application/vnd.jupyter.widget-view+json": {
              "model_id": "c0203d3e38f94ecaa55a40d0bb8bafa3",
              "version_minor": 0,
              "version_major": 2
            },
            "text/plain": [
              "HBox(children=(FloatProgress(value=0.0, max=69.0), HTML(value='')))"
            ]
          },
          "metadata": {
            "tags": []
          }
        },
        {
          "output_type": "stream",
          "text": [
            "\n",
            "Done!\n"
          ],
          "name": "stdout"
        }
      ]
    },
    {
      "cell_type": "code",
      "metadata": {
        "id": "m4-XhKWosgll"
      },
      "source": [
        "class Nuc_Seg(Dataset):\n",
        "    def __init__(self, images_np, masks_np):\n",
        "        self.images_np = images_np\n",
        "        self.masks_np = masks_np\n",
        "    \n",
        "    def transform(self, image_np, mask_np):\n",
        "        ToPILImage = transforms.ToPILImage()\n",
        "        image = ToPILImage(image_np)\n",
        "        mask = ToPILImage(mask_np.astype(np.int32))\n",
        "        \n",
        "        image = TF.pad(image, padding = 20, padding_mode = 'reflect')\n",
        "        mask = TF.pad(mask, padding = 20, padding_mode = 'reflect')\n",
        "        \n",
        "        angle = random.uniform(-10, 10)\n",
        "        width, height = image.size\n",
        "        max_dx = 0.1 * width\n",
        "        max_dy = 0.1 * height\n",
        "        translations = (np.round(random.uniform(-max_dx, max_dx)), np.round(random.uniform(-max_dy, max_dy)))\n",
        "        scale = random.uniform(0.8, 1.2)\n",
        "        shear = random.uniform(-0.5, 0.5)\n",
        "        image = TF.affine(image, angle = angle, translate = translations, scale = scale, shear = shear)\n",
        "        mask = TF.affine(mask, angle = angle, translate = translations, scale = scale, shear = shear)\n",
        "        \n",
        "        image = TF.center_crop(image, (128, 128))\n",
        "        mask = TF.center_crop(mask, (128, 128))\n",
        "        \n",
        "        image = TF.to_tensor(image)\n",
        "        mask = TF.to_tensor(mask)\n",
        "        return image, mask\n",
        "        \n",
        "    def __len__(self):\n",
        "        return len(self.images_np)\n",
        "    \n",
        "    def __getitem__(self, idx):\n",
        "        image_np = self.images_np[idx]\n",
        "        mask_np = self.masks_np[idx]\n",
        "        image, mask = self.transform(image_np, mask_np)\n",
        "        \n",
        "        return image, mask    \n"
      ],
      "execution_count": 10,
      "outputs": []
    },
    {
      "cell_type": "code",
      "metadata": {
        "id": "PDGFM8EGffI5"
      },
      "source": [
        "train_dataset = Nuc_Seg(X_train, Y_train)\n",
        "train_loader = DataLoader(train_dataset, batch_size = 16, shuffle = True)\n",
        "\n",
        "test_dataset = Nuc_Seg(X_test, Y_test)\n",
        "test_loader = DataLoader(test_dataset, batch_size = 16, shuffle = True)\n",
        "\n",
        "valid_dataset = Nuc_Seg(X_valid, Y_valid)\n",
        "valid_loader = DataLoader(valid_dataset, batch_size = 16, shuffle = True)"
      ],
      "execution_count": 11,
      "outputs": []
    },
    {
      "cell_type": "code",
      "metadata": {
        "id": "mtFojzs2fmcT"
      },
      "source": [
        "def iou(pred, target, n_classes = 2):\n",
        "    \n",
        "    iou = []\n",
        "    pred = pred.view(-1)\n",
        "    target = target.view(-1)\n",
        "\n",
        "    # Ignore IoU for background class (\"0\")\n",
        "    for cls in range(1, n_classes):  # This goes from 1:n_classes-1 -> class \"0\" is ignored\n",
        "      pred_inds = pred == cls\n",
        "      target_inds = target == cls\n",
        "      intersection = (pred_inds[target_inds]).long().sum().data.cpu().item()  # Cast to long to prevent overflows\n",
        "      union = pred_inds.long().sum().data.cpu().item() + target_inds.long().sum().data.cpu().item() - intersection\n",
        "    \n",
        "      if union == 0:\n",
        "        iou.append(float('nan'))  # If there is no ground truth, do not include in evaluation\n",
        "      else:\n",
        "        iou.append(float(intersection) / float(max(union, 1)))\n",
        "     \n",
        "    return sum(iou)"
      ],
      "execution_count": 12,
      "outputs": []
    },
    {
      "cell_type": "code",
      "metadata": {
        "id": "ouKp8x1xfndp"
      },
      "source": [
        "def iou_metric(y_pred, y_true, n_classes = 2):\n",
        "    miou = []\n",
        "    for i in np.arange(0.5, 1.0, 0.05):\n",
        "        y_pred_ = (y_pred > i)\n",
        "        iou_init = iou(y_pred_, y_true, n_classes = n_classes)\n",
        "        miou.append(iou_init)\n",
        "    \n",
        "    return sum(miou)/len(miou)"
      ],
      "execution_count": 13,
      "outputs": []
    },
    {
      "cell_type": "code",
      "metadata": {
        "id": "nWKsYQBnfwBT"
      },
      "source": [
        "class UNet(nn.Module):\n",
        "    \n",
        "    def __init__(self):\n",
        "        super().__init__()\n",
        "        \n",
        "        self.conv1_1 = nn.Conv2d(3, 16, kernel_size = 3, padding = 1)\n",
        "        self.drop1_1 = nn.Dropout2d(0.1)\n",
        "        self.conv1_2 = nn.Conv2d(16, 16, kernel_size = 3, padding = 1)\n",
        "        \n",
        "        self.conv2_1 = nn.Conv2d(16, 32, kernel_size = 3, padding = 1)\n",
        "        self.drop2_1 = nn.Dropout2d(0.1)\n",
        "        self.conv2_2 = nn.Conv2d(32, 32, kernel_size = 3, padding = 1)\n",
        "        \n",
        "        self.conv3_1 = nn.Conv2d(32, 64, kernel_size = 3, padding = 1)\n",
        "        self.drop3_1 = nn.Dropout2d(0.2)\n",
        "        self.conv3_2 = nn.Conv2d(64, 64, kernel_size = 3, padding = 1)\n",
        "        \n",
        "        self.conv4_1 = nn.Conv2d(64, 128, kernel_size = 3, padding = 1)\n",
        "        self.drop4_1 = nn.Dropout2d(0.2)\n",
        "        self.conv4_2 = nn.Conv2d(128, 128, kernel_size = 3, padding = 1)\n",
        "        \n",
        "        self.conv5_1 = nn.Conv2d(128, 256, kernel_size = 3, padding = 1)\n",
        "        self.drop5_1 = nn.Dropout2d(0.3)\n",
        "        self.conv5_2 = nn.Conv2d(256, 256, kernel_size = 3, padding = 1)\n",
        "        \n",
        "        self.conv_trans6_1 = nn.ConvTranspose2d(256, 128, kernel_size = 2, stride = (2, 2))\n",
        "        self.conv6_1 = nn.Conv2d(256, 128, kernel_size = 3, padding = 1)\n",
        "        self.drop6_1 = nn.Dropout2d(0.2)\n",
        "        self.conv6_2 = nn.Conv2d(128, 128, kernel_size = 3, padding = 1)\n",
        "        \n",
        "        self.conv_trans7_1 = nn.ConvTranspose2d(128, 64, kernel_size = 2, stride = (2, 2))\n",
        "        self.conv7_1 = nn.Conv2d(128, 64, kernel_size = 3, padding = 1)\n",
        "        self.drop7_1 = nn.Dropout2d(0.2)\n",
        "        self.conv7_2 = nn.Conv2d(64, 64, kernel_size = 3, padding = 1)\n",
        "        \n",
        "        self.conv_trans8_1 = nn.ConvTranspose2d(64, 32, kernel_size = 2, stride = (2, 2))\n",
        "        self.conv8_1 = nn.Conv2d(64, 32, kernel_size = 3, padding = 1)\n",
        "        self.drop8_1 = nn.Dropout2d(0.1)\n",
        "        self.conv8_2 = nn.Conv2d(32, 32, kernel_size = 3, padding = 1)\n",
        "        \n",
        "        self.conv_trans9_1 = nn.ConvTranspose2d(32, 16, kernel_size = 2, stride = (2, 2))\n",
        "        self.conv9_1 = nn.Conv2d(32, 16, kernel_size = 3, padding = 1)\n",
        "        self.drop9_1 = nn.Dropout2d(0.1)\n",
        "        self.conv9_2 = nn.Conv2d(16, 16, kernel_size = 3, padding = 1)\n",
        "        \n",
        "        self.conv10 = nn.Conv2d(16, 1, kernel_size = 3, padding = 1)\n",
        "    \n",
        "    def forward(self, s):\n",
        "        \n",
        "        c1 = F.elu(self.conv1_1(s))\n",
        "        c1 = self.drop1_1(c1)\n",
        "        c1 = F.elu(self.conv1_2(c1))\n",
        "        p1 = F.max_pool2d(c1, kernel_size = (2, 2), stride = 2)\n",
        "        \n",
        "        c2 = F.elu(self.conv2_1(p1))\n",
        "        c2 = self.drop2_1(c2)\n",
        "        c2 = F.elu(self.conv2_2(c2))\n",
        "        p2 = F.max_pool2d(c2, kernel_size = (2, 2), stride = 2)\n",
        "        \n",
        "        c3 = F.elu(self.conv3_1(p2))\n",
        "        c3 = self.drop3_1(c3)\n",
        "        c3 = F.elu(self.conv3_2(c3))\n",
        "        p3 = F.max_pool2d(c3, kernel_size = (2, 2), stride = 2)\n",
        "        \n",
        "        c4 = F.elu(self.conv4_1(p3))\n",
        "        c4 = self.drop4_1(c4)\n",
        "        c4 = F.elu(self.conv4_2(c4))\n",
        "        p4 = F.max_pool2d(c4, kernel_size = (2, 2), stride = 2)\n",
        "        \n",
        "        c5 = F.elu(self.conv5_1(p4))\n",
        "        c5 = self.drop5_1(c5)\n",
        "        c5 = F.elu(self.conv5_2(c5))\n",
        "        \n",
        "        u6 = self.conv_trans6_1(c5)\n",
        "        u6 = torch.cat((u6, c4), axis = 1)\n",
        "        c6 = F.elu(self.conv6_1(u6))\n",
        "        c6 = self.drop6_1(c6)\n",
        "        c6 = F.elu(self.conv6_2(c6))\n",
        "        \n",
        "        u7 = self.conv_trans7_1(c6)\n",
        "        u7 = torch.cat((u7, c3), axis = 1)\n",
        "        c7 = F.elu(self.conv7_1(u7))\n",
        "        c7 = self.drop7_1(c7)\n",
        "        c7 = F.elu(self.conv7_2(c7))\n",
        "    \n",
        "        u8 = self.conv_trans8_1(c7)\n",
        "        u8 = torch.cat((u8, c2), axis = 1)\n",
        "        c8 = F.elu(self.conv8_1(u8))\n",
        "        c8 = self.drop8_1(c8)\n",
        "        c8 = F.elu(self.conv8_2(c8))\n",
        "        \n",
        "        u9 = self.conv_trans9_1(c8)\n",
        "        u9 = torch.cat((u9, c1), axis = 1)\n",
        "        c9 = F.elu(self.conv9_1(u9))\n",
        "        c9 = self.drop9_1(c9)\n",
        "        c9 = F.elu(self.conv9_2(c9))\n",
        "        \n",
        "        output = torch.sigmoid(self.conv10(c9))\n",
        "        \n",
        "        return output"
      ],
      "execution_count": 14,
      "outputs": []
    },
    {
      "cell_type": "code",
      "metadata": {
        "id": "0UXJXl4zfzGj"
      },
      "source": [
        "model = UNet()\n",
        "model = model.float()\n",
        "model = model.to(device)"
      ],
      "execution_count": 15,
      "outputs": []
    },
    {
      "cell_type": "code",
      "metadata": {
        "id": "yl-qIls8gGTC"
      },
      "source": [
        "opt = optim.Adam(model.parameters(), lr = 0.001)\n",
        "loss_func = nn.BCELoss()\n",
        "lr_scheduler = optim.lr_scheduler.ReduceLROnPlateau(opt, patience = 3, verbose = 1)"
      ],
      "execution_count": 16,
      "outputs": []
    },
    {
      "cell_type": "code",
      "metadata": {
        "id": "8cb3Xn-lgMEQ"
      },
      "source": [
        "def fit(model, epochs, opt, loss_func, train_loader, valid_loader, alpha):\n",
        "\n",
        "    for epoch in range(epochs):\n",
        "        \n",
        "        #Going into training mode\n",
        "        model.train()\n",
        "        \n",
        "        train_loss = 0 \n",
        "        iou = 0\n",
        "        \n",
        "        for image, mask in train_loader:\n",
        "            image = image.to(device)   #Passing the input mini-batch to the GPU\n",
        "            mask = mask.to(device)   #Passing the label mini-batch to the GPU\n",
        "            opt.zero_grad()      #Setting the grads to zero to avoid accumulation of gradients\n",
        "            out = model(image.float())\n",
        "            loss = loss_func(out.float(), mask.float())    \n",
        "            train_loss += loss\n",
        "            \n",
        "            iou += iou_metric(out, mask)\n",
        "            iou_rev = 16 - iou_metric(out, mask)\n",
        "            loss += alpha * iou_rev\n",
        "            \n",
        "            loss.backward()\n",
        "            opt.step()\n",
        "        \n",
        "        lr_scheduler.step(train_loss/len(train_loader))   #Setting up lr decay  \n",
        "        \n",
        "        model.eval()            #Going into eval mode                            \n",
        "        with torch.no_grad():   #No backprop\n",
        "            valid_loss = 0\n",
        "            valid_iou = 0\n",
        "            \n",
        "            for image_val, mask_val in valid_loader:\n",
        "                image_val = image_val.to(device)  \n",
        "                mask_val = mask_val.to(device)\n",
        "                out_val = model(image_val.float())\n",
        "                valid_loss += loss_func(out_val.float(), mask_val.float())\n",
        "                \n",
        "                valid_iou += iou_metric(out_val, mask_val)\n",
        "        \n",
        "        print(\"Epoch \", epoch + 1, \" Training Loss: \", train_loss/len(train_loader), \"CV Loss: \", valid_loss/len(valid_loader))\n",
        "        print(\"Training IoU: \", iou/len(train_loader), \"CV IoU: \", valid_iou/len(valid_loader))\n",
        "\n"
      ],
      "execution_count": 17,
      "outputs": []
    },
    {
      "cell_type": "code",
      "metadata": {
        "colab": {
          "base_uri": "https://localhost:8080/"
        },
        "id": "WcYrY1iWgRon",
        "outputId": "ca9f0393-3d49-4180-87cc-fdaa67b4c214"
      },
      "source": [
        "fit(model, 30, opt, loss_func, train_loader, valid_loader, 5)"
      ],
      "execution_count": 18,
      "outputs": [
        {
          "output_type": "stream",
          "text": [
            "/usr/local/lib/python3.7/dist-packages/torch/nn/functional.py:718: UserWarning: Named tensors and all their associated APIs are an experimental feature and subject to change. Please do not use them for anything important until they are released as stable. (Triggered internally at  /pytorch/c10/core/TensorImpl.h:1156.)\n",
            "  return torch.max_pool2d(input, kernel_size, stride, padding, dilation, ceil_mode)\n"
          ],
          "name": "stderr"
        },
        {
          "output_type": "stream",
          "text": [
            "Epoch  1  Training Loss:  tensor(0.4600, device='cuda:0', grad_fn=<DivBackward0>) CV Loss:  tensor(0.3181, device='cuda:0')\n",
            "Training IoU:  0.0006315814526173939 CV IoU:  0.0\n",
            "Epoch  2  Training Loss:  tensor(0.2956, device='cuda:0', grad_fn=<DivBackward0>) CV Loss:  tensor(0.3351, device='cuda:0')\n",
            "Training IoU:  0.0 CV IoU:  0.0\n",
            "Epoch  3  Training Loss:  tensor(0.2874, device='cuda:0', grad_fn=<DivBackward0>) CV Loss:  tensor(0.3057, device='cuda:0')\n",
            "Training IoU:  0.0 CV IoU:  0.0\n",
            "Epoch  4  Training Loss:  tensor(0.2895, device='cuda:0', grad_fn=<DivBackward0>) CV Loss:  tensor(0.3156, device='cuda:0')\n",
            "Training IoU:  0.0 CV IoU:  0.0\n",
            "Epoch  5  Training Loss:  tensor(0.2941, device='cuda:0', grad_fn=<DivBackward0>) CV Loss:  tensor(0.2969, device='cuda:0')\n",
            "Training IoU:  0.0 CV IoU:  0.0\n",
            "Epoch  6  Training Loss:  tensor(0.2908, device='cuda:0', grad_fn=<DivBackward0>) CV Loss:  tensor(0.3053, device='cuda:0')\n",
            "Training IoU:  6.990204976674759e-05 CV IoU:  2.709048570353885e-05\n",
            "Epoch  7  Training Loss:  tensor(0.2816, device='cuda:0', grad_fn=<DivBackward0>) CV Loss:  tensor(0.3151, device='cuda:0')\n",
            "Training IoU:  0.0008379029510264535 CV IoU:  3.13326263863727e-05\n",
            "Epoch  8  Training Loss:  tensor(5.0300, device='cuda:0', grad_fn=<DivBackward0>) CV Loss:  tensor(0.3151, device='cuda:0')\n",
            "Training IoU:  0.006623768110302036 CV IoU:  0.00021780595413187697\n",
            "Epoch  9  Training Loss:  tensor(0.2822, device='cuda:0', grad_fn=<DivBackward0>) CV Loss:  tensor(0.3023, device='cuda:0')\n",
            "Training IoU:  0.001392987392739073 CV IoU:  3.8228333968955085e-05\n",
            "Epoch  10  Training Loss:  tensor(0.3051, device='cuda:0', grad_fn=<DivBackward0>) CV Loss:  tensor(0.3012, device='cuda:0')\n",
            "Training IoU:  0.002609046168749394 CV IoU:  0.0003987203627074915\n",
            "Epoch    11: reducing learning rate of group 0 to 1.0000e-04.\n",
            "Epoch  11  Training Loss:  tensor(0.2966, device='cuda:0', grad_fn=<DivBackward0>) CV Loss:  tensor(0.3073, device='cuda:0')\n",
            "Training IoU:  0.0038022727000124267 CV IoU:  0.0004981967105982709\n",
            "Epoch  12  Training Loss:  tensor(0.2713, device='cuda:0', grad_fn=<DivBackward0>) CV Loss:  tensor(0.2835, device='cuda:0')\n",
            "Training IoU:  nan CV IoU:  nan\n",
            "Epoch  13  Training Loss:  tensor(0.2743, device='cuda:0', grad_fn=<DivBackward0>) CV Loss:  tensor(0.2779, device='cuda:0')\n",
            "Training IoU:  0.004758559605680687 CV IoU:  5.146262744694197e-05\n",
            "Epoch  14  Training Loss:  tensor(0.2781, device='cuda:0', grad_fn=<DivBackward0>) CV Loss:  tensor(0.2613, device='cuda:0')\n",
            "Training IoU:  0.0023634673942704056 CV IoU:  7.31008164667764e-05\n",
            "Epoch  15  Training Loss:  tensor(0.2616, device='cuda:0', grad_fn=<DivBackward0>) CV Loss:  tensor(0.2738, device='cuda:0')\n",
            "Training IoU:  nan CV IoU:  0.0007358991173380848\n",
            "Epoch  16  Training Loss:  tensor(0.2855, device='cuda:0', grad_fn=<DivBackward0>) CV Loss:  tensor(0.2825, device='cuda:0')\n",
            "Training IoU:  0.004328048060051891 CV IoU:  0.0020175856821044837\n",
            "Epoch  17  Training Loss:  tensor(0.2783, device='cuda:0', grad_fn=<DivBackward0>) CV Loss:  tensor(0.3064, device='cuda:0')\n",
            "Training IoU:  nan CV IoU:  0.0003047285137046967\n",
            "Epoch  18  Training Loss:  tensor(0.2820, device='cuda:0', grad_fn=<DivBackward0>) CV Loss:  tensor(0.3138, device='cuda:0')\n",
            "Training IoU:  0.003413119699925668 CV IoU:  0.0008060283159846617\n",
            "Epoch  19  Training Loss:  tensor(0.2603, device='cuda:0', grad_fn=<DivBackward0>) CV Loss:  tensor(0.2985, device='cuda:0')\n",
            "Training IoU:  0.005912137826771955 CV IoU:  8.878851792728891e-05\n",
            "Epoch  20  Training Loss:  tensor(0.2565, device='cuda:0', grad_fn=<DivBackward0>) CV Loss:  tensor(0.2820, device='cuda:0')\n",
            "Training IoU:  0.004601442105142131 CV IoU:  0.0006962395916818934\n",
            "Epoch  21  Training Loss:  tensor(0.2722, device='cuda:0', grad_fn=<DivBackward0>) CV Loss:  tensor(0.3091, device='cuda:0')\n",
            "Training IoU:  0.004763410445783538 CV IoU:  0.00028113946457972047\n",
            "Epoch  22  Training Loss:  tensor(0.2776, device='cuda:0', grad_fn=<DivBackward0>) CV Loss:  tensor(0.2818, device='cuda:0')\n",
            "Training IoU:  0.010048752065088217 CV IoU:  0.000559449235544524\n",
            "Epoch  23  Training Loss:  tensor(0.2625, device='cuda:0', grad_fn=<DivBackward0>) CV Loss:  tensor(0.3035, device='cuda:0')\n",
            "Training IoU:  0.006782345695001197 CV IoU:  0.0004935275882293101\n",
            "Epoch  24  Training Loss:  tensor(0.2560, device='cuda:0', grad_fn=<DivBackward0>) CV Loss:  tensor(0.2445, device='cuda:0')\n",
            "Training IoU:  nan CV IoU:  0.0005506231416257505\n",
            "Epoch  25  Training Loss:  tensor(0.2572, device='cuda:0', grad_fn=<DivBackward0>) CV Loss:  tensor(0.2818, device='cuda:0')\n",
            "Training IoU:  nan CV IoU:  0.0005273488501107272\n",
            "Epoch  26  Training Loss:  tensor(0.2729, device='cuda:0', grad_fn=<DivBackward0>) CV Loss:  tensor(0.2649, device='cuda:0')\n",
            "Training IoU:  0.003749812164531801 CV IoU:  5.802505991405313e-05\n",
            "Epoch  27  Training Loss:  tensor(0.2642, device='cuda:0', grad_fn=<DivBackward0>) CV Loss:  tensor(0.3008, device='cuda:0')\n",
            "Training IoU:  0.008272103927157867 CV IoU:  0.0011436003788761028\n",
            "Epoch    28: reducing learning rate of group 0 to 1.0000e-05.\n",
            "Epoch  28  Training Loss:  tensor(0.2758, device='cuda:0', grad_fn=<DivBackward0>) CV Loss:  tensor(0.2928, device='cuda:0')\n",
            "Training IoU:  0.008384724463889067 CV IoU:  0.001083096228531734\n",
            "Epoch  29  Training Loss:  tensor(0.2565, device='cuda:0', grad_fn=<DivBackward0>) CV Loss:  tensor(0.2628, device='cuda:0')\n",
            "Training IoU:  0.005174074998866379 CV IoU:  0.0005537598855931182\n",
            "Epoch  30  Training Loss:  tensor(0.2742, device='cuda:0', grad_fn=<DivBackward0>) CV Loss:  tensor(0.3228, device='cuda:0')\n",
            "Training IoU:  0.005967808705999441 CV IoU:  2.26169426206782e-05\n"
          ],
          "name": "stdout"
        }
      ]
    },
    {
      "cell_type": "code",
      "metadata": {
        "id": "ZZQVH2vao_Iz"
      },
      "source": [
        ""
      ],
      "execution_count": 19,
      "outputs": []
    }
  ]
}