{
  "nbformat": 4,
  "nbformat_minor": 0,
  "metadata": {
    "colab": {
      "name": "semseg_trial1.ipynb",
      "provenance": [],
      "mount_file_id": "1OaraQ5waBunWYaWEsYdOrQLX0C3teKB-",
      "authorship_tag": "ABX9TyP01JA1WzNRyMaigptDoUjj",
      "include_colab_link": true
    },
    "kernelspec": {
      "name": "python3",
      "display_name": "Python 3"
    },
    "language_info": {
      "name": "python"
    },
    "widgets": {
      "application/vnd.jupyter.widget-state+json": {
        "0bf5461a2caa4472a02387b0aa34b220": {
          "model_module": "@jupyter-widgets/controls",
          "model_name": "HBoxModel",
          "state": {
            "_view_name": "HBoxView",
            "_dom_classes": [],
            "_model_name": "HBoxModel",
            "_view_module": "@jupyter-widgets/controls",
            "_model_module_version": "1.5.0",
            "_view_count": null,
            "_view_module_version": "1.5.0",
            "box_style": "",
            "layout": "IPY_MODEL_12d18b280c4e429f9d5a9b1ea41c9f58",
            "_model_module": "@jupyter-widgets/controls",
            "children": [
              "IPY_MODEL_3583ee3a0d3541c1958e08a7ca5fbd00",
              "IPY_MODEL_5ea62ad431924b5eae155f44c5b9e7fa"
            ]
          }
        },
        "12d18b280c4e429f9d5a9b1ea41c9f58": {
          "model_module": "@jupyter-widgets/base",
          "model_name": "LayoutModel",
          "state": {
            "_view_name": "LayoutView",
            "grid_template_rows": null,
            "right": null,
            "justify_content": null,
            "_view_module": "@jupyter-widgets/base",
            "overflow": null,
            "_model_module_version": "1.2.0",
            "_view_count": null,
            "flex_flow": null,
            "width": null,
            "min_width": null,
            "border": null,
            "align_items": null,
            "bottom": null,
            "_model_module": "@jupyter-widgets/base",
            "top": null,
            "grid_column": null,
            "overflow_y": null,
            "overflow_x": null,
            "grid_auto_flow": null,
            "grid_area": null,
            "grid_template_columns": null,
            "flex": null,
            "_model_name": "LayoutModel",
            "justify_items": null,
            "grid_row": null,
            "max_height": null,
            "align_content": null,
            "visibility": null,
            "align_self": null,
            "height": null,
            "min_height": null,
            "padding": null,
            "grid_auto_rows": null,
            "grid_gap": null,
            "max_width": null,
            "order": null,
            "_view_module_version": "1.2.0",
            "grid_template_areas": null,
            "object_position": null,
            "object_fit": null,
            "grid_auto_columns": null,
            "margin": null,
            "display": null,
            "left": null
          }
        },
        "3583ee3a0d3541c1958e08a7ca5fbd00": {
          "model_module": "@jupyter-widgets/controls",
          "model_name": "FloatProgressModel",
          "state": {
            "_view_name": "ProgressView",
            "style": "IPY_MODEL_73842f30532b47a088c449a777ebca57",
            "_dom_classes": [],
            "description": "100%",
            "_model_name": "FloatProgressModel",
            "bar_style": "success",
            "max": 258,
            "_view_module": "@jupyter-widgets/controls",
            "_model_module_version": "1.5.0",
            "value": 258,
            "_view_count": null,
            "_view_module_version": "1.5.0",
            "orientation": "horizontal",
            "min": 0,
            "description_tooltip": null,
            "_model_module": "@jupyter-widgets/controls",
            "layout": "IPY_MODEL_1ea7ac622d9844d7b6dd6d4489d7418d"
          }
        },
        "5ea62ad431924b5eae155f44c5b9e7fa": {
          "model_module": "@jupyter-widgets/controls",
          "model_name": "HTMLModel",
          "state": {
            "_view_name": "HTMLView",
            "style": "IPY_MODEL_4dde60e07a754af28b5d78ed38f8ac34",
            "_dom_classes": [],
            "description": "",
            "_model_name": "HTMLModel",
            "placeholder": "​",
            "_view_module": "@jupyter-widgets/controls",
            "_model_module_version": "1.5.0",
            "value": " 258/258 [03:41&lt;00:00,  1.16it/s]",
            "_view_count": null,
            "_view_module_version": "1.5.0",
            "description_tooltip": null,
            "_model_module": "@jupyter-widgets/controls",
            "layout": "IPY_MODEL_7100f625ecf4475ebea2fa7d54400db2"
          }
        },
        "73842f30532b47a088c449a777ebca57": {
          "model_module": "@jupyter-widgets/controls",
          "model_name": "ProgressStyleModel",
          "state": {
            "_view_name": "StyleView",
            "_model_name": "ProgressStyleModel",
            "description_width": "initial",
            "_view_module": "@jupyter-widgets/base",
            "_model_module_version": "1.5.0",
            "_view_count": null,
            "_view_module_version": "1.2.0",
            "bar_color": null,
            "_model_module": "@jupyter-widgets/controls"
          }
        },
        "1ea7ac622d9844d7b6dd6d4489d7418d": {
          "model_module": "@jupyter-widgets/base",
          "model_name": "LayoutModel",
          "state": {
            "_view_name": "LayoutView",
            "grid_template_rows": null,
            "right": null,
            "justify_content": null,
            "_view_module": "@jupyter-widgets/base",
            "overflow": null,
            "_model_module_version": "1.2.0",
            "_view_count": null,
            "flex_flow": null,
            "width": null,
            "min_width": null,
            "border": null,
            "align_items": null,
            "bottom": null,
            "_model_module": "@jupyter-widgets/base",
            "top": null,
            "grid_column": null,
            "overflow_y": null,
            "overflow_x": null,
            "grid_auto_flow": null,
            "grid_area": null,
            "grid_template_columns": null,
            "flex": null,
            "_model_name": "LayoutModel",
            "justify_items": null,
            "grid_row": null,
            "max_height": null,
            "align_content": null,
            "visibility": null,
            "align_self": null,
            "height": null,
            "min_height": null,
            "padding": null,
            "grid_auto_rows": null,
            "grid_gap": null,
            "max_width": null,
            "order": null,
            "_view_module_version": "1.2.0",
            "grid_template_areas": null,
            "object_position": null,
            "object_fit": null,
            "grid_auto_columns": null,
            "margin": null,
            "display": null,
            "left": null
          }
        },
        "4dde60e07a754af28b5d78ed38f8ac34": {
          "model_module": "@jupyter-widgets/controls",
          "model_name": "DescriptionStyleModel",
          "state": {
            "_view_name": "StyleView",
            "_model_name": "DescriptionStyleModel",
            "description_width": "",
            "_view_module": "@jupyter-widgets/base",
            "_model_module_version": "1.5.0",
            "_view_count": null,
            "_view_module_version": "1.2.0",
            "_model_module": "@jupyter-widgets/controls"
          }
        },
        "7100f625ecf4475ebea2fa7d54400db2": {
          "model_module": "@jupyter-widgets/base",
          "model_name": "LayoutModel",
          "state": {
            "_view_name": "LayoutView",
            "grid_template_rows": null,
            "right": null,
            "justify_content": null,
            "_view_module": "@jupyter-widgets/base",
            "overflow": null,
            "_model_module_version": "1.2.0",
            "_view_count": null,
            "flex_flow": null,
            "width": null,
            "min_width": null,
            "border": null,
            "align_items": null,
            "bottom": null,
            "_model_module": "@jupyter-widgets/base",
            "top": null,
            "grid_column": null,
            "overflow_y": null,
            "overflow_x": null,
            "grid_auto_flow": null,
            "grid_area": null,
            "grid_template_columns": null,
            "flex": null,
            "_model_name": "LayoutModel",
            "justify_items": null,
            "grid_row": null,
            "max_height": null,
            "align_content": null,
            "visibility": null,
            "align_self": null,
            "height": null,
            "min_height": null,
            "padding": null,
            "grid_auto_rows": null,
            "grid_gap": null,
            "max_width": null,
            "order": null,
            "_view_module_version": "1.2.0",
            "grid_template_areas": null,
            "object_position": null,
            "object_fit": null,
            "grid_auto_columns": null,
            "margin": null,
            "display": null,
            "left": null
          }
        },
        "e13151a0d0c44c50b805bf6096ee60c0": {
          "model_module": "@jupyter-widgets/controls",
          "model_name": "HBoxModel",
          "state": {
            "_view_name": "HBoxView",
            "_dom_classes": [],
            "_model_name": "HBoxModel",
            "_view_module": "@jupyter-widgets/controls",
            "_model_module_version": "1.5.0",
            "_view_count": null,
            "_view_module_version": "1.5.0",
            "box_style": "",
            "layout": "IPY_MODEL_d5089ce98dd34ad98676d24461f639fd",
            "_model_module": "@jupyter-widgets/controls",
            "children": [
              "IPY_MODEL_19845891581744cb8a2582092c0e7fca",
              "IPY_MODEL_3201c342cf02413da26c47ba6c938c03"
            ]
          }
        },
        "d5089ce98dd34ad98676d24461f639fd": {
          "model_module": "@jupyter-widgets/base",
          "model_name": "LayoutModel",
          "state": {
            "_view_name": "LayoutView",
            "grid_template_rows": null,
            "right": null,
            "justify_content": null,
            "_view_module": "@jupyter-widgets/base",
            "overflow": null,
            "_model_module_version": "1.2.0",
            "_view_count": null,
            "flex_flow": null,
            "width": null,
            "min_width": null,
            "border": null,
            "align_items": null,
            "bottom": null,
            "_model_module": "@jupyter-widgets/base",
            "top": null,
            "grid_column": null,
            "overflow_y": null,
            "overflow_x": null,
            "grid_auto_flow": null,
            "grid_area": null,
            "grid_template_columns": null,
            "flex": null,
            "_model_name": "LayoutModel",
            "justify_items": null,
            "grid_row": null,
            "max_height": null,
            "align_content": null,
            "visibility": null,
            "align_self": null,
            "height": null,
            "min_height": null,
            "padding": null,
            "grid_auto_rows": null,
            "grid_gap": null,
            "max_width": null,
            "order": null,
            "_view_module_version": "1.2.0",
            "grid_template_areas": null,
            "object_position": null,
            "object_fit": null,
            "grid_auto_columns": null,
            "margin": null,
            "display": null,
            "left": null
          }
        },
        "19845891581744cb8a2582092c0e7fca": {
          "model_module": "@jupyter-widgets/controls",
          "model_name": "FloatProgressModel",
          "state": {
            "_view_name": "ProgressView",
            "style": "IPY_MODEL_7addb089f33e4710afb253926e54a511",
            "_dom_classes": [],
            "description": "100%",
            "_model_name": "FloatProgressModel",
            "bar_style": "success",
            "max": 83,
            "_view_module": "@jupyter-widgets/controls",
            "_model_module_version": "1.5.0",
            "value": 83,
            "_view_count": null,
            "_view_module_version": "1.5.0",
            "orientation": "horizontal",
            "min": 0,
            "description_tooltip": null,
            "_model_module": "@jupyter-widgets/controls",
            "layout": "IPY_MODEL_b6cc63f9023d49849864f403fd542c75"
          }
        },
        "3201c342cf02413da26c47ba6c938c03": {
          "model_module": "@jupyter-widgets/controls",
          "model_name": "HTMLModel",
          "state": {
            "_view_name": "HTMLView",
            "style": "IPY_MODEL_f11b3375b68e47fda08871dfd4d929ed",
            "_dom_classes": [],
            "description": "",
            "_model_name": "HTMLModel",
            "placeholder": "​",
            "_view_module": "@jupyter-widgets/controls",
            "_model_module_version": "1.5.0",
            "value": " 83/83 [01:33&lt;00:00,  1.12s/it]",
            "_view_count": null,
            "_view_module_version": "1.5.0",
            "description_tooltip": null,
            "_model_module": "@jupyter-widgets/controls",
            "layout": "IPY_MODEL_f3fb9d3a050547ffb97ef6ab1568ef38"
          }
        },
        "7addb089f33e4710afb253926e54a511": {
          "model_module": "@jupyter-widgets/controls",
          "model_name": "ProgressStyleModel",
          "state": {
            "_view_name": "StyleView",
            "_model_name": "ProgressStyleModel",
            "description_width": "initial",
            "_view_module": "@jupyter-widgets/base",
            "_model_module_version": "1.5.0",
            "_view_count": null,
            "_view_module_version": "1.2.0",
            "bar_color": null,
            "_model_module": "@jupyter-widgets/controls"
          }
        },
        "b6cc63f9023d49849864f403fd542c75": {
          "model_module": "@jupyter-widgets/base",
          "model_name": "LayoutModel",
          "state": {
            "_view_name": "LayoutView",
            "grid_template_rows": null,
            "right": null,
            "justify_content": null,
            "_view_module": "@jupyter-widgets/base",
            "overflow": null,
            "_model_module_version": "1.2.0",
            "_view_count": null,
            "flex_flow": null,
            "width": null,
            "min_width": null,
            "border": null,
            "align_items": null,
            "bottom": null,
            "_model_module": "@jupyter-widgets/base",
            "top": null,
            "grid_column": null,
            "overflow_y": null,
            "overflow_x": null,
            "grid_auto_flow": null,
            "grid_area": null,
            "grid_template_columns": null,
            "flex": null,
            "_model_name": "LayoutModel",
            "justify_items": null,
            "grid_row": null,
            "max_height": null,
            "align_content": null,
            "visibility": null,
            "align_self": null,
            "height": null,
            "min_height": null,
            "padding": null,
            "grid_auto_rows": null,
            "grid_gap": null,
            "max_width": null,
            "order": null,
            "_view_module_version": "1.2.0",
            "grid_template_areas": null,
            "object_position": null,
            "object_fit": null,
            "grid_auto_columns": null,
            "margin": null,
            "display": null,
            "left": null
          }
        },
        "f11b3375b68e47fda08871dfd4d929ed": {
          "model_module": "@jupyter-widgets/controls",
          "model_name": "DescriptionStyleModel",
          "state": {
            "_view_name": "StyleView",
            "_model_name": "DescriptionStyleModel",
            "description_width": "",
            "_view_module": "@jupyter-widgets/base",
            "_model_module_version": "1.5.0",
            "_view_count": null,
            "_view_module_version": "1.2.0",
            "_model_module": "@jupyter-widgets/controls"
          }
        },
        "f3fb9d3a050547ffb97ef6ab1568ef38": {
          "model_module": "@jupyter-widgets/base",
          "model_name": "LayoutModel",
          "state": {
            "_view_name": "LayoutView",
            "grid_template_rows": null,
            "right": null,
            "justify_content": null,
            "_view_module": "@jupyter-widgets/base",
            "overflow": null,
            "_model_module_version": "1.2.0",
            "_view_count": null,
            "flex_flow": null,
            "width": null,
            "min_width": null,
            "border": null,
            "align_items": null,
            "bottom": null,
            "_model_module": "@jupyter-widgets/base",
            "top": null,
            "grid_column": null,
            "overflow_y": null,
            "overflow_x": null,
            "grid_auto_flow": null,
            "grid_area": null,
            "grid_template_columns": null,
            "flex": null,
            "_model_name": "LayoutModel",
            "justify_items": null,
            "grid_row": null,
            "max_height": null,
            "align_content": null,
            "visibility": null,
            "align_self": null,
            "height": null,
            "min_height": null,
            "padding": null,
            "grid_auto_rows": null,
            "grid_gap": null,
            "max_width": null,
            "order": null,
            "_view_module_version": "1.2.0",
            "grid_template_areas": null,
            "object_position": null,
            "object_fit": null,
            "grid_auto_columns": null,
            "margin": null,
            "display": null,
            "left": null
          }
        },
        "21998d0e194543adbfe6bd920adea3d1": {
          "model_module": "@jupyter-widgets/controls",
          "model_name": "HBoxModel",
          "state": {
            "_view_name": "HBoxView",
            "_dom_classes": [],
            "_model_name": "HBoxModel",
            "_view_module": "@jupyter-widgets/controls",
            "_model_module_version": "1.5.0",
            "_view_count": null,
            "_view_module_version": "1.5.0",
            "box_style": "",
            "layout": "IPY_MODEL_5ac055f75f9d47be8eafe8c56801e8be",
            "_model_module": "@jupyter-widgets/controls",
            "children": [
              "IPY_MODEL_84736be3ca9047519da7443d4138791c",
              "IPY_MODEL_33dd0628c139439fbc17f04433735732"
            ]
          }
        },
        "5ac055f75f9d47be8eafe8c56801e8be": {
          "model_module": "@jupyter-widgets/base",
          "model_name": "LayoutModel",
          "state": {
            "_view_name": "LayoutView",
            "grid_template_rows": null,
            "right": null,
            "justify_content": null,
            "_view_module": "@jupyter-widgets/base",
            "overflow": null,
            "_model_module_version": "1.2.0",
            "_view_count": null,
            "flex_flow": null,
            "width": null,
            "min_width": null,
            "border": null,
            "align_items": null,
            "bottom": null,
            "_model_module": "@jupyter-widgets/base",
            "top": null,
            "grid_column": null,
            "overflow_y": null,
            "overflow_x": null,
            "grid_auto_flow": null,
            "grid_area": null,
            "grid_template_columns": null,
            "flex": null,
            "_model_name": "LayoutModel",
            "justify_items": null,
            "grid_row": null,
            "max_height": null,
            "align_content": null,
            "visibility": null,
            "align_self": null,
            "height": null,
            "min_height": null,
            "padding": null,
            "grid_auto_rows": null,
            "grid_gap": null,
            "max_width": null,
            "order": null,
            "_view_module_version": "1.2.0",
            "grid_template_areas": null,
            "object_position": null,
            "object_fit": null,
            "grid_auto_columns": null,
            "margin": null,
            "display": null,
            "left": null
          }
        },
        "84736be3ca9047519da7443d4138791c": {
          "model_module": "@jupyter-widgets/controls",
          "model_name": "FloatProgressModel",
          "state": {
            "_view_name": "ProgressView",
            "style": "IPY_MODEL_5464d6c967e04c61bde56dc9e85c2aa8",
            "_dom_classes": [],
            "description": "100%",
            "_model_name": "FloatProgressModel",
            "bar_style": "success",
            "max": 69,
            "_view_module": "@jupyter-widgets/controls",
            "_model_module_version": "1.5.0",
            "value": 69,
            "_view_count": null,
            "_view_module_version": "1.5.0",
            "orientation": "horizontal",
            "min": 0,
            "description_tooltip": null,
            "_model_module": "@jupyter-widgets/controls",
            "layout": "IPY_MODEL_1d0bcd497385489ca21972340f81c1e4"
          }
        },
        "33dd0628c139439fbc17f04433735732": {
          "model_module": "@jupyter-widgets/controls",
          "model_name": "HTMLModel",
          "state": {
            "_view_name": "HTMLView",
            "style": "IPY_MODEL_862a61bb7c0c4082bbc7c55597ced760",
            "_dom_classes": [],
            "description": "",
            "_model_name": "HTMLModel",
            "placeholder": "​",
            "_view_module": "@jupyter-widgets/controls",
            "_model_module_version": "1.5.0",
            "value": " 69/69 [00:51&lt;00:00,  1.35it/s]",
            "_view_count": null,
            "_view_module_version": "1.5.0",
            "description_tooltip": null,
            "_model_module": "@jupyter-widgets/controls",
            "layout": "IPY_MODEL_bec8be24a01b48f3bdc2a04114b5165d"
          }
        },
        "5464d6c967e04c61bde56dc9e85c2aa8": {
          "model_module": "@jupyter-widgets/controls",
          "model_name": "ProgressStyleModel",
          "state": {
            "_view_name": "StyleView",
            "_model_name": "ProgressStyleModel",
            "description_width": "initial",
            "_view_module": "@jupyter-widgets/base",
            "_model_module_version": "1.5.0",
            "_view_count": null,
            "_view_module_version": "1.2.0",
            "bar_color": null,
            "_model_module": "@jupyter-widgets/controls"
          }
        },
        "1d0bcd497385489ca21972340f81c1e4": {
          "model_module": "@jupyter-widgets/base",
          "model_name": "LayoutModel",
          "state": {
            "_view_name": "LayoutView",
            "grid_template_rows": null,
            "right": null,
            "justify_content": null,
            "_view_module": "@jupyter-widgets/base",
            "overflow": null,
            "_model_module_version": "1.2.0",
            "_view_count": null,
            "flex_flow": null,
            "width": null,
            "min_width": null,
            "border": null,
            "align_items": null,
            "bottom": null,
            "_model_module": "@jupyter-widgets/base",
            "top": null,
            "grid_column": null,
            "overflow_y": null,
            "overflow_x": null,
            "grid_auto_flow": null,
            "grid_area": null,
            "grid_template_columns": null,
            "flex": null,
            "_model_name": "LayoutModel",
            "justify_items": null,
            "grid_row": null,
            "max_height": null,
            "align_content": null,
            "visibility": null,
            "align_self": null,
            "height": null,
            "min_height": null,
            "padding": null,
            "grid_auto_rows": null,
            "grid_gap": null,
            "max_width": null,
            "order": null,
            "_view_module_version": "1.2.0",
            "grid_template_areas": null,
            "object_position": null,
            "object_fit": null,
            "grid_auto_columns": null,
            "margin": null,
            "display": null,
            "left": null
          }
        },
        "862a61bb7c0c4082bbc7c55597ced760": {
          "model_module": "@jupyter-widgets/controls",
          "model_name": "DescriptionStyleModel",
          "state": {
            "_view_name": "StyleView",
            "_model_name": "DescriptionStyleModel",
            "description_width": "",
            "_view_module": "@jupyter-widgets/base",
            "_model_module_version": "1.5.0",
            "_view_count": null,
            "_view_module_version": "1.2.0",
            "_model_module": "@jupyter-widgets/controls"
          }
        },
        "bec8be24a01b48f3bdc2a04114b5165d": {
          "model_module": "@jupyter-widgets/base",
          "model_name": "LayoutModel",
          "state": {
            "_view_name": "LayoutView",
            "grid_template_rows": null,
            "right": null,
            "justify_content": null,
            "_view_module": "@jupyter-widgets/base",
            "overflow": null,
            "_model_module_version": "1.2.0",
            "_view_count": null,
            "flex_flow": null,
            "width": null,
            "min_width": null,
            "border": null,
            "align_items": null,
            "bottom": null,
            "_model_module": "@jupyter-widgets/base",
            "top": null,
            "grid_column": null,
            "overflow_y": null,
            "overflow_x": null,
            "grid_auto_flow": null,
            "grid_area": null,
            "grid_template_columns": null,
            "flex": null,
            "_model_name": "LayoutModel",
            "justify_items": null,
            "grid_row": null,
            "max_height": null,
            "align_content": null,
            "visibility": null,
            "align_self": null,
            "height": null,
            "min_height": null,
            "padding": null,
            "grid_auto_rows": null,
            "grid_gap": null,
            "max_width": null,
            "order": null,
            "_view_module_version": "1.2.0",
            "grid_template_areas": null,
            "object_position": null,
            "object_fit": null,
            "grid_auto_columns": null,
            "margin": null,
            "display": null,
            "left": null
          }
        }
      }
    }
  },
  "cells": [
    {
      "cell_type": "markdown",
      "metadata": {
        "id": "view-in-github",
        "colab_type": "text"
      },
      "source": [
        "<a href=\"https://colab.research.google.com/github/AmiOgita/memo/blob/main/semseg_trial2.ipynb\" target=\"_parent\"><img src=\"https://colab.research.google.com/assets/colab-badge.svg\" alt=\"Open In Colab\"/></a>"
      ]
    },
    {
      "cell_type": "code",
      "metadata": {
        "id": "Db5X9bgFUXNf"
      },
      "source": [
        "import pandas as pd\n",
        "import numpy as np\n",
        "import matplotlib.pyplot as plt\n",
        "%matplotlib inline\n",
        "\n",
        "import os\n",
        "from glob import glob\n",
        "import sys\n",
        "import random\n",
        "\n",
        "from tqdm import tqdm_notebook\n",
        "from skimage.io import imread, imshow\n",
        "from skimage.transform import resize\n",
        "import imageio\n",
        "\n",
        "import torch\n",
        "import torch.nn as nn\n",
        "import torch.nn.functional as F\n",
        "import torchvision.datasets as dsets\n",
        "from torch.autograd import Variable\n",
        "from torch.utils.data import DataLoader, Dataset\n",
        "import torch.optim as optim\n",
        "import torchvision.transforms as transforms\n",
        "import torchvision.transforms.functional as TF\n",
        "\n",
        "import cv2"
      ],
      "execution_count": 1,
      "outputs": []
    },
    {
      "cell_type": "code",
      "metadata": {
        "colab": {
          "base_uri": "https://localhost:8080/"
        },
        "id": "MBgmD0mCf_Rk",
        "outputId": "68f90ed2-ed0c-4c91-9b49-eef555656f10"
      },
      "source": [
        "device = torch.device('cuda' if torch.cuda.is_available() else 'cpu')\n",
        "print(device)\n",
        "\n",
        "torch.manual_seed(42)"
      ],
      "execution_count": 2,
      "outputs": [
        {
          "output_type": "stream",
          "text": [
            "cuda\n"
          ],
          "name": "stdout"
        },
        {
          "output_type": "execute_result",
          "data": {
            "text/plain": [
              "<torch._C.Generator at 0x7fee96d72790>"
            ]
          },
          "metadata": {
            "tags": []
          },
          "execution_count": 2
        }
      ]
    },
    {
      "cell_type": "code",
      "metadata": {
        "id": "gFk4znKtYKBL"
      },
      "source": [
        "im_width = 512\n",
        "im_height = 512\n",
        "im_chan = 3"
      ],
      "execution_count": 8,
      "outputs": []
    },
    {
      "cell_type": "code",
      "metadata": {
        "id": "FaDe2pyEcWTY"
      },
      "source": [
        "path_train = '/content/drive/MyDrive/train'\n",
        "path_test = '/content/drive/MyDrive/test'\n",
        "path_valid = '/content/drive/MyDrive/validation'\n",
        "\n",
        "train_path_images = os.path.abspath(path_train + \"/images/\")\n",
        "train_path_masks = os.path.abspath(path_train + \"/masks/\")\n",
        "\n",
        "test_path_images = os.path.abspath(path_test + \"/images/\")\n",
        "test_path_masks = os.path.abspath(path_test + \"/masks/\")\n",
        "\n",
        "valid_path_images = os.path.abspath(path_valid + \"/images/\")\n",
        "valid_path_masks = os.path.abspath(path_valid + \"/masks/\")"
      ],
      "execution_count": 4,
      "outputs": []
    },
    {
      "cell_type": "code",
      "metadata": {
        "id": "XHcqWkFddwXp"
      },
      "source": [
        "train_path_images_list = glob(os.path.join(train_path_images, \"*.tif\"))\n",
        "train_path_masks_list = glob(os.path.join(train_path_masks, \"*.tif\"))\n",
        "test_path_images_list = glob(os.path.join(test_path_images, \"*.tif\"))\n",
        "test_path_masks_list = glob(os.path.join(test_path_masks, \"*.tif\"))\n",
        "valid_path_images_list = glob(os.path.join(valid_path_images, \"*.tif\"))\n",
        "valid_path_masks_list = glob(os.path.join(valid_path_masks, \"*.tif\"))"
      ],
      "execution_count": 5,
      "outputs": []
    },
    {
      "cell_type": "code",
      "metadata": {
        "id": "o450AsVWd1rg"
      },
      "source": [
        "train_ids = next(os.walk(train_path_images))[2]\n",
        "test_ids = next(os.walk(test_path_images))[2]\n",
        "valid_ids = next(os.walk(valid_path_images))[2]"
      ],
      "execution_count": 6,
      "outputs": []
    },
    {
      "cell_type": "code",
      "metadata": {
        "colab": {
          "base_uri": "https://localhost:8080/",
          "height": 171,
          "referenced_widgets": [
            "0bf5461a2caa4472a02387b0aa34b220",
            "12d18b280c4e429f9d5a9b1ea41c9f58",
            "3583ee3a0d3541c1958e08a7ca5fbd00",
            "5ea62ad431924b5eae155f44c5b9e7fa",
            "73842f30532b47a088c449a777ebca57",
            "1ea7ac622d9844d7b6dd6d4489d7418d",
            "4dde60e07a754af28b5d78ed38f8ac34",
            "7100f625ecf4475ebea2fa7d54400db2"
          ]
        },
        "id": "DOiSSB7qd9jS",
        "outputId": "64d28f55-88cc-40c2-fdfc-39a5e3c4319e"
      },
      "source": [
        "X_train = np.zeros((len(train_ids), im_height, im_width, im_chan), dtype=np.uint8)\n",
        "Y_train = np.zeros((len(train_ids), im_height, im_width, 1), dtype=np.bool_)\n",
        "\n",
        "print('Getting training data...')\n",
        "\n",
        "sys.stdout.flush()\n",
        "for n, id_ in tqdm_notebook(enumerate(train_ids), total=len(train_ids)):\n",
        "    img = cv2.imread(path_train + '/images/' + id_)\n",
        "    X_train[n] = img\n",
        "    \n",
        "    mask = cv2.imread(path_train + '/masks/' + id_)\n",
        "    mask = cv2.cvtColor(mask, cv2.COLOR_BGR2GRAY)\n",
        "    ret,mask = cv2.threshold(mask,0,255,cv2.THRESH_BINARY+cv2.THRESH_OTSU)\n",
        "    mask = mask[:, :, np.newaxis]\n",
        "    Y_train[n] = mask\n",
        "    \n",
        "print('Done!')"
      ],
      "execution_count": 9,
      "outputs": [
        {
          "output_type": "stream",
          "text": [
            "Getting training data...\n"
          ],
          "name": "stdout"
        },
        {
          "output_type": "stream",
          "text": [
            "/usr/local/lib/python3.7/dist-packages/ipykernel_launcher.py:7: TqdmDeprecationWarning: This function will be removed in tqdm==5.0.0\n",
            "Please use `tqdm.notebook.tqdm` instead of `tqdm.tqdm_notebook`\n",
            "  import sys\n"
          ],
          "name": "stderr"
        },
        {
          "output_type": "display_data",
          "data": {
            "application/vnd.jupyter.widget-view+json": {
              "model_id": "0bf5461a2caa4472a02387b0aa34b220",
              "version_minor": 0,
              "version_major": 2
            },
            "text/plain": [
              "HBox(children=(FloatProgress(value=0.0, max=258.0), HTML(value='')))"
            ]
          },
          "metadata": {
            "tags": []
          }
        },
        {
          "output_type": "stream",
          "text": [
            "\n",
            "Done!\n"
          ],
          "name": "stdout"
        }
      ]
    },
    {
      "cell_type": "code",
      "metadata": {
        "colab": {
          "base_uri": "https://localhost:8080/",
          "height": 171,
          "referenced_widgets": [
            "e13151a0d0c44c50b805bf6096ee60c0",
            "d5089ce98dd34ad98676d24461f639fd",
            "19845891581744cb8a2582092c0e7fca",
            "3201c342cf02413da26c47ba6c938c03",
            "7addb089f33e4710afb253926e54a511",
            "b6cc63f9023d49849864f403fd542c75",
            "f11b3375b68e47fda08871dfd4d929ed",
            "f3fb9d3a050547ffb97ef6ab1568ef38"
          ]
        },
        "id": "FEQ7UMdKeSoz",
        "outputId": "ccdc2225-2ad8-4bc6-83a3-72e3621a30bc"
      },
      "source": [
        "X_test = np.zeros((len(test_ids), im_height, im_width, im_chan), dtype=np.uint8)\n",
        "Y_test = np.zeros((len(test_ids), im_height, im_width, 1), dtype=np.bool_)\n",
        "\n",
        "print('Getting testing data...')\n",
        "\n",
        "sys.stdout.flush()\n",
        "for n, id_ in tqdm_notebook(enumerate(test_ids), total=len(test_ids)):\n",
        "    img = cv2.imread(path_test + '/images/' + id_)\n",
        "    X_test[n] = img\n",
        "    \n",
        "    mask = cv2.imread(path_test + '/masks/' + id_)\n",
        "    mask = cv2.cvtColor(mask, cv2.COLOR_BGR2GRAY)\n",
        "    ret,mask = cv2.threshold(mask,0,255,cv2.THRESH_BINARY+cv2.THRESH_OTSU)\n",
        "    mask = np.resize(mask,(512,512))\n",
        "    mask = mask[:, :, np.newaxis]\n",
        "    \n",
        "    Y_test[n] = mask\n",
        "    \n",
        "print('Done!')"
      ],
      "execution_count": 10,
      "outputs": [
        {
          "output_type": "stream",
          "text": [
            "Getting testing data...\n"
          ],
          "name": "stdout"
        },
        {
          "output_type": "stream",
          "text": [
            "/usr/local/lib/python3.7/dist-packages/ipykernel_launcher.py:7: TqdmDeprecationWarning: This function will be removed in tqdm==5.0.0\n",
            "Please use `tqdm.notebook.tqdm` instead of `tqdm.tqdm_notebook`\n",
            "  import sys\n"
          ],
          "name": "stderr"
        },
        {
          "output_type": "display_data",
          "data": {
            "application/vnd.jupyter.widget-view+json": {
              "model_id": "e13151a0d0c44c50b805bf6096ee60c0",
              "version_minor": 0,
              "version_major": 2
            },
            "text/plain": [
              "HBox(children=(FloatProgress(value=0.0, max=83.0), HTML(value='')))"
            ]
          },
          "metadata": {
            "tags": []
          }
        },
        {
          "output_type": "stream",
          "text": [
            "\n",
            "Done!\n"
          ],
          "name": "stdout"
        }
      ]
    },
    {
      "cell_type": "code",
      "metadata": {
        "colab": {
          "base_uri": "https://localhost:8080/",
          "height": 171,
          "referenced_widgets": [
            "21998d0e194543adbfe6bd920adea3d1",
            "5ac055f75f9d47be8eafe8c56801e8be",
            "84736be3ca9047519da7443d4138791c",
            "33dd0628c139439fbc17f04433735732",
            "5464d6c967e04c61bde56dc9e85c2aa8",
            "1d0bcd497385489ca21972340f81c1e4",
            "862a61bb7c0c4082bbc7c55597ced760",
            "bec8be24a01b48f3bdc2a04114b5165d"
          ]
        },
        "id": "MJXIKiUaeOTF",
        "outputId": "e4753837-02e0-4f04-c48a-8c7e0d5b5662"
      },
      "source": [
        "X_valid = np.zeros((len(valid_ids), im_height, im_width, im_chan), dtype=np.uint8)\n",
        "Y_valid = np.zeros((len(valid_ids), im_height, im_width, 1), dtype=np.bool_)\n",
        "\n",
        "print('Getting validation data...')\n",
        "\n",
        "sys.stdout.flush()\n",
        "for n, id_ in tqdm_notebook(enumerate(valid_ids), total=len(valid_ids)):\n",
        "    img = cv2.imread(path_valid + '/images/' + id_)\n",
        "    X_valid[n] = img\n",
        "    \n",
        "    mask = cv2.imread(path_valid + '/masks/' + id_)\n",
        "    mask = cv2.cvtColor(mask, cv2.COLOR_BGR2GRAY)\n",
        "    mask = np.resize(mask,(512,512))\n",
        "    mask = mask[:, :, np.newaxis]\n",
        "    Y_valid[n] = mask\n",
        "\n",
        "    \n",
        "print('Done!')"
      ],
      "execution_count": 11,
      "outputs": [
        {
          "output_type": "stream",
          "text": [
            "Getting validation data...\n"
          ],
          "name": "stdout"
        },
        {
          "output_type": "stream",
          "text": [
            "/usr/local/lib/python3.7/dist-packages/ipykernel_launcher.py:7: TqdmDeprecationWarning: This function will be removed in tqdm==5.0.0\n",
            "Please use `tqdm.notebook.tqdm` instead of `tqdm.tqdm_notebook`\n",
            "  import sys\n"
          ],
          "name": "stderr"
        },
        {
          "output_type": "display_data",
          "data": {
            "application/vnd.jupyter.widget-view+json": {
              "model_id": "21998d0e194543adbfe6bd920adea3d1",
              "version_minor": 0,
              "version_major": 2
            },
            "text/plain": [
              "HBox(children=(FloatProgress(value=0.0, max=69.0), HTML(value='')))"
            ]
          },
          "metadata": {
            "tags": []
          }
        },
        {
          "output_type": "stream",
          "text": [
            "\n",
            "Done!\n"
          ],
          "name": "stdout"
        }
      ]
    },
    {
      "cell_type": "code",
      "metadata": {
        "id": "KbksxRqQfdSh"
      },
      "source": [
        "class Nuc_Seg(Dataset):\n",
        "    def __init__(self, images_np, masks_np):\n",
        "        self.images_np = images_np\n",
        "        self.masks_np = masks_np\n",
        "    \n",
        "    def transform(self, image_np, mask_np):\n",
        "        ToPILImage = transforms.ToPILImage()\n",
        "        image = ToPILImage(image_np)\n",
        "        mask = ToPILImage(mask_np.astype(np.int32))\n",
        "        \n",
        "        image = TF.pad(image, padding = 20, padding_mode = 'reflect')\n",
        "        mask = TF.pad(mask, padding = 20, padding_mode = 'reflect')\n",
        "        \n",
        "        angle = random.uniform(-10, 10)\n",
        "        width, height = image.size\n",
        "        max_dx = 0.1 * width\n",
        "        max_dy = 0.1 * height\n",
        "        translations = (np.round(random.uniform(-max_dx, max_dx)), np.round(random.uniform(-max_dy, max_dy)))\n",
        "        scale = random.uniform(0.8, 1.2)\n",
        "        shear = random.uniform(-0.5, 0.5)\n",
        "        image = TF.affine(image, angle = angle, translate = translations, scale = scale, shear = shear)\n",
        "        mask = TF.affine(mask, angle = angle, translate = translations, scale = scale, shear = shear)\n",
        "        \n",
        "        image = TF.center_crop(image, (512, 512))\n",
        "        mask = TF.center_crop(mask, (512, 512))\n",
        "        \n",
        "        image = TF.to_tensor(image)\n",
        "        mask = TF.to_tensor(mask)\n",
        "        return image, mask\n",
        "        \n",
        "    def __len__(self):\n",
        "        return len(self.images_np)\n",
        "    \n",
        "    def __getitem__(self, idx):\n",
        "        image_np = self.images_np[idx]\n",
        "        mask_np = self.masks_np[idx]\n",
        "        image, mask = self.transform(image_np, mask_np)\n",
        "        \n",
        "        return image, mask "
      ],
      "execution_count": 12,
      "outputs": []
    },
    {
      "cell_type": "code",
      "metadata": {
        "id": "PDGFM8EGffI5"
      },
      "source": [
        "train_dataset = Nuc_Seg(X_train, Y_train)\n",
        "train_loader = DataLoader(train_dataset, batch_size = 16, shuffle = True)\n",
        "\n",
        "test_dataset = Nuc_Seg(X_test, Y_test)\n",
        "test_loader = DataLoader(test_dataset, batch_size = 16, shuffle = True)\n",
        "\n",
        "valid_dataset = Nuc_Seg(X_valid, Y_valid)\n",
        "valid_loader = DataLoader(valid_dataset, batch_size = 16, shuffle = True)"
      ],
      "execution_count": 13,
      "outputs": []
    },
    {
      "cell_type": "code",
      "metadata": {
        "id": "mtFojzs2fmcT"
      },
      "source": [
        "def iou(pred, target, n_classes = 2):\n",
        "    \n",
        "    iou = []\n",
        "    pred = pred.view(-1)\n",
        "    target = target.view(-1)\n",
        "\n",
        "    # Ignore IoU for background class (\"0\")\n",
        "    for cls in range(1, n_classes):  # This goes from 1:n_classes-1 -> class \"0\" is ignored\n",
        "      pred_inds = pred == cls\n",
        "      target_inds = target == cls\n",
        "      intersection = (pred_inds[target_inds]).long().sum().data.cpu().item()  # Cast to long to prevent overflows\n",
        "      union = pred_inds.long().sum().data.cpu().item() + target_inds.long().sum().data.cpu().item() - intersection\n",
        "    \n",
        "      if union == 0:\n",
        "        iou.append(float('nan'))  # If there is no ground truth, do not include in evaluation\n",
        "      else:\n",
        "        iou.append(float(intersection) / float(max(union, 1)))\n",
        "     \n",
        "    return sum(iou)"
      ],
      "execution_count": 14,
      "outputs": []
    },
    {
      "cell_type": "code",
      "metadata": {
        "id": "ouKp8x1xfndp"
      },
      "source": [
        "def iou_metric(y_pred, y_true, n_classes = 2):\n",
        "    miou = []\n",
        "    for i in np.arange(0.5, 1.0, 0.05):\n",
        "        y_pred_ = (y_pred > i)\n",
        "        iou_init = iou(y_pred_, y_true, n_classes = n_classes)\n",
        "        miou.append(iou_init)\n",
        "    \n",
        "    return sum(miou)/len(miou)"
      ],
      "execution_count": 15,
      "outputs": []
    },
    {
      "cell_type": "code",
      "metadata": {
        "id": "nWKsYQBnfwBT"
      },
      "source": [
        "class UNet(nn.Module):\n",
        "    \n",
        "    def __init__(self):\n",
        "        super().__init__()\n",
        "        \n",
        "        self.conv1_1 = nn.Conv2d(3, 16, kernel_size = 3, padding = 1)\n",
        "        self.drop1_1 = nn.Dropout2d(0.1)\n",
        "        self.conv1_2 = nn.Conv2d(16, 16, kernel_size = 3, padding = 1)\n",
        "        \n",
        "        self.conv2_1 = nn.Conv2d(16, 32, kernel_size = 3, padding = 1)\n",
        "        self.drop2_1 = nn.Dropout2d(0.1)\n",
        "        self.conv2_2 = nn.Conv2d(32, 32, kernel_size = 3, padding = 1)\n",
        "        \n",
        "        self.conv3_1 = nn.Conv2d(32, 64, kernel_size = 3, padding = 1)\n",
        "        self.drop3_1 = nn.Dropout2d(0.2)\n",
        "        self.conv3_2 = nn.Conv2d(64, 64, kernel_size = 3, padding = 1)\n",
        "        \n",
        "        self.conv4_1 = nn.Conv2d(64, 128, kernel_size = 3, padding = 1)\n",
        "        self.drop4_1 = nn.Dropout2d(0.2)\n",
        "        self.conv4_2 = nn.Conv2d(128, 128, kernel_size = 3, padding = 1)\n",
        "        \n",
        "        self.conv5_1 = nn.Conv2d(128, 256, kernel_size = 3, padding = 1)\n",
        "        self.drop5_1 = nn.Dropout2d(0.3)\n",
        "        self.conv5_2 = nn.Conv2d(256, 256, kernel_size = 3, padding = 1)\n",
        "        \n",
        "        self.conv_trans6_1 = nn.ConvTranspose2d(256, 128, kernel_size = 2, stride = (2, 2))\n",
        "        self.conv6_1 = nn.Conv2d(256, 128, kernel_size = 3, padding = 1)\n",
        "        self.drop6_1 = nn.Dropout2d(0.2)\n",
        "        self.conv6_2 = nn.Conv2d(128, 128, kernel_size = 3, padding = 1)\n",
        "        \n",
        "        self.conv_trans7_1 = nn.ConvTranspose2d(128, 64, kernel_size = 2, stride = (2, 2))\n",
        "        self.conv7_1 = nn.Conv2d(128, 64, kernel_size = 3, padding = 1)\n",
        "        self.drop7_1 = nn.Dropout2d(0.2)\n",
        "        self.conv7_2 = nn.Conv2d(64, 64, kernel_size = 3, padding = 1)\n",
        "        \n",
        "        self.conv_trans8_1 = nn.ConvTranspose2d(64, 32, kernel_size = 2, stride = (2, 2))\n",
        "        self.conv8_1 = nn.Conv2d(64, 32, kernel_size = 3, padding = 1)\n",
        "        self.drop8_1 = nn.Dropout2d(0.1)\n",
        "        self.conv8_2 = nn.Conv2d(32, 32, kernel_size = 3, padding = 1)\n",
        "        \n",
        "        self.conv_trans9_1 = nn.ConvTranspose2d(32, 16, kernel_size = 2, stride = (2, 2))\n",
        "        self.conv9_1 = nn.Conv2d(32, 16, kernel_size = 3, padding = 1)\n",
        "        self.drop9_1 = nn.Dropout2d(0.1)\n",
        "        self.conv9_2 = nn.Conv2d(16, 16, kernel_size = 3, padding = 1)\n",
        "        \n",
        "        self.conv10 = nn.Conv2d(16, 1, kernel_size = 3, padding = 1)\n",
        "    \n",
        "    def forward(self, s):\n",
        "        \n",
        "        c1 = F.elu(self.conv1_1(s))\n",
        "        c1 = self.drop1_1(c1)\n",
        "        c1 = F.elu(self.conv1_2(c1))\n",
        "        p1 = F.max_pool2d(c1, kernel_size = (2, 2), stride = 2)\n",
        "        \n",
        "        c2 = F.elu(self.conv2_1(p1))\n",
        "        c2 = self.drop2_1(c2)\n",
        "        c2 = F.elu(self.conv2_2(c2))\n",
        "        p2 = F.max_pool2d(c2, kernel_size = (2, 2), stride = 2)\n",
        "        \n",
        "        c3 = F.elu(self.conv3_1(p2))\n",
        "        c3 = self.drop3_1(c3)\n",
        "        c3 = F.elu(self.conv3_2(c3))\n",
        "        p3 = F.max_pool2d(c3, kernel_size = (2, 2), stride = 2)\n",
        "        \n",
        "        c4 = F.elu(self.conv4_1(p3))\n",
        "        c4 = self.drop4_1(c4)\n",
        "        c4 = F.elu(self.conv4_2(c4))\n",
        "        p4 = F.max_pool2d(c4, kernel_size = (2, 2), stride = 2)\n",
        "        \n",
        "        c5 = F.elu(self.conv5_1(p4))\n",
        "        c5 = self.drop5_1(c5)\n",
        "        c5 = F.elu(self.conv5_2(c5))\n",
        "        \n",
        "        u6 = self.conv_trans6_1(c5)\n",
        "        u6 = torch.cat((u6, c4), axis = 1)\n",
        "        c6 = F.elu(self.conv6_1(u6))\n",
        "        c6 = self.drop6_1(c6)\n",
        "        c6 = F.elu(self.conv6_2(c6))\n",
        "        \n",
        "        u7 = self.conv_trans7_1(c6)\n",
        "        u7 = torch.cat((u7, c3), axis = 1)\n",
        "        c7 = F.elu(self.conv7_1(u7))\n",
        "        c7 = self.drop7_1(c7)\n",
        "        c7 = F.elu(self.conv7_2(c7))\n",
        "    \n",
        "        u8 = self.conv_trans8_1(c7)\n",
        "        u8 = torch.cat((u8, c2), axis = 1)\n",
        "        c8 = F.elu(self.conv8_1(u8))\n",
        "        c8 = self.drop8_1(c8)\n",
        "        c8 = F.elu(self.conv8_2(c8))\n",
        "        \n",
        "        u9 = self.conv_trans9_1(c8)\n",
        "        u9 = torch.cat((u9, c1), axis = 1)\n",
        "        c9 = F.elu(self.conv9_1(u9))\n",
        "        c9 = self.drop9_1(c9)\n",
        "        c9 = F.elu(self.conv9_2(c9))\n",
        "        \n",
        "        output = torch.sigmoid(self.conv10(c9))\n",
        "        \n",
        "        return output"
      ],
      "execution_count": 16,
      "outputs": []
    },
    {
      "cell_type": "code",
      "metadata": {
        "id": "0UXJXl4zfzGj"
      },
      "source": [
        "model = UNet()\n",
        "model = model.float()\n",
        "model = model.to(device)"
      ],
      "execution_count": 17,
      "outputs": []
    },
    {
      "cell_type": "code",
      "metadata": {
        "id": "yl-qIls8gGTC"
      },
      "source": [
        "opt = optim.Adam(model.parameters(), lr = 0.001)\n",
        "loss_func = nn.BCELoss()\n",
        "lr_scheduler = optim.lr_scheduler.ReduceLROnPlateau(opt, patience = 3, verbose = 1)"
      ],
      "execution_count": 18,
      "outputs": []
    },
    {
      "cell_type": "code",
      "metadata": {
        "id": "8cb3Xn-lgMEQ"
      },
      "source": [
        "def fit(model, epochs, opt, loss_func, train_loader, valid_loader, alpha):\n",
        "\n",
        "    for epoch in range(epochs):\n",
        "        \n",
        "        #Going into training mode\n",
        "        model.train()\n",
        "        \n",
        "        train_loss = 0 \n",
        "        iou = 0\n",
        "        \n",
        "        for image, mask in train_loader:\n",
        "            image = image.to(device)   #Passing the input mini-batch to the GPU\n",
        "            mask = mask.to(device)   #Passing the label mini-batch to the GPU\n",
        "            opt.zero_grad()      #Setting the grads to zero to avoid accumulation of gradients\n",
        "            out = model(image.float())\n",
        "            loss = loss_func(out.float(), mask.float())    \n",
        "            train_loss += loss\n",
        "            \n",
        "            iou += iou_metric(out, mask)\n",
        "            iou_rev = 16 - iou_metric(out, mask)\n",
        "            loss += alpha * iou_rev\n",
        "            \n",
        "            loss.backward()\n",
        "            opt.step()\n",
        "        \n",
        "        lr_scheduler.step(train_loss/len(train_loader))   #Setting up lr decay  \n",
        "        \n",
        "        model.eval()            #Going into eval mode                            \n",
        "        with torch.no_grad():   #No backprop\n",
        "            valid_loss = 0\n",
        "            valid_iou = 0\n",
        "            \n",
        "            for image_val, mask_val in valid_loader:\n",
        "                image_val = image_val.to(device)  \n",
        "                mask_val = mask_val.to(device)\n",
        "                out_val = model(image_val.float())\n",
        "                valid_loss += loss_func(out_val.float(), mask_val.float())\n",
        "                \n",
        "                valid_iou += iou_metric(out_val, mask_val)\n",
        "        \n",
        "        print(\"Epoch \", epoch + 1, \" Training Loss: \", train_loss/len(train_loader), \"CV Loss: \", valid_loss/len(valid_loader))\n",
        "        print(\"Training IoU: \", iou/len(train_loader), \"CV IoU: \", valid_iou/len(valid_loader))\n",
        "\n"
      ],
      "execution_count": 19,
      "outputs": []
    },
    {
      "cell_type": "code",
      "metadata": {
        "colab": {
          "base_uri": "https://localhost:8080/"
        },
        "id": "WcYrY1iWgRon",
        "outputId": "4aa45aae-c55a-4091-868d-59aa3cf2d5ff"
      },
      "source": [
        "fit(model, 30, opt, loss_func, train_loader, valid_loader, 5)"
      ],
      "execution_count": 20,
      "outputs": [
        {
          "output_type": "stream",
          "text": [
            "/usr/local/lib/python3.7/dist-packages/torch/nn/functional.py:718: UserWarning: Named tensors and all their associated APIs are an experimental feature and subject to change. Please do not use them for anything important until they are released as stable. (Triggered internally at  /pytorch/c10/core/TensorImpl.h:1156.)\n",
            "  return torch.max_pool2d(input, kernel_size, stride, padding, dilation, ceil_mode)\n"
          ],
          "name": "stderr"
        },
        {
          "output_type": "stream",
          "text": [
            "Epoch  1  Training Loss:  tensor(0.4571, device='cuda:0', grad_fn=<DivBackward0>) CV Loss:  tensor(0.2859, device='cuda:0')\n",
            "Training IoU:  0.0005736444949950033 CV IoU:  0.0\n",
            "Epoch  2  Training Loss:  tensor(0.3119, device='cuda:0', grad_fn=<DivBackward0>) CV Loss:  tensor(0.2834, device='cuda:0')\n",
            "Training IoU:  0.0 CV IoU:  0.0\n",
            "Epoch  3  Training Loss:  tensor(0.2862, device='cuda:0', grad_fn=<DivBackward0>) CV Loss:  tensor(0.2828, device='cuda:0')\n",
            "Training IoU:  0.0 CV IoU:  0.0\n",
            "Epoch  4  Training Loss:  tensor(0.2876, device='cuda:0', grad_fn=<DivBackward0>) CV Loss:  tensor(0.2989, device='cuda:0')\n",
            "Training IoU:  0.0 CV IoU:  0.0\n",
            "Epoch  5  Training Loss:  tensor(0.2874, device='cuda:0', grad_fn=<DivBackward0>) CV Loss:  tensor(0.3335, device='cuda:0')\n",
            "Training IoU:  0.0 CV IoU:  0.0\n",
            "Epoch  6  Training Loss:  tensor(0.2864, device='cuda:0', grad_fn=<DivBackward0>) CV Loss:  tensor(0.2721, device='cuda:0')\n",
            "Training IoU:  0.0008615622947106711 CV IoU:  0.00012150821761774775\n",
            "Epoch     7: reducing learning rate of group 0 to 1.0000e-04.\n",
            "Epoch  7  Training Loss:  tensor(0.2917, device='cuda:0', grad_fn=<DivBackward0>) CV Loss:  tensor(0.2875, device='cuda:0')\n",
            "Training IoU:  0.0024194336022854614 CV IoU:  2.2076556355140096e-05\n",
            "Epoch  8  Training Loss:  tensor(0.2650, device='cuda:0', grad_fn=<DivBackward0>) CV Loss:  tensor(0.2823, device='cuda:0')\n",
            "Training IoU:  0.0008970756270712024 CV IoU:  4.1985752008505555e-05\n",
            "Epoch  9  Training Loss:  tensor(0.2854, device='cuda:0', grad_fn=<DivBackward0>) CV Loss:  tensor(0.2959, device='cuda:0')\n",
            "Training IoU:  0.00186651715371564 CV IoU:  0.00027011391549390865\n",
            "Epoch  10  Training Loss:  tensor(0.2734, device='cuda:0', grad_fn=<DivBackward0>) CV Loss:  tensor(0.2982, device='cuda:0')\n",
            "Training IoU:  0.0035134729680551847 CV IoU:  8.372483941601131e-05\n",
            "Epoch  11  Training Loss:  tensor(0.2947, device='cuda:0', grad_fn=<DivBackward0>) CV Loss:  tensor(0.3291, device='cuda:0')\n",
            "Training IoU:  0.0013198025195492746 CV IoU:  0.00010525768656602154\n",
            "Epoch    12: reducing learning rate of group 0 to 1.0000e-05.\n",
            "Epoch  12  Training Loss:  tensor(0.2722, device='cuda:0', grad_fn=<DivBackward0>) CV Loss:  tensor(0.2532, device='cuda:0')\n",
            "Training IoU:  0.003643385061451295 CV IoU:  nan\n",
            "Epoch  13  Training Loss:  tensor(0.2728, device='cuda:0', grad_fn=<DivBackward0>) CV Loss:  tensor(0.2460, device='cuda:0')\n",
            "Training IoU:  0.0025556295739736666 CV IoU:  0.0001497208848506117\n",
            "Epoch  14  Training Loss:  tensor(0.2641, device='cuda:0', grad_fn=<DivBackward0>) CV Loss:  tensor(0.2702, device='cuda:0')\n",
            "Training IoU:  0.004271488273034626 CV IoU:  3.123640171152431e-05\n",
            "Epoch  15  Training Loss:  tensor(0.2685, device='cuda:0', grad_fn=<DivBackward0>) CV Loss:  tensor(0.2686, device='cuda:0')\n",
            "Training IoU:  nan CV IoU:  7.457925847341382e-05\n",
            "Epoch  16  Training Loss:  tensor(0.2828, device='cuda:0', grad_fn=<DivBackward0>) CV Loss:  tensor(0.2749, device='cuda:0')\n",
            "Training IoU:  0.0033827814934093803 CV IoU:  0.00027820125586243416\n",
            "Epoch  17  Training Loss:  tensor(0.2625, device='cuda:0', grad_fn=<DivBackward0>) CV Loss:  tensor(0.2713, device='cuda:0')\n",
            "Training IoU:  0.0034784334950400306 CV IoU:  0.00012955065402822056\n",
            "Epoch  18  Training Loss:  tensor(0.2872, device='cuda:0', grad_fn=<DivBackward0>) CV Loss:  tensor(0.2928, device='cuda:0')\n",
            "Training IoU:  0.003235727145756253 CV IoU:  0.0\n",
            "Epoch  19  Training Loss:  tensor(0.2528, device='cuda:0', grad_fn=<DivBackward0>) CV Loss:  tensor(0.2794, device='cuda:0')\n",
            "Training IoU:  0.002901652554759111 CV IoU:  3.927998501080563e-05\n",
            "Epoch  20  Training Loss:  tensor(0.2532, device='cuda:0', grad_fn=<DivBackward0>) CV Loss:  tensor(0.3224, device='cuda:0')\n",
            "Training IoU:  0.003291728310922377 CV IoU:  0.00046109968012775736\n",
            "Epoch  21  Training Loss:  tensor(0.2827, device='cuda:0', grad_fn=<DivBackward0>) CV Loss:  tensor(0.2953, device='cuda:0')\n",
            "Training IoU:  nan CV IoU:  0.0004946281186723702\n",
            "Epoch  22  Training Loss:  tensor(0.2669, device='cuda:0', grad_fn=<DivBackward0>) CV Loss:  tensor(0.2962, device='cuda:0')\n",
            "Training IoU:  0.0018905436117356105 CV IoU:  2.6711779894933662e-06\n",
            "Epoch    23: reducing learning rate of group 0 to 1.0000e-06.\n",
            "Epoch  23  Training Loss:  tensor(0.2616, device='cuda:0', grad_fn=<DivBackward0>) CV Loss:  tensor(0.2981, device='cuda:0')\n",
            "Training IoU:  0.0015278863303740393 CV IoU:  5.229232509732049e-05\n",
            "Epoch  24  Training Loss:  tensor(0.2777, device='cuda:0', grad_fn=<DivBackward0>) CV Loss:  tensor(0.2818, device='cuda:0')\n",
            "Training IoU:  0.0022879421882776967 CV IoU:  0.0001948205950082981\n",
            "Epoch  25  Training Loss:  tensor(0.2479, device='cuda:0', grad_fn=<DivBackward0>) CV Loss:  tensor(0.2762, device='cuda:0')\n",
            "Training IoU:  nan CV IoU:  0.00023916114208318308\n",
            "Epoch  26  Training Loss:  tensor(0.2787, device='cuda:0', grad_fn=<DivBackward0>) CV Loss:  tensor(0.3264, device='cuda:0')\n",
            "Training IoU:  0.0012758799218188402 CV IoU:  0.0\n",
            "Epoch  27  Training Loss:  tensor(0.2679, device='cuda:0', grad_fn=<DivBackward0>) CV Loss:  tensor(0.2927, device='cuda:0')\n",
            "Training IoU:  0.0018155417484145104 CV IoU:  0.00013878817791108147\n",
            "Epoch  28  Training Loss:  tensor(0.2777, device='cuda:0', grad_fn=<DivBackward0>) CV Loss:  tensor(0.2545, device='cuda:0')\n",
            "Training IoU:  0.003616086481806089 CV IoU:  0.00026631544725719313\n",
            "Epoch    29: reducing learning rate of group 0 to 1.0000e-07.\n",
            "Epoch  29  Training Loss:  tensor(0.2691, device='cuda:0', grad_fn=<DivBackward0>) CV Loss:  tensor(0.2703, device='cuda:0')\n",
            "Training IoU:  0.001390965937375771 CV IoU:  0.00042004758578624514\n",
            "Epoch  30  Training Loss:  tensor(0.2619, device='cuda:0', grad_fn=<DivBackward0>) CV Loss:  tensor(0.3068, device='cuda:0')\n",
            "Training IoU:  0.001115720449335365 CV IoU:  3.8384237616726266e-05\n"
          ],
          "name": "stdout"
        }
      ]
    }
  ]
}